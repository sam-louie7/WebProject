{
 "cells": [
  {
   "cell_type": "markdown",
   "id": "1d10a379",
   "metadata": {},
   "source": [
    "### OCI Data Science - Useful Tips\n",
    "<details>\n",
    "<summary><font size=\"2\">Check for Public Internet Access</font></summary>\n",
    "\n",
    "```python\n",
    "import requests\n",
    "response = requests.get(\"https://oracle.com\")\n",
    "assert response.status_code==200, \"Internet connection failed\"\n",
    "```\n",
    "</details>\n",
    "<details>\n",
    "<summary><font size=\"2\">Helpful Documentation </font></summary>\n",
    "<ul><li><a href=\"https://docs.cloud.oracle.com/en-us/iaas/data-science/using/data-science.htm\">Data Science Service Documentation</a></li>\n",
    "<li><a href=\"https://docs.cloud.oracle.com/iaas/tools/ads-sdk/latest/index.html\">ADS documentation</a></li>\n",
    "</ul>\n",
    "</details>\n",
    "<details>\n",
    "<summary><font size=\"2\">Typical Cell Imports and Settings for ADS</font></summary>\n",
    "\n",
    "```python\n",
    "%load_ext autoreload\n",
    "%autoreload 2\n",
    "%matplotlib inline\n",
    "\n",
    "import warnings\n",
    "warnings.filterwarnings('ignore')\n",
    "\n",
    "import logging\n",
    "logging.basicConfig(format='%(levelname)s:%(message)s', level=logging.ERROR)\n",
    "\n",
    "import ads\n",
    "from ads.dataset.factory import DatasetFactory\n",
    "from ads.automl.provider import OracleAutoMLProvider\n",
    "from ads.automl.driver import AutoML\n",
    "from ads.evaluations.evaluator import ADSEvaluator\n",
    "from ads.common.data import ADSData\n",
    "from ads.explanations.explainer import ADSExplainer\n",
    "from ads.explanations.mlx_global_explainer import MLXGlobalExplainer\n",
    "from ads.explanations.mlx_local_explainer import MLXLocalExplainer\n",
    "from ads.catalog.model import ModelCatalog\n",
    "from ads.common.model_artifact import ModelArtifact\n",
    "```\n",
    "</details>\n",
    "<details>\n",
    "<summary><font size=\"2\">Useful Environment Variables</font></summary>\n",
    "\n",
    "```python\n",
    "import os\n",
    "print(os.environ[\"NB_SESSION_COMPARTMENT_OCID\"])\n",
    "print(os.environ[\"PROJECT_OCID\"])\n",
    "print(os.environ[\"USER_OCID\"])\n",
    "print(os.environ[\"TENANCY_OCID\"])\n",
    "print(os.environ[\"NB_REGION\"])\n",
    "```\n",
    "</details>"
   ]
  },
  {
   "cell_type": "code",
   "execution_count": 1,
   "id": "8457fc11",
   "metadata": {},
   "outputs": [],
   "source": [
    "import numpy as np\n",
    "import pandas as pd\n",
    "import json\n",
    "import codecs\n",
    "import os\n",
    "import sys\n",
    "import datetime as dt\n",
    "sys.path.append('../')\n",
    "import oci\n",
    "import ocifs"
   ]
  },
  {
   "cell_type": "code",
   "execution_count": 34,
   "id": "789a305a",
   "metadata": {},
   "outputs": [],
   "source": [
    "from generate_data_extraction.features_functions import *\n",
    "from generate_data_extraction.reduce_feature_list import *\n",
    "from generate_data_extraction.common_columns_lists import *"
   ]
  },
  {
   "cell_type": "code",
   "execution_count": 3,
   "id": "75e93353",
   "metadata": {},
   "outputs": [],
   "source": [
    "def read2df(path):\n",
    "    df = pd.read_csv(path, low_memory=False)\n",
    "    return df    "
   ]
  },
  {
   "cell_type": "code",
   "execution_count": 4,
   "id": "8ac3695a",
   "metadata": {},
   "outputs": [
    {
     "data": {
      "text/plain": [
       "'lrhwvlagph9z'"
      ]
     },
     "execution_count": 4,
     "metadata": {},
     "output_type": "execute_result"
    }
   ],
   "source": [
    "bucket_name = \"tenen-raw-data\"\n",
    "config = oci.config.from_file(\n",
    "        \"~/.apikey/config\",\n",
    "        \"DEFAULT\")\n",
    "object_storage_client = oci.object_storage.ObjectStorageClient(config)\n",
    "namespace = object_storage_client.get_namespace().data\n",
    "namespace"
   ]
  },
  {
   "cell_type": "code",
   "execution_count": 5,
   "id": "afeaf985",
   "metadata": {},
   "outputs": [],
   "source": [
    "hl_file = {'oct' : 'tenen_high_lvl_oct.csv', 'nov': 'tenen_high_lvl_nov.csv', 'dec': 'tenen_high_lvl_dec.csv' }\n",
    "hits_file = {'oct' : 'tenen_hits_extend_oct.csv', 'nov': 'tenen_hits_extend_nov.csv', 'dec': 'tenen_hits_extend_dec.csv'}"
   ]
  },
  {
   "cell_type": "code",
   "execution_count": 16,
   "id": "e04751d1",
   "metadata": {},
   "outputs": [],
   "source": [
    "fname = hl_file['dec']"
   ]
  },
  {
   "cell_type": "code",
   "execution_count": 17,
   "id": "603ba60c",
   "metadata": {},
   "outputs": [
    {
     "data": {
      "text/plain": [
       "'oci://tenen-raw-data@lrhwvlagph9z/products/tenen_high_lvl_dec.csv'"
      ]
     },
     "execution_count": 17,
     "metadata": {},
     "output_type": "execute_result"
    }
   ],
   "source": [
    "directory = 'products'\n",
    "config = {\"config\": \"~/.apikey/config\"}\n",
    "target = f'oci://{bucket_name}@{namespace}/{directory}/{fname}'\n",
    "target"
   ]
  },
  {
   "cell_type": "code",
   "execution_count": 11,
   "id": "a3e8992f",
   "metadata": {},
   "outputs": [],
   "source": [
    "#namespace = \"lrhwvlagph9z\"\n",
    "df_tl_oct = pd.read_csv(target, storage_options={\"config\": \"~/.apikey/config\"},low_memory=False)"
   ]
  },
  {
   "cell_type": "code",
   "execution_count": 14,
   "id": "d1b03263",
   "metadata": {},
   "outputs": [],
   "source": [
    "df_tl_nov = pd.read_csv(target, storage_options={\"config\": \"~/.apikey/config\"},low_memory=False)"
   ]
  },
  {
   "cell_type": "code",
   "execution_count": 18,
   "id": "8dc43d7c",
   "metadata": {},
   "outputs": [],
   "source": [
    "df_tl_dec = pd.read_csv(target, storage_options={\"config\": \"~/.apikey/config\"},low_memory=False)"
   ]
  },
  {
   "cell_type": "code",
   "execution_count": 54,
   "id": "b42cb65f",
   "metadata": {},
   "outputs": [],
   "source": [
    "df_tl_oct['fullVisitorId'] = df_tl_oct['fullVisitorId'].astype(str)\n",
    "df_tl_nov['fullVisitorId'] = df_tl_nov['fullVisitorId'].astype(str)\n",
    "df_tl_dec['fullVisitorId'] = df_tl_dec['fullVisitorId'].astype(str)"
   ]
  },
  {
   "cell_type": "code",
   "execution_count": 20,
   "id": "862d6111",
   "metadata": {},
   "outputs": [],
   "source": [
    "df_list = [df_tl_oct, df_tl_nov, df_tl_dec]"
   ]
  },
  {
   "cell_type": "code",
   "execution_count": 55,
   "id": "b0865a46",
   "metadata": {},
   "outputs": [],
   "source": [
    "df = pd.concat(df_list, ignore_index=True)"
   ]
  },
  {
   "cell_type": "code",
   "execution_count": 56,
   "id": "cd7c80aa",
   "metadata": {},
   "outputs": [
    {
     "data": {
      "text/plain": [
       "(241188, 65)"
      ]
     },
     "execution_count": 56,
     "metadata": {},
     "output_type": "execute_result"
    }
   ],
   "source": [
    "df.shape"
   ]
  },
  {
   "cell_type": "code",
   "execution_count": 60,
   "id": "e2b95e9c",
   "metadata": {},
   "outputs": [],
   "source": [
    "numeric_cols = ['totals.hits', 'totals.pageviews', 'totals.timeOnSite']"
   ]
  },
  {
   "cell_type": "code",
   "execution_count": 61,
   "id": "ea7ba967",
   "metadata": {},
   "outputs": [],
   "source": [
    "df_tl = init_top_lvl_df(df, numeric_cols)"
   ]
  },
  {
   "cell_type": "code",
   "execution_count": 62,
   "id": "afc1942d",
   "metadata": {},
   "outputs": [
    {
     "data": {
      "text/html": [
       "<div>\n",
       "<style scoped>\n",
       "    .dataframe tbody tr th:only-of-type {\n",
       "        vertical-align: middle;\n",
       "    }\n",
       "\n",
       "    .dataframe tbody tr th {\n",
       "        vertical-align: top;\n",
       "    }\n",
       "\n",
       "    .dataframe thead th {\n",
       "        text-align: right;\n",
       "    }\n",
       "</style>\n",
       "<table border=\"1\" class=\"dataframe\">\n",
       "  <thead>\n",
       "    <tr style=\"text-align: right;\">\n",
       "      <th></th>\n",
       "      <th>visitNumber</th>\n",
       "      <th>visitId</th>\n",
       "      <th>visitStartTime</th>\n",
       "      <th>fullVisitorId</th>\n",
       "      <th>clientId</th>\n",
       "      <th>channelGrouping</th>\n",
       "      <th>socialEngagementType</th>\n",
       "      <th>totals.hits</th>\n",
       "      <th>totals.pageviews</th>\n",
       "      <th>totals.timeOnSite</th>\n",
       "      <th>...</th>\n",
       "      <th>trafficSource.adwordsClickInfo.page</th>\n",
       "      <th>trafficSource.adwordsClickInfo.slot</th>\n",
       "      <th>trafficSource.adwordsClickInfo.criteriaParameters</th>\n",
       "      <th>trafficSource.adwordsClickInfo.gclId</th>\n",
       "      <th>trafficSource.adwordsClickInfo.customerId</th>\n",
       "      <th>trafficSource.adwordsClickInfo.adNetworkType</th>\n",
       "      <th>trafficSource.adwordsClickInfo.isVideoAd</th>\n",
       "      <th>trafficSource.adwordsClickInfo.targetingCriteria.boomUserlistId</th>\n",
       "      <th>totals.visits</th>\n",
       "      <th>totals.newVisits</th>\n",
       "    </tr>\n",
       "  </thead>\n",
       "  <tbody>\n",
       "    <tr>\n",
       "      <th>0</th>\n",
       "      <td>2</td>\n",
       "      <td>1634813802</td>\n",
       "      <td>2021-10-21 10:56:42</td>\n",
       "      <td>6680643535448783441</td>\n",
       "      <td>1555458534.163468</td>\n",
       "      <td>(Other)</td>\n",
       "      <td>Not Socially Engaged</td>\n",
       "      <td>122</td>\n",
       "      <td>14</td>\n",
       "      <td>694</td>\n",
       "      <td>...</td>\n",
       "      <td>0</td>\n",
       "      <td>(not set)</td>\n",
       "      <td>(not set)</td>\n",
       "      <td>(not set)</td>\n",
       "      <td>(not set)</td>\n",
       "      <td>(not set)</td>\n",
       "      <td>True</td>\n",
       "      <td>(not set)</td>\n",
       "      <td>0</td>\n",
       "      <td>0.0</td>\n",
       "    </tr>\n",
       "    <tr>\n",
       "      <th>1</th>\n",
       "      <td>1</td>\n",
       "      <td>1634763823</td>\n",
       "      <td>2021-10-20 21:03:43</td>\n",
       "      <td>4057339981351388207</td>\n",
       "      <td>944673079.163476</td>\n",
       "      <td>Social</td>\n",
       "      <td>Not Socially Engaged</td>\n",
       "      <td>144</td>\n",
       "      <td>17</td>\n",
       "      <td>1186</td>\n",
       "      <td>...</td>\n",
       "      <td>0</td>\n",
       "      <td>(not set)</td>\n",
       "      <td>(not set)</td>\n",
       "      <td>(not set)</td>\n",
       "      <td>(not set)</td>\n",
       "      <td>(not set)</td>\n",
       "      <td>True</td>\n",
       "      <td>(not set)</td>\n",
       "      <td>0</td>\n",
       "      <td>0.0</td>\n",
       "    </tr>\n",
       "    <tr>\n",
       "      <th>2</th>\n",
       "      <td>8</td>\n",
       "      <td>1635020464</td>\n",
       "      <td>2021-10-23 20:21:04</td>\n",
       "      <td>8103621635756043684</td>\n",
       "      <td>1886771441.163425</td>\n",
       "      <td>Generic Paid Search</td>\n",
       "      <td>Not Socially Engaged</td>\n",
       "      <td>42</td>\n",
       "      <td>7</td>\n",
       "      <td>172</td>\n",
       "      <td>...</td>\n",
       "      <td>1</td>\n",
       "      <td>Google search: Top</td>\n",
       "      <td>Myka</td>\n",
       "      <td>CjwKCAjw5c6LBhBdEiwAP9ejG-OtN9mub4lecy1rngwuzP...</td>\n",
       "      <td>5521908895</td>\n",
       "      <td>Google Search</td>\n",
       "      <td>True</td>\n",
       "      <td>(not set)</td>\n",
       "      <td>0</td>\n",
       "      <td>0.0</td>\n",
       "    </tr>\n",
       "    <tr>\n",
       "      <th>3</th>\n",
       "      <td>1</td>\n",
       "      <td>1634984433</td>\n",
       "      <td>2021-10-23 10:20:33</td>\n",
       "      <td>3937357235259433457</td>\n",
       "      <td>916737419.163498</td>\n",
       "      <td>Generic Paid Search</td>\n",
       "      <td>Not Socially Engaged</td>\n",
       "      <td>46</td>\n",
       "      <td>6</td>\n",
       "      <td>123</td>\n",
       "      <td>...</td>\n",
       "      <td>1</td>\n",
       "      <td>Google search: Top</td>\n",
       "      <td>initial necklace</td>\n",
       "      <td>CjwKCAjw5c6LBhBdEiwAP9ejG1IieN4XHti_sns0oPK1TL...</td>\n",
       "      <td>5521908895</td>\n",
       "      <td>Google Search</td>\n",
       "      <td>True</td>\n",
       "      <td>(not set)</td>\n",
       "      <td>0</td>\n",
       "      <td>0.0</td>\n",
       "    </tr>\n",
       "    <tr>\n",
       "      <th>4</th>\n",
       "      <td>1</td>\n",
       "      <td>1635007938</td>\n",
       "      <td>2021-10-23 16:52:18</td>\n",
       "      <td>6938942722601663938</td>\n",
       "      <td>1615598500.163501</td>\n",
       "      <td>Generic Paid Search</td>\n",
       "      <td>Not Socially Engaged</td>\n",
       "      <td>58</td>\n",
       "      <td>7</td>\n",
       "      <td>60</td>\n",
       "      <td>...</td>\n",
       "      <td>1</td>\n",
       "      <td>Google search: Top</td>\n",
       "      <td>name gold necklace</td>\n",
       "      <td>EAIaIQobChMIo8Gol__g8wIVFiCtBh3KhAjdEAAYASAAEg...</td>\n",
       "      <td>5521908895</td>\n",
       "      <td>Google Search</td>\n",
       "      <td>True</td>\n",
       "      <td>(not set)</td>\n",
       "      <td>0</td>\n",
       "      <td>0.0</td>\n",
       "    </tr>\n",
       "  </tbody>\n",
       "</table>\n",
       "<p>5 rows × 65 columns</p>\n",
       "</div>"
      ],
      "text/plain": [
       "   visitNumber     visitId      visitStartTime        fullVisitorId  \\\n",
       "0            2  1634813802 2021-10-21 10:56:42  6680643535448783441   \n",
       "1            1  1634763823 2021-10-20 21:03:43  4057339981351388207   \n",
       "2            8  1635020464 2021-10-23 20:21:04  8103621635756043684   \n",
       "3            1  1634984433 2021-10-23 10:20:33  3937357235259433457   \n",
       "4            1  1635007938 2021-10-23 16:52:18  6938942722601663938   \n",
       "\n",
       "            clientId      channelGrouping  socialEngagementType  totals.hits  \\\n",
       "0  1555458534.163468              (Other)  Not Socially Engaged          122   \n",
       "1   944673079.163476               Social  Not Socially Engaged          144   \n",
       "2  1886771441.163425  Generic Paid Search  Not Socially Engaged           42   \n",
       "3   916737419.163498  Generic Paid Search  Not Socially Engaged           46   \n",
       "4  1615598500.163501  Generic Paid Search  Not Socially Engaged           58   \n",
       "\n",
       "   totals.pageviews  totals.timeOnSite  ...  \\\n",
       "0                14                694  ...   \n",
       "1                17               1186  ...   \n",
       "2                 7                172  ...   \n",
       "3                 6                123  ...   \n",
       "4                 7                 60  ...   \n",
       "\n",
       "   trafficSource.adwordsClickInfo.page  trafficSource.adwordsClickInfo.slot  \\\n",
       "0                                    0                            (not set)   \n",
       "1                                    0                            (not set)   \n",
       "2                                    1                   Google search: Top   \n",
       "3                                    1                   Google search: Top   \n",
       "4                                    1                   Google search: Top   \n",
       "\n",
       "   trafficSource.adwordsClickInfo.criteriaParameters  \\\n",
       "0                                          (not set)   \n",
       "1                                          (not set)   \n",
       "2                                               Myka   \n",
       "3                                   initial necklace   \n",
       "4                                 name gold necklace   \n",
       "\n",
       "                trafficSource.adwordsClickInfo.gclId  \\\n",
       "0                                          (not set)   \n",
       "1                                          (not set)   \n",
       "2  CjwKCAjw5c6LBhBdEiwAP9ejG-OtN9mub4lecy1rngwuzP...   \n",
       "3  CjwKCAjw5c6LBhBdEiwAP9ejG1IieN4XHti_sns0oPK1TL...   \n",
       "4  EAIaIQobChMIo8Gol__g8wIVFiCtBh3KhAjdEAAYASAAEg...   \n",
       "\n",
       "  trafficSource.adwordsClickInfo.customerId  \\\n",
       "0                                 (not set)   \n",
       "1                                 (not set)   \n",
       "2                                5521908895   \n",
       "3                                5521908895   \n",
       "4                                5521908895   \n",
       "\n",
       "  trafficSource.adwordsClickInfo.adNetworkType  \\\n",
       "0                                    (not set)   \n",
       "1                                    (not set)   \n",
       "2                                Google Search   \n",
       "3                                Google Search   \n",
       "4                                Google Search   \n",
       "\n",
       "  trafficSource.adwordsClickInfo.isVideoAd  \\\n",
       "0                                     True   \n",
       "1                                     True   \n",
       "2                                     True   \n",
       "3                                     True   \n",
       "4                                     True   \n",
       "\n",
       "  trafficSource.adwordsClickInfo.targetingCriteria.boomUserlistId  \\\n",
       "0                                          (not set)                \n",
       "1                                          (not set)                \n",
       "2                                          (not set)                \n",
       "3                                          (not set)                \n",
       "4                                          (not set)                \n",
       "\n",
       "  totals.visits totals.newVisits  \n",
       "0             0              0.0  \n",
       "1             0              0.0  \n",
       "2             0              0.0  \n",
       "3             0              0.0  \n",
       "4             0              0.0  \n",
       "\n",
       "[5 rows x 65 columns]"
      ]
     },
     "execution_count": 62,
     "metadata": {},
     "output_type": "execute_result"
    }
   ],
   "source": [
    "df_tl.head(5)"
   ]
  },
  {
   "cell_type": "code",
   "execution_count": 36,
   "id": "40c92f96",
   "metadata": {},
   "outputs": [],
   "source": [
    "def filter_in_1(df, col, func, lst):\n",
    "    x = df[col].loc[df[col].isin(lst)]\n",
    "    return func(x)"
   ]
  },
  {
   "cell_type": "code",
   "execution_count": 63,
   "id": "9787684b",
   "metadata": {},
   "outputs": [],
   "source": [
    "def column_z(sr):\n",
    "    s = np.std(sr)\n",
    "    m = np.mean(sr)\n",
    "    return sr.apply(lambda x: (x - m)/s if s > 0 else 0.0)"
   ]
  },
  {
   "cell_type": "code",
   "execution_count": 76,
   "id": "03fc377a",
   "metadata": {},
   "outputs": [],
   "source": [
    "def filter_str_1(df, col, func, reg):\n",
    "    x = df[col].loc[df[col].str.contains(reg, case=False)]\n",
    "    return func(x)"
   ]
  },
  {
   "cell_type": "code",
   "execution_count": null,
   "id": "20745cea",
   "metadata": {},
   "outputs": [],
   "source": [
    "df_features_tl = emotional_rational_toplvl_features(df_tl)"
   ]
  }
 ],
 "metadata": {
  "kernelspec": {
   "display_name": "Python [conda env:dataexplorationandmanipulationforcpupython3_7vyes]",
   "language": "python",
   "name": "conda-env-dataexplorationandmanipulationforcpupython3_7vyes-py"
  },
  "language_info": {
   "codemirror_mode": {
    "name": "ipython",
    "version": 3
   },
   "file_extension": ".py",
   "mimetype": "text/x-python",
   "name": "python",
   "nbconvert_exporter": "python",
   "pygments_lexer": "ipython3",
   "version": "3.7.12"
  }
 },
 "nbformat": 4,
 "nbformat_minor": 5
}
