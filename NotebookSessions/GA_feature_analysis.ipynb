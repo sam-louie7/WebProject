{
 "cells": [
  {
   "cell_type": "markdown",
   "id": "8dbdcdbb",
   "metadata": {},
   "source": [
    "### OCI Data Science - Useful Tips\n",
    "<details>\n",
    "<summary><font size=\"2\">Check for Public Internet Access</font></summary>\n",
    "\n",
    "```python\n",
    "import requests\n",
    "response = requests.get(\"https://oracle.com\")\n",
    "assert response.status_code==200, \"Internet connection failed\"\n",
    "```\n",
    "</details>\n",
    "<details>\n",
    "<summary><font size=\"2\">Helpful Documentation </font></summary>\n",
    "<ul><li><a href=\"https://docs.cloud.oracle.com/en-us/iaas/data-science/using/data-science.htm\">Data Science Service Documentation</a></li>\n",
    "<li><a href=\"https://docs.cloud.oracle.com/iaas/tools/ads-sdk/latest/index.html\">ADS documentation</a></li>\n",
    "</ul>\n",
    "</details>\n",
    "<details>\n",
    "<summary><font size=\"2\">Typical Cell Imports and Settings for ADS</font></summary>\n",
    "\n",
    "```python\n",
    "%load_ext autoreload\n",
    "%autoreload 2\n",
    "%matplotlib inline\n",
    "\n",
    "import warnings\n",
    "warnings.filterwarnings('ignore')\n",
    "\n",
    "import logging\n",
    "logging.basicConfig(format='%(levelname)s:%(message)s', level=logging.ERROR)\n",
    "\n",
    "import ads\n",
    "from ads.dataset.factory import DatasetFactory\n",
    "from ads.automl.provider import OracleAutoMLProvider\n",
    "from ads.automl.driver import AutoML\n",
    "from ads.evaluations.evaluator import ADSEvaluator\n",
    "from ads.common.data import ADSData\n",
    "from ads.explanations.explainer import ADSExplainer\n",
    "from ads.explanations.mlx_global_explainer import MLXGlobalExplainer\n",
    "from ads.explanations.mlx_local_explainer import MLXLocalExplainer\n",
    "from ads.catalog.model import ModelCatalog\n",
    "from ads.common.model_artifact import ModelArtifact\n",
    "```\n",
    "</details>\n",
    "<details>\n",
    "<summary><font size=\"2\">Useful Environment Variables</font></summary>\n",
    "\n",
    "```python\n",
    "import os\n",
    "print(os.environ[\"NB_SESSION_COMPARTMENT_OCID\"])\n",
    "print(os.environ[\"PROJECT_OCID\"])\n",
    "print(os.environ[\"USER_OCID\"])\n",
    "print(os.environ[\"TENANCY_OCID\"])\n",
    "print(os.environ[\"NB_REGION\"])\n",
    "```\n",
    "</details>"
   ]
  },
  {
   "cell_type": "code",
   "execution_count": null,
   "id": "42b26598",
   "metadata": {},
   "outputs": [],
   "source": [
    "import numpy as np\n",
    "import pandas as pd\n",
    "import json\n",
    "import codecs\n",
    "import os\n",
    "import sys\n",
    "import datetime as dt\n",
    "sys.path.append('../')\n",
    "import oci\n",
    "import ocifs"
   ]
  },
  {
   "cell_type": "code",
   "execution_count": null,
   "id": "0cb293f2",
   "metadata": {},
   "outputs": [],
   "source": [
    "from generate_data_extraction.features_functions import *\n",
    "from generate_data_extraction.reduce_feature_list import *\n",
    "from generate_data_extraction.common_columns_lists import *"
   ]
  },
  {
   "cell_type": "code",
   "execution_count": null,
   "id": "b9d934c8",
   "metadata": {},
   "outputs": [],
   "source": [
    "bucket_name = \"tenen-raw-data\"\n",
    "config = oci.config.from_file(\n",
    "        \"~/.apikey/config\",\n",
    "        \"DEFAULT\")\n",
    "object_storage_client = oci.object_storage.ObjectStorageClient(config)\n",
    "namespace = object_storage_client.get_namespace().data\n",
    "namespace"
   ]
  },
  {
   "cell_type": "code",
   "execution_count": null,
   "id": "07a1c00e",
   "metadata": {},
   "outputs": [],
   "source": [
    "hl_file = {'oct' : 'tenen_high_lvl_oct.csv', 'nov': 'tenen_high_lvl_nov.csv', 'dec': 'tenen_high_lvl_dec.csv' }\n",
    "hits_file = {'oct' : 'tenen_hits_extend_oct.csv', 'nov': 'tenen_hits_extend_nov.csv', 'dec': 'tenen_hits_extend_dec.csv'}"
   ]
  },
  {
   "cell_type": "code",
   "execution_count": null,
   "id": "36362403",
   "metadata": {},
   "outputs": [],
   "source": [
    "fname = hl_file['dec']\n",
    "directory = 'products'\n",
    "config = {\"config\": \"~/.apikey/config\"}\n",
    "target = f'oci://{bucket_name}@{namespace}/{directory}/{fname}'\n",
    "target"
   ]
  },
  {
   "cell_type": "code",
   "execution_count": null,
   "id": "90c4c75e",
   "metadata": {},
   "outputs": [],
   "source": [
    "X1 = pd.read_csv(target, storage_options={\"config\": \"~/.apikey/config\"},low_memory=False)\n",
    "X1.shape"
   ]
  },
  {
   "cell_type": "code",
   "execution_count": null,
   "id": "7945a70e",
   "metadata": {},
   "outputs": [],
   "source": [
    "#namespace = \"lrhwvlagph9z\"\n",
    "df_tl_oct = pd.read_csv(target, storage_options={\"config\": \"~/.apikey/config\"},low_memory=False)\n",
    "df_tl_oct.shape"
   ]
  },
  {
   "cell_type": "code",
   "execution_count": null,
   "id": "b3689694",
   "metadata": {},
   "outputs": [],
   "source": [
    "df_tl_nov = pd.read_csv(target, storage_options={\"config\": \"~/.apikey/config\"},low_memory=False)\n",
    "df_tl_nov.shape"
   ]
  },
  {
   "cell_type": "code",
   "execution_count": null,
   "id": "ee07ff9f",
   "metadata": {},
   "outputs": [],
   "source": [
    "df_tl_dec = pd.read_csv(target, storage_options={\"config\": \"~/.apikey/config\"},low_memory=False)\n",
    "df_tl_dec.shape"
   ]
  },
  {
   "cell_type": "code",
   "execution_count": null,
   "id": "70c5e741",
   "metadata": {},
   "outputs": [],
   "source": [
    "df_tl_oct['fullVisitorId'] = df_tl_oct['fullVisitorId'].astype(str)\n",
    "df_tl_nov['fullVisitorId'] = df_tl_nov['fullVisitorId'].astype(str)\n",
    "df_tl_dec['fullVisitorId'] = df_tl_dec['fullVisitorId'].astype(str)"
   ]
  },
  {
   "cell_type": "code",
   "execution_count": null,
   "id": "f90cc17c",
   "metadata": {},
   "outputs": [],
   "source": [
    "df_list = [df_tl_oct, df_tl_nov, df_tl_dec]"
   ]
  },
  {
   "cell_type": "code",
   "execution_count": null,
   "id": "7ff53504",
   "metadata": {},
   "outputs": [],
   "source": [
    "df = pd.concat(df_list, ignore_index=True)\n",
    "df.shape"
   ]
  },
  {
   "cell_type": "code",
   "execution_count": null,
   "id": "3b75e54c",
   "metadata": {},
   "outputs": [],
   "source": [
    "numeric_cols = ['totals.hits', 'totals.pageviews', 'totals.timeOnSite']"
   ]
  },
  {
   "cell_type": "code",
   "execution_count": null,
   "id": "84b25238",
   "metadata": {},
   "outputs": [],
   "source": [
    "df_tl = init_top_lvl_df(df, numeric_cols)\n",
    "df_tl.shape"
   ]
  },
  {
   "cell_type": "code",
   "execution_count": null,
   "id": "41c2d98d",
   "metadata": {},
   "outputs": [],
   "source": [
    "tmp = df_tl.groupby('fullVisitorId')['fullVisitorId'].agg('count')\n",
    "len(tmp)"
   ]
  },
  {
   "cell_type": "code",
   "execution_count": null,
   "id": "848fc7cf",
   "metadata": {},
   "outputs": [],
   "source": [
    "X = emotional_rational_toplvl_features(df_tl)\n",
    "X.shape"
   ]
  },
  {
   "cell_type": "code",
   "execution_count": null,
   "id": "c3e63ccc",
   "metadata": {},
   "outputs": [],
   "source": [
    "X.isnull().values.any()"
   ]
  },
  {
   "cell_type": "code",
   "execution_count": null,
   "id": "7fdf5b93",
   "metadata": {},
   "outputs": [],
   "source": [
    "X.head(5)"
   ]
  },
  {
   "cell_type": "code",
   "execution_count": null,
   "id": "759df178",
   "metadata": {},
   "outputs": [],
   "source": [
    "directory = 'products'\n",
    "fname = 'top_level_features.csv'\n",
    "target = f'oci://{bucket_name}@{namespace}/{directory}/{fname}'\n",
    "target"
   ]
  },
  {
   "cell_type": "code",
   "execution_count": null,
   "id": "c9617a78",
   "metadata": {},
   "outputs": [],
   "source": [
    "X.to_csv(target, index=True, encoding='utf-8',storage_options = config)"
   ]
  },
  {
   "cell_type": "code",
   "execution_count": null,
   "id": "485054d4",
   "metadata": {},
   "outputs": [],
   "source": [
    "directory = 'products'\n",
    "fname = hits_file['dec']\n",
    "target = f'oci://{bucket_name}@{namespace}/{directory}/{fname}'\n",
    "target"
   ]
  },
  {
   "cell_type": "code",
   "execution_count": null,
   "id": "e667eed2",
   "metadata": {},
   "outputs": [],
   "source": [
    "df_hits_oct = pd.read_csv(target, storage_options={\"config\": \"~/.apikey/config\"},low_memory=False)\n",
    "df_hits_oct.shape"
   ]
  },
  {
   "cell_type": "code",
   "execution_count": null,
   "id": "5032c72a",
   "metadata": {},
   "outputs": [],
   "source": [
    "df_hits_nov = pd.read_csv(target, storage_options={\"config\": \"~/.apikey/config\"},low_memory=False)\n",
    "df_hits_nov.shape"
   ]
  },
  {
   "cell_type": "code",
   "execution_count": null,
   "id": "ec1963fd",
   "metadata": {},
   "outputs": [],
   "source": [
    "df_hits_dec = pd.read_csv(target, storage_options={\"config\": \"~/.apikey/config\"},low_memory=False)\n",
    "df_hits_dec.shape"
   ]
  },
  {
   "cell_type": "code",
   "execution_count": null,
   "id": "886f8f1d",
   "metadata": {},
   "outputs": [],
   "source": [
    "df_hits_oct['fullVisitorId'] = df_hits_oct['fullVisitorId'].astype(str)\n",
    "df_hits_nov['fullVisitorId'] = df_hits_nov['fullVisitorId'].astype(str) \n",
    "df_hits_dec['fullVisitorId'] = df_hits_dec['fullVisitorId'].astype(str) "
   ]
  },
  {
   "cell_type": "code",
   "execution_count": null,
   "id": "91b02080",
   "metadata": {},
   "outputs": [],
   "source": [
    "df_list = [df_hits_oct, df_hits_nov, df_hits_dec]\n",
    "dfh = pd.concat(df_list, ignore_index=True)\n",
    "dfh.shape"
   ]
  },
  {
   "cell_type": "code",
   "execution_count": null,
   "id": "3c3652c2",
   "metadata": {},
   "outputs": [],
   "source": [
    "dfh['fullVisitorId'].head(5)"
   ]
  },
  {
   "cell_type": "code",
   "execution_count": null,
   "id": "9185de52",
   "metadata": {},
   "outputs": [],
   "source": [
    "numeric_cols = ['numOfProducts', 'hits.eCommerceAction.action_type', 'hits.time']"
   ]
  },
  {
   "cell_type": "code",
   "execution_count": null,
   "id": "449f9862",
   "metadata": {},
   "outputs": [],
   "source": [
    "df_hits = init_hits_df(dfh, numeric_cols, 'hits.time')\n",
    "df_hits.shape"
   ]
  },
  {
   "cell_type": "code",
   "execution_count": null,
   "id": "48096612",
   "metadata": {},
   "outputs": [],
   "source": [
    "tmp = df_hits.groupby('fullVisitorId')['fullVisitorId'].agg('count')\n",
    "len(tmp)"
   ]
  },
  {
   "cell_type": "code",
   "execution_count": null,
   "id": "ad9fccf1",
   "metadata": {},
   "outputs": [],
   "source": [
    "Y = emotional_rational_hits_features(df_hits)\n",
    "Y.shape"
   ]
  },
  {
   "cell_type": "code",
   "execution_count": null,
   "id": "21fdce70",
   "metadata": {},
   "outputs": [],
   "source": [
    "Y.isnull().values.any()"
   ]
  },
  {
   "cell_type": "code",
   "execution_count": null,
   "id": "00bf045e",
   "metadata": {},
   "outputs": [],
   "source": [
    "directory = 'features'\n",
    "fname = 'hits_features_2.csv'\n",
    "target = f'oci://{bucket_name}@{namespace}/{directory}/{fname}'\n",
    "target"
   ]
  },
  {
   "cell_type": "code",
   "execution_count": null,
   "id": "84c7efa7",
   "metadata": {},
   "outputs": [],
   "source": [
    "Y.to_csv(target, index=True, encoding='utf-8',storage_options = config)"
   ]
  },
  {
   "cell_type": "code",
   "execution_count": null,
   "id": "a571cbff",
   "metadata": {},
   "outputs": [],
   "source": [
    "Z = pd.concat([X,Y], axis=1)\n",
    "Z.shape"
   ]
  },
  {
   "cell_type": "code",
   "execution_count": null,
   "id": "cfa7ab6b",
   "metadata": {},
   "outputs": [],
   "source": [
    "#Z.drop(columns=['hits.shopping_cart', 'hits.payment_page'], inplace=True)"
   ]
  },
  {
   "cell_type": "code",
   "execution_count": null,
   "id": "5b1c0494",
   "metadata": {},
   "outputs": [],
   "source": [
    "fname = 'full_features.csv'\n",
    "directory = 'features'\n",
    "target = f'oci://{bucket_name}@{namespace}/{directory}/{fname}'\n",
    "target"
   ]
  },
  {
   "cell_type": "code",
   "execution_count": null,
   "id": "a32d4e81",
   "metadata": {},
   "outputs": [],
   "source": [
    "Z.to_csv(target, index=True, encoding='utf-8',storage_options = config)"
   ]
  },
  {
   "cell_type": "code",
   "execution_count": null,
   "id": "2ce10861",
   "metadata": {},
   "outputs": [],
   "source": [
    "emotional_high = ['trafficSourceRatio', \n",
    "                  'trafficSourceSocialRatio', \n",
    "                  'mediumSourceFbRatio',\n",
    "                  'mediumSourceCpcRatio',\n",
    "                  'hits.products_per_session',\n",
    "                  'avg_page_views',\n",
    "                  'hits.avg_viewd_product',\n",
    "                  'hits.product_page']\n",
    "emotional_low = ['trafficSourceSeRatio',\n",
    "                 'mediumSourceOrganicRatio', \n",
    "                 'avg_hits',  \n",
    "                 'avg_time_on_site', \n",
    "                 'end_of_month_ratio', \n",
    "                 'hits.avg_time2hit', \n",
    "                 'hits.avg_time_add_prod',\n",
    "                 'hits.avg_time_rmv_prod',\n",
    "                 'hits.support_page',\n",
    "                 'hits.article_page', \n",
    "                 'hits.search_keyword',\n",
    "                 'hits.category_page']"
   ]
  },
  {
   "cell_type": "code",
   "execution_count": null,
   "id": "eba13292",
   "metadata": {},
   "outputs": [],
   "source": [
    "def convert_by_z(df, col_list) :\n",
    "    def f(x, is_max):\n",
    "        m = np.mean(x)\n",
    "        s = np.std(x)\n",
    "        h = m + s\n",
    "        l =  m - s\n",
    "        r = h if is_max else l\n",
    "        return r\n",
    "    v =  df.apply(lambda y: f(y, True) if y.name in col_list else f(y, False))\n",
    "    return v "
   ]
  },
  {
   "cell_type": "code",
   "execution_count": null,
   "id": "a06cca9b",
   "metadata": {},
   "outputs": [],
   "source": [
    "Z_lbl = convert_by_z(Z, emotional_high)"
   ]
  },
  {
   "cell_type": "code",
   "execution_count": null,
   "id": "c68f0337",
   "metadata": {},
   "outputs": [],
   "source": [
    "Z_lbl"
   ]
  },
  {
   "cell_type": "code",
   "execution_count": null,
   "id": "b177a989",
   "metadata": {},
   "outputs": [],
   "source": [
    "directory = 'features'\n",
    "fname = 'corr_features_vector.csv'\n",
    "target = f'oci://{bucket_name}@{namespace}/{directory}/{fname}'\n",
    "target"
   ]
  },
  {
   "cell_type": "code",
   "execution_count": null,
   "id": "1d1958c1",
   "metadata": {},
   "outputs": [],
   "source": [
    "def corr_vec_to_cols(df, vec):\n",
    "    def f(n):\n",
    "        if n >= 0.05:  # high corr to emotional = 1\n",
    "            return 'emotio'\n",
    "        elif n <= -0.05: # low corr to emotional , rational = 2\n",
    "            return 'ratio'\n",
    "        else:  # no corr at all\n",
    "            return 'nocorr'\n",
    "    dft = df.T\n",
    "    z = dft.apply(lambda x : x.corr(vec))\n",
    "    res = z.map(lambda x : f(x))\n",
    "    return res"
   ]
  },
  {
   "cell_type": "code",
   "execution_count": null,
   "id": "51b97ab8",
   "metadata": {},
   "outputs": [],
   "source": [
    "C = corr_vec_to_cols(Z, Z_lbl).to_frame('corr')"
   ]
  },
  {
   "cell_type": "code",
   "execution_count": null,
   "id": "442f4fcf",
   "metadata": {},
   "outputs": [],
   "source": [
    "C.head(10)"
   ]
  },
  {
   "cell_type": "code",
   "execution_count": null,
   "id": "9fd9a537",
   "metadata": {},
   "outputs": [],
   "source": [
    "len(C.loc[C['corr'] == 'nocorr'])"
   ]
  },
  {
   "cell_type": "code",
   "execution_count": null,
   "id": "c909ceda",
   "metadata": {},
   "outputs": [],
   "source": [
    "len(C.loc[C['corr'] == 'emotio'])"
   ]
  },
  {
   "cell_type": "code",
   "execution_count": null,
   "id": "54c35971",
   "metadata": {},
   "outputs": [],
   "source": [
    "len(C.loc[C['corr'] == 'ratio'])"
   ]
  },
  {
   "cell_type": "code",
   "execution_count": null,
   "id": "900e7cff",
   "metadata": {},
   "outputs": [],
   "source": [
    "C1.to_csv(target, index=True, encoding='utf-8',storage_options = config)"
   ]
  }
 ],
 "metadata": {
  "kernelspec": {
   "display_name": "Python [conda env:dataexplorationandmanipulationforcpupython3_7vyes]",
   "language": "python",
   "name": "conda-env-dataexplorationandmanipulationforcpupython3_7vyes-py"
  },
  "language_info": {
   "codemirror_mode": {
    "name": "ipython",
    "version": 3
   },
   "file_extension": ".py",
   "mimetype": "text/x-python",
   "name": "python",
   "nbconvert_exporter": "python",
   "pygments_lexer": "ipython3",
   "version": "3.7.12"
  }
 },
 "nbformat": 4,
 "nbformat_minor": 5
}
