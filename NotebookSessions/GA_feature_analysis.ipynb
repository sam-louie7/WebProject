{
 "cells": [
  {
   "cell_type": "markdown",
   "id": "79cc11ce",
   "metadata": {},
   "source": [
    "### OCI Data Science - Useful Tips\n",
    "<details>\n",
    "<summary><font size=\"2\">Check for Public Internet Access</font></summary>\n",
    "\n",
    "```python\n",
    "import requests\n",
    "response = requests.get(\"https://oracle.com\")\n",
    "assert response.status_code==200, \"Internet connection failed\"\n",
    "```\n",
    "</details>\n",
    "<details>\n",
    "<summary><font size=\"2\">Helpful Documentation </font></summary>\n",
    "<ul><li><a href=\"https://docs.cloud.oracle.com/en-us/iaas/data-science/using/data-science.htm\">Data Science Service Documentation</a></li>\n",
    "<li><a href=\"https://docs.cloud.oracle.com/iaas/tools/ads-sdk/latest/index.html\">ADS documentation</a></li>\n",
    "</ul>\n",
    "</details>\n",
    "<details>\n",
    "<summary><font size=\"2\">Typical Cell Imports and Settings for ADS</font></summary>\n",
    "\n",
    "```python\n",
    "%load_ext autoreload\n",
    "%autoreload 2\n",
    "%matplotlib inline\n",
    "\n",
    "import warnings\n",
    "warnings.filterwarnings('ignore')\n",
    "\n",
    "import logging\n",
    "logging.basicConfig(format='%(levelname)s:%(message)s', level=logging.ERROR)\n",
    "\n",
    "import ads\n",
    "from ads.dataset.factory import DatasetFactory\n",
    "from ads.automl.provider import OracleAutoMLProvider\n",
    "from ads.automl.driver import AutoML\n",
    "from ads.evaluations.evaluator import ADSEvaluator\n",
    "from ads.common.data import ADSData\n",
    "from ads.explanations.explainer import ADSExplainer\n",
    "from ads.explanations.mlx_global_explainer import MLXGlobalExplainer\n",
    "from ads.explanations.mlx_local_explainer import MLXLocalExplainer\n",
    "from ads.catalog.model import ModelCatalog\n",
    "from ads.common.model_artifact import ModelArtifact\n",
    "```\n",
    "</details>\n",
    "<details>\n",
    "<summary><font size=\"2\">Useful Environment Variables</font></summary>\n",
    "\n",
    "```python\n",
    "import os\n",
    "print(os.environ[\"NB_SESSION_COMPARTMENT_OCID\"])\n",
    "print(os.environ[\"PROJECT_OCID\"])\n",
    "print(os.environ[\"USER_OCID\"])\n",
    "print(os.environ[\"TENANCY_OCID\"])\n",
    "print(os.environ[\"NB_REGION\"])\n",
    "```\n",
    "</details>"
   ]
  },
  {
   "cell_type": "code",
   "execution_count": null,
   "id": "b21c7e52",
   "metadata": {},
   "outputs": [],
   "source": [
    "import numpy as np\n",
    "import pandas as pd\n",
    "import json\n",
    "import codecs\n",
    "import os\n",
    "import sys\n",
    "import datetime as dt\n",
    "sys.path.append('../')\n",
    "import oci\n",
    "import ocifs"
   ]
  },
  {
   "cell_type": "code",
   "execution_count": null,
   "id": "97fe77ee",
   "metadata": {},
   "outputs": [],
   "source": [
    "from generate_data_extraction.features_functions import *\n",
    "from generate_data_extraction.reduce_feature_list import *\n",
    "from generate_data_extraction.common_columns_lists import *"
   ]
  },
  {
   "cell_type": "code",
   "execution_count": null,
   "id": "9dd8cdec",
   "metadata": {},
   "outputs": [],
   "source": [
    "def column_minmax_score(sr):\n",
    "    n = np.min(sr)\n",
    "    diff = np.max(sr) - np.min(sr)\n",
    "    r = (sr - n) / diff\n",
    "    return r"
   ]
  },
  {
   "cell_type": "code",
   "execution_count": null,
   "id": "5abef4df",
   "metadata": {},
   "outputs": [],
   "source": [
    "bucket_name = \"tenen-raw-data\"\n",
    "config = oci.config.from_file(\n",
    "        \"~/.apikey/config\",\n",
    "        \"DEFAULT\")\n",
    "object_storage_client = oci.object_storage.ObjectStorageClient(config)\n",
    "namespace = object_storage_client.get_namespace().data\n",
    "namespace"
   ]
  },
  {
   "cell_type": "code",
   "execution_count": null,
   "id": "9386f667",
   "metadata": {},
   "outputs": [],
   "source": [
    "hl_file = {'oct' : 'tenen_high_lvl_oct.csv', 'nov': 'tenen_high_lvl_nov.csv', 'dec': 'tenen_high_lvl_dec.csv' }\n",
    "hits_file = {'oct' : 'tenen_hits_extend_oct.csv', 'nov': 'tenen_hits_extend_nov.csv', 'dec': 'tenen_hits_extend_dec.csv'}"
   ]
  },
  {
   "cell_type": "code",
   "execution_count": null,
   "id": "bba6e51e",
   "metadata": {},
   "outputs": [],
   "source": [
    "fname = hl_file['dec']\n",
    "directory = 'products'\n",
    "config = {\"config\": \"~/.apikey/config\"}\n",
    "target = f'oci://{bucket_name}@{namespace}/{directory}/{fname}'\n",
    "target"
   ]
  },
  {
   "cell_type": "code",
   "execution_count": null,
   "id": "2d7d26ff",
   "metadata": {},
   "outputs": [],
   "source": [
    "#namespace = \"lrhwvlagph9z\"\n",
    "df_tl_oct = pd.read_csv(target, storage_options={\"config\": \"~/.apikey/config\"},low_memory=False)\n",
    "df_tl_oct.shape"
   ]
  },
  {
   "cell_type": "code",
   "execution_count": null,
   "id": "9c7d31cd",
   "metadata": {},
   "outputs": [],
   "source": [
    "df_tl_nov = pd.read_csv(target, storage_options={\"config\": \"~/.apikey/config\"},low_memory=False)\n",
    "df_tl_nov.shape"
   ]
  },
  {
   "cell_type": "code",
   "execution_count": null,
   "id": "b5cc0217",
   "metadata": {},
   "outputs": [],
   "source": [
    "df_tl_dec = pd.read_csv(target, storage_options={\"config\": \"~/.apikey/config\"},low_memory=False)\n",
    "df_tl_dec.shape"
   ]
  },
  {
   "cell_type": "code",
   "execution_count": null,
   "id": "24b3f91b",
   "metadata": {},
   "outputs": [],
   "source": [
    "df_tl_oct['fullVisitorId'] = df_tl_oct['fullVisitorId'].astype(str)\n",
    "df_tl_nov['fullVisitorId'] = df_tl_nov['fullVisitorId'].astype(str)\n",
    "df_tl_dec['fullVisitorId'] = df_tl_dec['fullVisitorId'].astype(str)"
   ]
  },
  {
   "cell_type": "code",
   "execution_count": null,
   "id": "46cc2625",
   "metadata": {},
   "outputs": [],
   "source": [
    "df_list = [df_tl_oct, df_tl_nov, df_tl_dec]"
   ]
  },
  {
   "cell_type": "code",
   "execution_count": null,
   "id": "2299ebe4",
   "metadata": {},
   "outputs": [],
   "source": [
    "df = pd.concat(df_list, ignore_index=True)\n",
    "df.shape"
   ]
  },
  {
   "cell_type": "code",
   "execution_count": null,
   "id": "506d1257",
   "metadata": {},
   "outputs": [],
   "source": [
    "numeric_cols = ['totals.hits', 'totals.pageviews', 'totals.timeOnSite']"
   ]
  },
  {
   "cell_type": "code",
   "execution_count": null,
   "id": "d86ece31",
   "metadata": {},
   "outputs": [],
   "source": [
    "df_tl = init_top_lvl_df(df, numeric_cols)\n",
    "df_tl.shape"
   ]
  },
  {
   "cell_type": "code",
   "execution_count": null,
   "id": "f4cfe66b",
   "metadata": {},
   "outputs": [],
   "source": [
    "tmp = df_tl.groupby('fullVisitorId')['fullVisitorId'].agg('count')\n",
    "len(tmp)"
   ]
  },
  {
   "cell_type": "code",
   "execution_count": null,
   "id": "91d9540c",
   "metadata": {},
   "outputs": [],
   "source": [
    "X = emotional_rational_toplvl_features(df_tl)\n",
    "X.shape"
   ]
  },
  {
   "cell_type": "code",
   "execution_count": null,
   "id": "df471160",
   "metadata": {},
   "outputs": [],
   "source": [
    "X.isnull().values.any()"
   ]
  },
  {
   "cell_type": "code",
   "execution_count": null,
   "id": "e6b1528d",
   "metadata": {},
   "outputs": [],
   "source": [
    "X.head(5)"
   ]
  },
  {
   "cell_type": "code",
   "execution_count": null,
   "id": "d4ae2c8a",
   "metadata": {},
   "outputs": [],
   "source": [
    "X1 = X.apply(lambda x : column_z_score(x))\n",
    "X1.shape"
   ]
  },
  {
   "cell_type": "code",
   "execution_count": null,
   "id": "bb0ac572",
   "metadata": {},
   "outputs": [],
   "source": [
    "X1.isnull().values.any()"
   ]
  },
  {
   "cell_type": "code",
   "execution_count": null,
   "id": "5d017f7a",
   "metadata": {},
   "outputs": [],
   "source": [
    "X1.head(5)"
   ]
  },
  {
   "cell_type": "code",
   "execution_count": null,
   "id": "24532d0e",
   "metadata": {},
   "outputs": [],
   "source": [
    "directory = 'features'\n",
    "fname = 'top_level_features_minmax.csv'\n",
    "target = f'oci://{bucket_name}@{namespace}/{directory}/{fname}'\n",
    "target"
   ]
  },
  {
   "cell_type": "code",
   "execution_count": null,
   "id": "faf7ff01",
   "metadata": {},
   "outputs": [],
   "source": [
    "X2.to_csv(target, index=True, encoding='utf-8',storage_options = config)"
   ]
  },
  {
   "cell_type": "code",
   "execution_count": null,
   "id": "650d5a04",
   "metadata": {},
   "outputs": [],
   "source": [
    "X2 = X.apply(lambda x : column_minmax_score(x))\n",
    "X2.shape"
   ]
  },
  {
   "cell_type": "code",
   "execution_count": null,
   "id": "b3c3ec40",
   "metadata": {},
   "outputs": [],
   "source": [
    "X2.head(5)"
   ]
  },
  {
   "cell_type": "code",
   "execution_count": null,
   "id": "fcf0cb88",
   "metadata": {},
   "outputs": [],
   "source": [
    "# if reading from bucket\n",
    "X1 = pd.read_csv(target, storage_options={\"config\": \"~/.apikey/config\"}, low_memory=False)"
   ]
  },
  {
   "cell_type": "code",
   "execution_count": null,
   "id": "3bb86a2f",
   "metadata": {},
   "outputs": [],
   "source": [
    "directory = 'products'\n",
    "fname = hits_file['dec']\n",
    "target = f'oci://{bucket_name}@{namespace}/{directory}/{fname}'\n",
    "target"
   ]
  },
  {
   "cell_type": "code",
   "execution_count": null,
   "id": "baa4e47a",
   "metadata": {},
   "outputs": [],
   "source": [
    "df_hits_oct = pd.read_csv(target, storage_options={\"config\": \"~/.apikey/config\"},low_memory=False)\n",
    "df_hits_oct.shape"
   ]
  },
  {
   "cell_type": "code",
   "execution_count": null,
   "id": "202f1d2b",
   "metadata": {},
   "outputs": [],
   "source": [
    "df_hits_nov = pd.read_csv(target, storage_options={\"config\": \"~/.apikey/config\"},low_memory=False)\n",
    "df_hits_nov.shape"
   ]
  },
  {
   "cell_type": "code",
   "execution_count": null,
   "id": "94ff766e",
   "metadata": {},
   "outputs": [],
   "source": [
    "df_hits_dec = pd.read_csv(target, storage_options={\"config\": \"~/.apikey/config\"},low_memory=False)\n",
    "df_hits_dec.shape"
   ]
  },
  {
   "cell_type": "code",
   "execution_count": null,
   "id": "7c96e6f7",
   "metadata": {},
   "outputs": [],
   "source": [
    "df_hits_oct['fullVisitorId'] = df_hits_oct['fullVisitorId'].astype(str)\n",
    "df_hits_nov['fullVisitorId'] = df_hits_nov['fullVisitorId'].astype(str) \n",
    "df_hits_dec['fullVisitorId'] = df_hits_dec['fullVisitorId'].astype(str) "
   ]
  },
  {
   "cell_type": "code",
   "execution_count": null,
   "id": "736a6ab7",
   "metadata": {},
   "outputs": [],
   "source": [
    "df_list = [df_hits_oct, df_hits_nov, df_hits_dec]\n",
    "dfh = pd.concat(df_list, ignore_index=True)\n",
    "dfh.shape"
   ]
  },
  {
   "cell_type": "code",
   "execution_count": null,
   "id": "aa743f15",
   "metadata": {},
   "outputs": [],
   "source": [
    "dfh['fullVisitorId'].head(5)"
   ]
  },
  {
   "cell_type": "code",
   "execution_count": null,
   "id": "e66da372",
   "metadata": {},
   "outputs": [],
   "source": [
    "numeric_cols = ['numOfProducts', 'hits.eCommerceAction.action_type', 'hits.time']"
   ]
  },
  {
   "cell_type": "code",
   "execution_count": null,
   "id": "3736c3dd",
   "metadata": {},
   "outputs": [],
   "source": [
    "df_hits = init_hits_df(dfh, numeric_cols, 'hits.time')\n",
    "df_hits.shape"
   ]
  },
  {
   "cell_type": "code",
   "execution_count": null,
   "id": "2b4e12ed",
   "metadata": {},
   "outputs": [],
   "source": [
    "tmp = df_hits.groupby('fullVisitorId')['fullVisitorId'].agg('count')\n",
    "len(tmp)"
   ]
  },
  {
   "cell_type": "code",
   "execution_count": null,
   "id": "7c6b4ac8",
   "metadata": {},
   "outputs": [],
   "source": [
    "Y = emotional_rational_hits_features(df_hits)\n",
    "Y.shape"
   ]
  },
  {
   "cell_type": "code",
   "execution_count": null,
   "id": "9a1a2495",
   "metadata": {},
   "outputs": [],
   "source": [
    "Y.isnull().values.any()"
   ]
  },
  {
   "cell_type": "code",
   "execution_count": null,
   "id": "38426979",
   "metadata": {},
   "outputs": [],
   "source": [
    "Y1 = Y.fillna(0)\n",
    "Y1.isna().sum()"
   ]
  },
  {
   "cell_type": "code",
   "execution_count": null,
   "id": "3f4ca7b3",
   "metadata": {},
   "outputs": [],
   "source": [
    "Y1 = Y1.apply(lambda x : column_z_score(x))\n",
    "Y1.shape"
   ]
  },
  {
   "cell_type": "code",
   "execution_count": null,
   "id": "6c95ba65",
   "metadata": {},
   "outputs": [],
   "source": [
    "Y1.isnull().values.any()"
   ]
  },
  {
   "cell_type": "code",
   "execution_count": null,
   "id": "70db026d",
   "metadata": {},
   "outputs": [],
   "source": [
    "Y1.head()"
   ]
  },
  {
   "cell_type": "code",
   "execution_count": null,
   "id": "176b1838",
   "metadata": {},
   "outputs": [],
   "source": [
    "directory = 'features'\n",
    "fname = 'hits_features_minmax.csv'\n",
    "target = f'oci://{bucket_name}@{namespace}/{directory}/{fname}'\n",
    "target"
   ]
  },
  {
   "cell_type": "code",
   "execution_count": null,
   "id": "c2d9c955",
   "metadata": {},
   "outputs": [],
   "source": [
    "Y2.to_csv(target, index=True, encoding='utf-8',storage_options = config)"
   ]
  },
  {
   "cell_type": "code",
   "execution_count": null,
   "id": "f1c2d165",
   "metadata": {},
   "outputs": [],
   "source": [
    "Y2 = Y.fillna(0)\n",
    "Y2 = Y2.apply(lambda x : column_minmax_score(x))\n",
    "Y2.shape"
   ]
  },
  {
   "cell_type": "code",
   "execution_count": null,
   "id": "c966dbcb",
   "metadata": {},
   "outputs": [],
   "source": [
    "Y2.head(5)"
   ]
  },
  {
   "cell_type": "code",
   "execution_count": null,
   "id": "d9f53b98",
   "metadata": {},
   "outputs": [],
   "source": [
    "Z = pd.concat([X1,Y1], axis=1)\n",
    "Z.shape"
   ]
  },
  {
   "cell_type": "code",
   "execution_count": null,
   "id": "33edae89",
   "metadata": {},
   "outputs": [],
   "source": [
    "Z0 = pd.concat([X2,Y2], axis=1)\n",
    "Z0.shape"
   ]
  },
  {
   "cell_type": "code",
   "execution_count": null,
   "id": "eca3ceb6",
   "metadata": {},
   "outputs": [],
   "source": [
    "Z0.head(5)"
   ]
  },
  {
   "cell_type": "code",
   "execution_count": null,
   "id": "2ba6f449",
   "metadata": {},
   "outputs": [],
   "source": [
    "fname = 'full_features_minmax.csv'\n",
    "directory = 'features'\n",
    "target = f'oci://{bucket_name}@{namespace}/{directory}/{fname}'\n",
    "target"
   ]
  },
  {
   "cell_type": "code",
   "execution_count": null,
   "id": "3aa4cdc7",
   "metadata": {},
   "outputs": [],
   "source": [
    "Z0.to_csv(target, index=True, encoding='utf-8',storage_options = config)"
   ]
  },
  {
   "cell_type": "code",
   "execution_count": null,
   "id": "368f8aa8",
   "metadata": {},
   "outputs": [],
   "source": [
    "emotional_high = ['trafficSourceRatio', \n",
    "                  'trafficSourceSocialRatio', \n",
    "                  'mediumSourceFbRatio',\n",
    "                  'mediumSourceCpcRatio',\n",
    "                  'hits.products_per_session',\n",
    "                  'avg_page_views',\n",
    "                  'hits.avg_viewd_product',\n",
    "                  'hits.product_page']\n",
    "emotional_low = ['trafficSourceSeRatio',\n",
    "                 'mediumSourceOrganicRatio', \n",
    "                 'avg_hits',  \n",
    "                 'avg_time_on_site', \n",
    "                 'end_of_month_ratio', \n",
    "                 'hits.avg_time2hit', \n",
    "                 'hits.avg_time_add_prod',\n",
    "                 'hits.avg_time_rmv_prod',\n",
    "                 'hits.support_page',\n",
    "                 'hits.article_page', \n",
    "                 'hits.search_keyword',\n",
    "                 'hits.category_page']"
   ]
  },
  {
   "cell_type": "code",
   "execution_count": null,
   "id": "66ce027c",
   "metadata": {},
   "outputs": [],
   "source": [
    "def convert_by_minmax(df, col_list) :\n",
    "    def f(x, is_max):\n",
    "        m = np.max(x)\n",
    "        n = np.min(x)\n",
    "        r = m if is_max else n\n",
    "        return r\n",
    "    v =  df.apply(lambda y: f(y, True) if y.name in col_list else f(y, False))\n",
    "    return v "
   ]
  },
  {
   "cell_type": "code",
   "execution_count": null,
   "id": "4603f144",
   "metadata": {},
   "outputs": [],
   "source": [
    "Z_lbl = convert_by_z(Z, emotional_high)"
   ]
  },
  {
   "cell_type": "code",
   "execution_count": null,
   "id": "34026a23",
   "metadata": {},
   "outputs": [],
   "source": [
    "Z_lbl"
   ]
  },
  {
   "cell_type": "code",
   "execution_count": null,
   "id": "65e43c84",
   "metadata": {},
   "outputs": [],
   "source": [
    "Z_MM = convert_by_minmax(Z0, emotional_high)\n",
    "Z_MM.head(5)"
   ]
  },
  {
   "cell_type": "code",
   "execution_count": null,
   "id": "f3209359",
   "metadata": {},
   "outputs": [],
   "source": [
    "directory = 'features'\n",
    "fname = 'corr_features_tag_vector_minmax.csv'\n",
    "target = f'oci://{bucket_name}@{namespace}/{directory}/{fname}'\n",
    "target"
   ]
  },
  {
   "cell_type": "code",
   "execution_count": null,
   "id": "05bed424",
   "metadata": {},
   "outputs": [],
   "source": [
    "def corr_vec_to_cols(df, vec):\n",
    "    def f(n):\n",
    "        if n > 0:  # high corr to emotional = 1\n",
    "            return 'emotio'\n",
    "        elif n < 0 : # low corr to emotional , rational = 2\n",
    "            return 'ratio'\n",
    "        else:  # no corr at all\n",
    "            return 'nocorr'\n",
    "    dft = df.T\n",
    "    z = dft.apply(lambda x : x.corr(vec))\n",
    "    res = z.map(lambda x : f(x))\n",
    "    return res"
   ]
  },
  {
   "cell_type": "code",
   "execution_count": null,
   "id": "e60e46d4",
   "metadata": {},
   "outputs": [],
   "source": [
    "C = corr_vec_to_cols(Z, Z_lbl).to_frame('corr')"
   ]
  },
  {
   "cell_type": "code",
   "execution_count": null,
   "id": "bf49c449",
   "metadata": {},
   "outputs": [],
   "source": [
    "C.isnull().values.any()"
   ]
  },
  {
   "cell_type": "code",
   "execution_count": null,
   "id": "35526360",
   "metadata": {},
   "outputs": [],
   "source": [
    "C.head(10)"
   ]
  },
  {
   "cell_type": "code",
   "execution_count": null,
   "id": "64ab23d4",
   "metadata": {},
   "outputs": [],
   "source": [
    "len(C.loc[C['corr'] == 'nocorr'])"
   ]
  },
  {
   "cell_type": "code",
   "execution_count": null,
   "id": "ca47f500",
   "metadata": {},
   "outputs": [],
   "source": [
    "len(C.loc[C['corr'] == 'emotio'])"
   ]
  },
  {
   "cell_type": "code",
   "execution_count": null,
   "id": "bc22b0a4",
   "metadata": {},
   "outputs": [],
   "source": [
    "len(C.loc[C['corr'] == 'ratio'])"
   ]
  },
  {
   "cell_type": "code",
   "execution_count": null,
   "id": "c1ed59fb",
   "metadata": {},
   "outputs": [],
   "source": [
    "C0.to_csv(target, index=True, encoding='utf-8',storage_options = config)"
   ]
  },
  {
   "cell_type": "code",
   "execution_count": null,
   "id": "8198b457",
   "metadata": {},
   "outputs": [],
   "source": [
    "C0 = corr_vec_to_cols(Z0, Z_MM).to_frame('corr')\n",
    "C0.head(10)"
   ]
  },
  {
   "cell_type": "code",
   "execution_count": null,
   "id": "8f865b25",
   "metadata": {},
   "outputs": [],
   "source": [
    "len(C0.loc[C0['corr'] == 'nocorr'])"
   ]
  },
  {
   "cell_type": "code",
   "execution_count": null,
   "id": "8ba453f5",
   "metadata": {},
   "outputs": [],
   "source": [
    "len(C0.loc[C0['corr'] == 'emotio'])"
   ]
  },
  {
   "cell_type": "code",
   "execution_count": null,
   "id": "0f355cf4",
   "metadata": {},
   "outputs": [],
   "source": [
    "len(C0.loc[C0['corr'] == 'ratio'])"
   ]
  },
  {
   "cell_type": "code",
   "execution_count": null,
   "id": "e88cf837",
   "metadata": {},
   "outputs": [],
   "source": []
  }
 ],
 "metadata": {
  "kernelspec": {
   "display_name": "Python [conda env:dataexplorationandmanipulationforcpupython3_7vyes]",
   "language": "python",
   "name": "conda-env-dataexplorationandmanipulationforcpupython3_7vyes-py"
  },
  "language_info": {
   "codemirror_mode": {
    "name": "ipython",
    "version": 3
   },
   "file_extension": ".py",
   "mimetype": "text/x-python",
   "name": "python",
   "nbconvert_exporter": "python",
   "pygments_lexer": "ipython3",
   "version": "3.7.12"
  }
 },
 "nbformat": 4,
 "nbformat_minor": 5
}
