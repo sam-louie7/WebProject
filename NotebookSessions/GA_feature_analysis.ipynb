{
 "cells": [
  {
   "cell_type": "markdown",
   "id": "c6396e0b",
   "metadata": {},
   "source": [
    "### OCI Data Science - Useful Tips\n",
    "<details>\n",
    "<summary><font size=\"2\">Check for Public Internet Access</font></summary>\n",
    "\n",
    "```python\n",
    "import requests\n",
    "response = requests.get(\"https://oracle.com\")\n",
    "assert response.status_code==200, \"Internet connection failed\"\n",
    "```\n",
    "</details>\n",
    "<details>\n",
    "<summary><font size=\"2\">Helpful Documentation </font></summary>\n",
    "<ul><li><a href=\"https://docs.cloud.oracle.com/en-us/iaas/data-science/using/data-science.htm\">Data Science Service Documentation</a></li>\n",
    "<li><a href=\"https://docs.cloud.oracle.com/iaas/tools/ads-sdk/latest/index.html\">ADS documentation</a></li>\n",
    "</ul>\n",
    "</details>\n",
    "<details>\n",
    "<summary><font size=\"2\">Typical Cell Imports and Settings for ADS</font></summary>\n",
    "\n",
    "```python\n",
    "%load_ext autoreload\n",
    "%autoreload 2\n",
    "%matplotlib inline\n",
    "\n",
    "import warnings\n",
    "warnings.filterwarnings('ignore')\n",
    "\n",
    "import logging\n",
    "logging.basicConfig(format='%(levelname)s:%(message)s', level=logging.ERROR)\n",
    "\n",
    "import ads\n",
    "from ads.dataset.factory import DatasetFactory\n",
    "from ads.automl.provider import OracleAutoMLProvider\n",
    "from ads.automl.driver import AutoML\n",
    "from ads.evaluations.evaluator import ADSEvaluator\n",
    "from ads.common.data import ADSData\n",
    "from ads.explanations.explainer import ADSExplainer\n",
    "from ads.explanations.mlx_global_explainer import MLXGlobalExplainer\n",
    "from ads.explanations.mlx_local_explainer import MLXLocalExplainer\n",
    "from ads.catalog.model import ModelCatalog\n",
    "from ads.common.model_artifact import ModelArtifact\n",
    "```\n",
    "</details>\n",
    "<details>\n",
    "<summary><font size=\"2\">Useful Environment Variables</font></summary>\n",
    "\n",
    "```python\n",
    "import os\n",
    "print(os.environ[\"NB_SESSION_COMPARTMENT_OCID\"])\n",
    "print(os.environ[\"PROJECT_OCID\"])\n",
    "print(os.environ[\"USER_OCID\"])\n",
    "print(os.environ[\"TENANCY_OCID\"])\n",
    "print(os.environ[\"NB_REGION\"])\n",
    "```\n",
    "</details>"
   ]
  },
  {
   "cell_type": "code",
   "execution_count": 1,
   "id": "c2d2b8ac",
   "metadata": {},
   "outputs": [],
   "source": [
    "import numpy as np\n",
    "import pandas as pd\n",
    "import json\n",
    "import codecs\n",
    "import os\n",
    "import sys\n",
    "import datetime as dt\n",
    "sys.path.append('../')\n",
    "import oci\n",
    "import ocifs"
   ]
  },
  {
   "cell_type": "code",
   "execution_count": 2,
   "id": "bd0c9d37",
   "metadata": {},
   "outputs": [],
   "source": [
    "from generate_data_extraction.features_functions import *\n",
    "from generate_data_extraction.reduce_feature_list import *\n",
    "from generate_data_extraction.common_columns_lists import *"
   ]
  },
  {
   "cell_type": "code",
   "execution_count": 26,
   "id": "00efda3c",
   "metadata": {},
   "outputs": [
    {
     "data": {
      "text/plain": [
       "'lrhwvlagph9z'"
      ]
     },
     "execution_count": 26,
     "metadata": {},
     "output_type": "execute_result"
    }
   ],
   "source": [
    "bucket_name = \"tenen-raw-data\"\n",
    "config = oci.config.from_file(\n",
    "        \"~/.apikey/config\",\n",
    "        \"DEFAULT\")\n",
    "object_storage_client = oci.object_storage.ObjectStorageClient(config)\n",
    "namespace = object_storage_client.get_namespace().data\n",
    "namespace"
   ]
  },
  {
   "cell_type": "code",
   "execution_count": 4,
   "id": "b3cb32e3",
   "metadata": {},
   "outputs": [],
   "source": [
    "hl_file = {'oct' : 'tenen_high_lvl_oct.csv', 'nov': 'tenen_high_lvl_nov.csv', 'dec': 'tenen_high_lvl_dec.csv' }\n",
    "hits_file = {'oct' : 'tenen_hits_extend_oct.csv', 'nov': 'tenen_hits_extend_nov.csv', 'dec': 'tenen_hits_extend_dec.csv'}"
   ]
  },
  {
   "cell_type": "code",
   "execution_count": 11,
   "id": "c7ff8fbf",
   "metadata": {},
   "outputs": [],
   "source": [
    "fname = hl_file['dec']"
   ]
  },
  {
   "cell_type": "code",
   "execution_count": 12,
   "id": "729206df",
   "metadata": {},
   "outputs": [
    {
     "data": {
      "text/plain": [
       "'oci://tenen-raw-data@lrhwvlagph9z/products/tenen_high_lvl_dec.csv'"
      ]
     },
     "execution_count": 12,
     "metadata": {},
     "output_type": "execute_result"
    }
   ],
   "source": [
    "directory = 'products'\n",
    "config = {\"config\": \"~/.apikey/config\"}\n",
    "target = f'oci://{bucket_name}@{namespace}/{directory}/{fname}'\n",
    "target"
   ]
  },
  {
   "cell_type": "code",
   "execution_count": 7,
   "id": "fdf1146f",
   "metadata": {},
   "outputs": [
    {
     "data": {
      "text/plain": [
       "(46241, 65)"
      ]
     },
     "execution_count": 7,
     "metadata": {},
     "output_type": "execute_result"
    }
   ],
   "source": [
    "#namespace = \"lrhwvlagph9z\"\n",
    "df_tl_oct = pd.read_csv(target, storage_options={\"config\": \"~/.apikey/config\"},low_memory=False)\n",
    "df_tl_oct.shape"
   ]
  },
  {
   "cell_type": "code",
   "execution_count": 10,
   "id": "c42482f0",
   "metadata": {},
   "outputs": [
    {
     "data": {
      "text/plain": [
       "(101306, 60)"
      ]
     },
     "execution_count": 10,
     "metadata": {},
     "output_type": "execute_result"
    }
   ],
   "source": [
    "df_tl_nov = pd.read_csv(target, storage_options={\"config\": \"~/.apikey/config\"},low_memory=False)\n",
    "df_tl_nov.shape"
   ]
  },
  {
   "cell_type": "code",
   "execution_count": 13,
   "id": "79ddc3b1",
   "metadata": {},
   "outputs": [
    {
     "data": {
      "text/plain": [
       "(93641, 61)"
      ]
     },
     "execution_count": 13,
     "metadata": {},
     "output_type": "execute_result"
    }
   ],
   "source": [
    "df_tl_dec = pd.read_csv(target, storage_options={\"config\": \"~/.apikey/config\"},low_memory=False)\n",
    "df_tl_dec.shape"
   ]
  },
  {
   "cell_type": "code",
   "execution_count": 14,
   "id": "b5ff6eb2",
   "metadata": {},
   "outputs": [],
   "source": [
    "df_tl_oct['fullVisitorId'] = df_tl_oct['fullVisitorId'].astype(str)\n",
    "df_tl_nov['fullVisitorId'] = df_tl_nov['fullVisitorId'].astype(str)\n",
    "df_tl_dec['fullVisitorId'] = df_tl_dec['fullVisitorId'].astype(str)"
   ]
  },
  {
   "cell_type": "code",
   "execution_count": 15,
   "id": "6b47eb89",
   "metadata": {},
   "outputs": [],
   "source": [
    "df_list = [df_tl_oct, df_tl_nov, df_tl_dec]"
   ]
  },
  {
   "cell_type": "code",
   "execution_count": 16,
   "id": "69a91239",
   "metadata": {},
   "outputs": [
    {
     "data": {
      "text/plain": [
       "(241188, 65)"
      ]
     },
     "execution_count": 16,
     "metadata": {},
     "output_type": "execute_result"
    }
   ],
   "source": [
    "df = pd.concat(df_list, ignore_index=True)\n",
    "df.shape"
   ]
  },
  {
   "cell_type": "code",
   "execution_count": 17,
   "id": "6fccbde2",
   "metadata": {},
   "outputs": [],
   "source": [
    "tmp = df.groupby('fullVisitorId')['fullVisitorId'].agg('count')"
   ]
  },
  {
   "cell_type": "code",
   "execution_count": 18,
   "id": "8f50db07",
   "metadata": {},
   "outputs": [
    {
     "data": {
      "text/plain": [
       "150549"
      ]
     },
     "execution_count": 18,
     "metadata": {},
     "output_type": "execute_result"
    }
   ],
   "source": [
    "len(tmp)"
   ]
  },
  {
   "cell_type": "code",
   "execution_count": 19,
   "id": "b0a9fede",
   "metadata": {},
   "outputs": [],
   "source": [
    "numeric_cols = ['totals.hits', 'totals.pageviews', 'totals.timeOnSite']"
   ]
  },
  {
   "cell_type": "code",
   "execution_count": 20,
   "id": "6122f533",
   "metadata": {},
   "outputs": [
    {
     "data": {
      "text/plain": [
       "(108488, 65)"
      ]
     },
     "execution_count": 20,
     "metadata": {},
     "output_type": "execute_result"
    }
   ],
   "source": [
    "df_tl = init_top_lvl_df(df, numeric_cols)\n",
    "df_tl.shape"
   ]
  },
  {
   "cell_type": "code",
   "execution_count": 21,
   "id": "895e1b1c",
   "metadata": {},
   "outputs": [
    {
     "data": {
      "text/plain": [
       "79651"
      ]
     },
     "execution_count": 21,
     "metadata": {},
     "output_type": "execute_result"
    }
   ],
   "source": [
    "tmp = df_tl.groupby('fullVisitorId')['fullVisitorId'].agg('count')\n",
    "len(tmp)"
   ]
  },
  {
   "cell_type": "code",
   "execution_count": 36,
   "id": "7c53b9e3",
   "metadata": {},
   "outputs": [
    {
     "data": {
      "text/plain": [
       "(79651, 10)"
      ]
     },
     "execution_count": 36,
     "metadata": {},
     "output_type": "execute_result"
    }
   ],
   "source": [
    "X = emotional_rational_toplvl_features(df_tl)\n",
    "X.shape"
   ]
  },
  {
   "cell_type": "code",
   "execution_count": null,
   "id": "d5dd7a84",
   "metadata": {},
   "outputs": [],
   "source": [
    "X1 = X.apply(lambda x: replace_nan_values(x))"
   ]
  },
  {
   "cell_type": "code",
   "execution_count": 38,
   "id": "80867c23",
   "metadata": {},
   "outputs": [
    {
     "data": {
      "text/plain": [
       "False"
      ]
     },
     "execution_count": 38,
     "metadata": {},
     "output_type": "execute_result"
    }
   ],
   "source": [
    "X1.isnull().values.any()"
   ]
  },
  {
   "cell_type": "code",
   "execution_count": 45,
   "id": "ff590a47",
   "metadata": {},
   "outputs": [
    {
     "data": {
      "text/html": [
       "<div>\n",
       "<style scoped>\n",
       "    .dataframe tbody tr th:only-of-type {\n",
       "        vertical-align: middle;\n",
       "    }\n",
       "\n",
       "    .dataframe tbody tr th {\n",
       "        vertical-align: top;\n",
       "    }\n",
       "\n",
       "    .dataframe thead th {\n",
       "        text-align: right;\n",
       "    }\n",
       "</style>\n",
       "<table border=\"1\" class=\"dataframe\">\n",
       "  <thead>\n",
       "    <tr style=\"text-align: right;\">\n",
       "      <th></th>\n",
       "      <th>trafficSourceRatio</th>\n",
       "      <th>trafficSourceSocialRatio</th>\n",
       "      <th>trafficSourceSeRatio</th>\n",
       "      <th>mediumSourceFbRatio</th>\n",
       "      <th>mediumSourceCpcRatio</th>\n",
       "      <th>mediumSourceOrganicRatio</th>\n",
       "      <th>avg_hits</th>\n",
       "      <th>avg_page_views</th>\n",
       "      <th>avg_time_on_site</th>\n",
       "      <th>end_of_month_ratio</th>\n",
       "    </tr>\n",
       "    <tr>\n",
       "      <th>fullVisitorId</th>\n",
       "      <th></th>\n",
       "      <th></th>\n",
       "      <th></th>\n",
       "      <th></th>\n",
       "      <th></th>\n",
       "      <th></th>\n",
       "      <th></th>\n",
       "      <th></th>\n",
       "      <th></th>\n",
       "      <th></th>\n",
       "    </tr>\n",
       "  </thead>\n",
       "  <tbody>\n",
       "    <tr>\n",
       "      <th>1000008988196085322</th>\n",
       "      <td>-0.172879</td>\n",
       "      <td>0.76479</td>\n",
       "      <td>-0.795198</td>\n",
       "      <td>1.378717</td>\n",
       "      <td>-0.714434</td>\n",
       "      <td>-0.318384</td>\n",
       "      <td>-0.675084</td>\n",
       "      <td>-0.726455</td>\n",
       "      <td>-0.597329</td>\n",
       "      <td>-0.221048</td>\n",
       "    </tr>\n",
       "    <tr>\n",
       "      <th>1000295312192619854</th>\n",
       "      <td>-0.172879</td>\n",
       "      <td>-0.55586</td>\n",
       "      <td>0.201330</td>\n",
       "      <td>-0.527781</td>\n",
       "      <td>-0.714434</td>\n",
       "      <td>0.617153</td>\n",
       "      <td>-0.334614</td>\n",
       "      <td>-0.281369</td>\n",
       "      <td>-0.418359</td>\n",
       "      <td>-0.221048</td>\n",
       "    </tr>\n",
       "    <tr>\n",
       "      <th>100032195141197061</th>\n",
       "      <td>-0.172879</td>\n",
       "      <td>0.76479</td>\n",
       "      <td>-0.795198</td>\n",
       "      <td>1.378717</td>\n",
       "      <td>-0.714434</td>\n",
       "      <td>-0.318384</td>\n",
       "      <td>-0.602126</td>\n",
       "      <td>-0.726455</td>\n",
       "      <td>-0.574958</td>\n",
       "      <td>-0.221048</td>\n",
       "    </tr>\n",
       "    <tr>\n",
       "      <th>100067031625967175</th>\n",
       "      <td>-0.172879</td>\n",
       "      <td>-0.55586</td>\n",
       "      <td>0.201330</td>\n",
       "      <td>-0.527781</td>\n",
       "      <td>-0.714434</td>\n",
       "      <td>0.617153</td>\n",
       "      <td>-0.213018</td>\n",
       "      <td>-0.281369</td>\n",
       "      <td>-0.477084</td>\n",
       "      <td>-0.221048</td>\n",
       "    </tr>\n",
       "    <tr>\n",
       "      <th>1000838440870549672</th>\n",
       "      <td>-0.172879</td>\n",
       "      <td>-0.55586</td>\n",
       "      <td>0.201330</td>\n",
       "      <td>-0.527781</td>\n",
       "      <td>0.342344</td>\n",
       "      <td>-0.318384</td>\n",
       "      <td>-0.699403</td>\n",
       "      <td>-0.503912</td>\n",
       "      <td>0.661055</td>\n",
       "      <td>-0.221048</td>\n",
       "    </tr>\n",
       "  </tbody>\n",
       "</table>\n",
       "</div>"
      ],
      "text/plain": [
       "                     trafficSourceRatio  trafficSourceSocialRatio  \\\n",
       "fullVisitorId                                                       \n",
       "1000008988196085322           -0.172879                   0.76479   \n",
       "1000295312192619854           -0.172879                  -0.55586   \n",
       "100032195141197061            -0.172879                   0.76479   \n",
       "100067031625967175            -0.172879                  -0.55586   \n",
       "1000838440870549672           -0.172879                  -0.55586   \n",
       "\n",
       "                     trafficSourceSeRatio  mediumSourceFbRatio  \\\n",
       "fullVisitorId                                                    \n",
       "1000008988196085322             -0.795198             1.378717   \n",
       "1000295312192619854              0.201330            -0.527781   \n",
       "100032195141197061              -0.795198             1.378717   \n",
       "100067031625967175               0.201330            -0.527781   \n",
       "1000838440870549672              0.201330            -0.527781   \n",
       "\n",
       "                     mediumSourceCpcRatio  mediumSourceOrganicRatio  avg_hits  \\\n",
       "fullVisitorId                                                                   \n",
       "1000008988196085322             -0.714434                 -0.318384 -0.675084   \n",
       "1000295312192619854             -0.714434                  0.617153 -0.334614   \n",
       "100032195141197061              -0.714434                 -0.318384 -0.602126   \n",
       "100067031625967175              -0.714434                  0.617153 -0.213018   \n",
       "1000838440870549672              0.342344                 -0.318384 -0.699403   \n",
       "\n",
       "                     avg_page_views  avg_time_on_site  end_of_month_ratio  \n",
       "fullVisitorId                                                              \n",
       "1000008988196085322       -0.726455         -0.597329           -0.221048  \n",
       "1000295312192619854       -0.281369         -0.418359           -0.221048  \n",
       "100032195141197061        -0.726455         -0.574958           -0.221048  \n",
       "100067031625967175        -0.281369         -0.477084           -0.221048  \n",
       "1000838440870549672       -0.503912          0.661055           -0.221048  "
      ]
     },
     "execution_count": 45,
     "metadata": {},
     "output_type": "execute_result"
    }
   ],
   "source": [
    "X1.head(5)"
   ]
  },
  {
   "cell_type": "code",
   "execution_count": 5,
   "id": "4952401e",
   "metadata": {},
   "outputs": [
    {
     "data": {
      "text/plain": [
       "'oci://tenen-raw-data@lrhwvlagph9z/features/top_level_features.csv'"
      ]
     },
     "execution_count": 5,
     "metadata": {},
     "output_type": "execute_result"
    }
   ],
   "source": [
    "directory = 'features'\n",
    "fname = 'top_level_features.csv'\n",
    "target = f'oci://{bucket_name}@{namespace}/{directory}/{fname}'\n",
    "target"
   ]
  },
  {
   "cell_type": "code",
   "execution_count": 26,
   "id": "0eb970e6",
   "metadata": {},
   "outputs": [],
   "source": [
    "X1.to_csv(target, index=False, encoding='utf-8',storage_options = config)"
   ]
  },
  {
   "cell_type": "code",
   "execution_count": 10,
   "id": "460776d5",
   "metadata": {},
   "outputs": [
    {
     "data": {
      "text/plain": [
       "'oci://tenen-raw-data@lrhwvlagph9z/products/tenen_hits_extend_dec.csv'"
      ]
     },
     "execution_count": 10,
     "metadata": {},
     "output_type": "execute_result"
    }
   ],
   "source": [
    "directory = 'products'\n",
    "fname = hits_file['dec']\n",
    "target = f'oci://{bucket_name}@{namespace}/{directory}/{fname}'\n",
    "target"
   ]
  },
  {
   "cell_type": "code",
   "execution_count": 7,
   "id": "a5ffc7eb",
   "metadata": {},
   "outputs": [
    {
     "data": {
      "text/plain": [
       "(918915, 67)"
      ]
     },
     "execution_count": 7,
     "metadata": {},
     "output_type": "execute_result"
    }
   ],
   "source": [
    "df_hits_oct = pd.read_csv(target, storage_options={\"config\": \"~/.apikey/config\"},low_memory=False)\n",
    "df_hits_oct.shape"
   ]
  },
  {
   "cell_type": "code",
   "execution_count": 9,
   "id": "21e34a13",
   "metadata": {},
   "outputs": [
    {
     "data": {
      "text/plain": [
       "(2348379, 67)"
      ]
     },
     "execution_count": 9,
     "metadata": {},
     "output_type": "execute_result"
    }
   ],
   "source": [
    "df_hits_nov = pd.read_csv(target, storage_options={\"config\": \"~/.apikey/config\"},low_memory=False)\n",
    "df_hits_nov.shape"
   ]
  },
  {
   "cell_type": "code",
   "execution_count": 11,
   "id": "5ff4e640",
   "metadata": {},
   "outputs": [
    {
     "data": {
      "text/plain": [
       "(1831008, 67)"
      ]
     },
     "execution_count": 11,
     "metadata": {},
     "output_type": "execute_result"
    }
   ],
   "source": [
    "df_hits_dec = pd.read_csv(target, storage_options={\"config\": \"~/.apikey/config\"},low_memory=False)\n",
    "df_hits_dec.shape"
   ]
  },
  {
   "cell_type": "code",
   "execution_count": 12,
   "id": "0ee3653e",
   "metadata": {},
   "outputs": [],
   "source": [
    "df_hits_oct['fullVisitorId'] = df_hits_oct['fullVisitorId'].astype(str)\n",
    "df_hits_nov['fullVisitorId'] = df_hits_nov['fullVisitorId'].astype(str) \n",
    "df_hits_dec['fullVisitorId'] = df_hits_dec['fullVisitorId'].astype(str) "
   ]
  },
  {
   "cell_type": "code",
   "execution_count": 13,
   "id": "72699a27",
   "metadata": {},
   "outputs": [
    {
     "data": {
      "text/plain": [
       "(5098302, 67)"
      ]
     },
     "execution_count": 13,
     "metadata": {},
     "output_type": "execute_result"
    }
   ],
   "source": [
    "df_list = [df_hits_oct, df_hits_nov, df_hits_dec]\n",
    "dfh = pd.concat(df_list, ignore_index=True)\n",
    "dfh.shape"
   ]
  },
  {
   "cell_type": "code",
   "execution_count": 14,
   "id": "f5cf22a4",
   "metadata": {},
   "outputs": [
    {
     "data": {
      "text/plain": [
       "0    6680643535448783441\n",
       "1    6680643535448783441\n",
       "2    6680643535448783441\n",
       "3    6680643535448783441\n",
       "4    6680643535448783441\n",
       "Name: fullVisitorId, dtype: object"
      ]
     },
     "execution_count": 14,
     "metadata": {},
     "output_type": "execute_result"
    }
   ],
   "source": [
    "dfh['fullVisitorId'].head(5)"
   ]
  },
  {
   "cell_type": "code",
   "execution_count": 15,
   "id": "336202a7",
   "metadata": {},
   "outputs": [],
   "source": [
    "numeric_cols = ['numOfProducts', 'hits.eCommerceAction.action_type', 'hits.time']"
   ]
  },
  {
   "cell_type": "code",
   "execution_count": 16,
   "id": "11ec5ab3",
   "metadata": {},
   "outputs": [
    {
     "data": {
      "text/plain": [
       "(4356126, 68)"
      ]
     },
     "execution_count": 16,
     "metadata": {},
     "output_type": "execute_result"
    }
   ],
   "source": [
    "df_hits = init_hits_df(dfh, numeric_cols, 'hits.time')\n",
    "df_hits.shape"
   ]
  },
  {
   "cell_type": "code",
   "execution_count": 17,
   "id": "15250e4f",
   "metadata": {},
   "outputs": [
    {
     "data": {
      "text/plain": [
       "79651"
      ]
     },
     "execution_count": 17,
     "metadata": {},
     "output_type": "execute_result"
    }
   ],
   "source": [
    "tmp = df_hits.groupby('fullVisitorId')['fullVisitorId'].agg('count')\n",
    "len(tmp)"
   ]
  },
  {
   "cell_type": "code",
   "execution_count": 18,
   "id": "d1944aa7",
   "metadata": {},
   "outputs": [
    {
     "data": {
      "text/plain": [
       "(79651, 10)"
      ]
     },
     "execution_count": 18,
     "metadata": {},
     "output_type": "execute_result"
    }
   ],
   "source": [
    "Y = emotional_rational_hits_features(df_hits)\n",
    "Y.shape"
   ]
  },
  {
   "cell_type": "code",
   "execution_count": 19,
   "id": "31b4005c",
   "metadata": {},
   "outputs": [],
   "source": [
    "Y1 = Y.apply(lambda x: replace_nan_values(x))"
   ]
  },
  {
   "cell_type": "code",
   "execution_count": 20,
   "id": "50d45b1c",
   "metadata": {},
   "outputs": [
    {
     "data": {
      "text/plain": [
       "False"
      ]
     },
     "execution_count": 20,
     "metadata": {},
     "output_type": "execute_result"
    }
   ],
   "source": [
    "Y1.isnull().values.any()"
   ]
  },
  {
   "cell_type": "code",
   "execution_count": 29,
   "id": "a5263bd3",
   "metadata": {},
   "outputs": [
    {
     "data": {
      "text/html": [
       "<div>\n",
       "<style scoped>\n",
       "    .dataframe tbody tr th:only-of-type {\n",
       "        vertical-align: middle;\n",
       "    }\n",
       "\n",
       "    .dataframe tbody tr th {\n",
       "        vertical-align: top;\n",
       "    }\n",
       "\n",
       "    .dataframe thead th {\n",
       "        text-align: right;\n",
       "    }\n",
       "</style>\n",
       "<table border=\"1\" class=\"dataframe\">\n",
       "  <thead>\n",
       "    <tr style=\"text-align: right;\">\n",
       "      <th></th>\n",
       "      <th>hits.products_per_session</th>\n",
       "      <th>hits.avg_viewd_product</th>\n",
       "      <th>hits.avg_time2hit</th>\n",
       "      <th>hits.avg_time_add_prod</th>\n",
       "      <th>hits.avg_time_rmv_prod</th>\n",
       "      <th>hits.avg_payment_page</th>\n",
       "      <th>hits.avg_support_page</th>\n",
       "      <th>hits.avg_article_page</th>\n",
       "      <th>hits.avg_shopping_cart</th>\n",
       "      <th>hits.avg_search_keyword</th>\n",
       "    </tr>\n",
       "    <tr>\n",
       "      <th>fullVisitorId</th>\n",
       "      <th></th>\n",
       "      <th></th>\n",
       "      <th></th>\n",
       "      <th></th>\n",
       "      <th></th>\n",
       "      <th></th>\n",
       "      <th></th>\n",
       "      <th></th>\n",
       "      <th></th>\n",
       "      <th></th>\n",
       "    </tr>\n",
       "  </thead>\n",
       "  <tbody>\n",
       "    <tr>\n",
       "      <th>1000008988196085322</th>\n",
       "      <td>-0.555664</td>\n",
       "      <td>-0.645755</td>\n",
       "      <td>-0.387993</td>\n",
       "      <td>-10.851024</td>\n",
       "      <td>-10.911458</td>\n",
       "      <td>-11.717352</td>\n",
       "      <td>-11.208384</td>\n",
       "      <td>-10.735552</td>\n",
       "      <td>-10.813007</td>\n",
       "      <td>-10.813007</td>\n",
       "    </tr>\n",
       "    <tr>\n",
       "      <th>1000295312192619854</th>\n",
       "      <td>-0.163786</td>\n",
       "      <td>-0.645755</td>\n",
       "      <td>-0.259670</td>\n",
       "      <td>-10.851024</td>\n",
       "      <td>-10.911458</td>\n",
       "      <td>-11.717352</td>\n",
       "      <td>-11.208384</td>\n",
       "      <td>-10.735552</td>\n",
       "      <td>-10.813007</td>\n",
       "      <td>-10.813007</td>\n",
       "    </tr>\n",
       "    <tr>\n",
       "      <th>100032195141197061</th>\n",
       "      <td>-0.555664</td>\n",
       "      <td>-0.645755</td>\n",
       "      <td>-0.369680</td>\n",
       "      <td>-10.851024</td>\n",
       "      <td>-10.911458</td>\n",
       "      <td>-11.717352</td>\n",
       "      <td>-11.208384</td>\n",
       "      <td>-10.735552</td>\n",
       "      <td>-10.813007</td>\n",
       "      <td>-10.813007</td>\n",
       "    </tr>\n",
       "    <tr>\n",
       "      <th>100067031625967175</th>\n",
       "      <td>-0.546334</td>\n",
       "      <td>-0.253261</td>\n",
       "      <td>-0.348730</td>\n",
       "      <td>-10.851024</td>\n",
       "      <td>-10.911458</td>\n",
       "      <td>-11.717352</td>\n",
       "      <td>-11.208384</td>\n",
       "      <td>-0.537366</td>\n",
       "      <td>-10.813007</td>\n",
       "      <td>-10.813007</td>\n",
       "    </tr>\n",
       "    <tr>\n",
       "      <th>1000838440870549672</th>\n",
       "      <td>-0.546334</td>\n",
       "      <td>-0.253261</td>\n",
       "      <td>3.278400</td>\n",
       "      <td>-10.851024</td>\n",
       "      <td>-10.911458</td>\n",
       "      <td>-11.717352</td>\n",
       "      <td>-11.208384</td>\n",
       "      <td>-10.735552</td>\n",
       "      <td>-10.813007</td>\n",
       "      <td>-10.813007</td>\n",
       "    </tr>\n",
       "  </tbody>\n",
       "</table>\n",
       "</div>"
      ],
      "text/plain": [
       "                     hits.products_per_session  hits.avg_viewd_product  \\\n",
       "fullVisitorId                                                            \n",
       "1000008988196085322                  -0.555664               -0.645755   \n",
       "1000295312192619854                  -0.163786               -0.645755   \n",
       "100032195141197061                   -0.555664               -0.645755   \n",
       "100067031625967175                   -0.546334               -0.253261   \n",
       "1000838440870549672                  -0.546334               -0.253261   \n",
       "\n",
       "                     hits.avg_time2hit  hits.avg_time_add_prod  \\\n",
       "fullVisitorId                                                    \n",
       "1000008988196085322          -0.387993              -10.851024   \n",
       "1000295312192619854          -0.259670              -10.851024   \n",
       "100032195141197061           -0.369680              -10.851024   \n",
       "100067031625967175           -0.348730              -10.851024   \n",
       "1000838440870549672           3.278400              -10.851024   \n",
       "\n",
       "                     hits.avg_time_rmv_prod  hits.avg_payment_page  \\\n",
       "fullVisitorId                                                        \n",
       "1000008988196085322              -10.911458             -11.717352   \n",
       "1000295312192619854              -10.911458             -11.717352   \n",
       "100032195141197061               -10.911458             -11.717352   \n",
       "100067031625967175               -10.911458             -11.717352   \n",
       "1000838440870549672              -10.911458             -11.717352   \n",
       "\n",
       "                     hits.avg_support_page  hits.avg_article_page  \\\n",
       "fullVisitorId                                                       \n",
       "1000008988196085322             -11.208384             -10.735552   \n",
       "1000295312192619854             -11.208384             -10.735552   \n",
       "100032195141197061              -11.208384             -10.735552   \n",
       "100067031625967175              -11.208384              -0.537366   \n",
       "1000838440870549672             -11.208384             -10.735552   \n",
       "\n",
       "                     hits.avg_shopping_cart  hits.avg_search_keyword  \n",
       "fullVisitorId                                                         \n",
       "1000008988196085322              -10.813007               -10.813007  \n",
       "1000295312192619854              -10.813007               -10.813007  \n",
       "100032195141197061               -10.813007               -10.813007  \n",
       "100067031625967175               -10.813007               -10.813007  \n",
       "1000838440870549672              -10.813007               -10.813007  "
      ]
     },
     "execution_count": 29,
     "metadata": {},
     "output_type": "execute_result"
    }
   ],
   "source": [
    "Y1.head(5)"
   ]
  },
  {
   "cell_type": "code",
   "execution_count": 24,
   "id": "6068495c",
   "metadata": {},
   "outputs": [
    {
     "data": {
      "text/plain": [
       "'oci://tenen-raw-data@lrhwvlagph9z/features/hits_features.csv'"
      ]
     },
     "execution_count": 24,
     "metadata": {},
     "output_type": "execute_result"
    }
   ],
   "source": [
    "directory = 'features'\n",
    "fname = 'hits_features.csv'\n",
    "target = f'oci://{bucket_name}@{namespace}/{directory}/{fname}'\n",
    "target"
   ]
  },
  {
   "cell_type": "code",
   "execution_count": 25,
   "id": "01c053ac",
   "metadata": {},
   "outputs": [
    {
     "ename": "ServiceError",
     "evalue": "{'opc-request-id': '/EB55FE4BDBA571BE08CF90B9174D37A6/1B80E924A09782437F8C22E4F74EEDA2', 'code': 'NotAuthenticated', 'message': 'The required information to complete authentication was not provided or was incorrect.', 'status': 401}",
     "output_type": "error",
     "traceback": [
      "\u001b[0;31m---------------------------------------------------------------------------\u001b[0m",
      "\u001b[0;31mServiceError\u001b[0m                              Traceback (most recent call last)",
      "\u001b[0;32m/tmp/ipykernel_940/2198428525.py\u001b[0m in \u001b[0;36m<module>\u001b[0;34m\u001b[0m\n\u001b[0;32m----> 1\u001b[0;31m \u001b[0mY1\u001b[0m\u001b[0;34m.\u001b[0m\u001b[0mto_csv\u001b[0m\u001b[0;34m(\u001b[0m\u001b[0mtarget\u001b[0m\u001b[0;34m,\u001b[0m \u001b[0mindex\u001b[0m\u001b[0;34m=\u001b[0m\u001b[0;32mFalse\u001b[0m\u001b[0;34m,\u001b[0m \u001b[0mencoding\u001b[0m\u001b[0;34m=\u001b[0m\u001b[0;34m'utf-8'\u001b[0m\u001b[0;34m,\u001b[0m\u001b[0mstorage_options\u001b[0m \u001b[0;34m=\u001b[0m \u001b[0mconfig\u001b[0m\u001b[0;34m)\u001b[0m\u001b[0;34m\u001b[0m\u001b[0;34m\u001b[0m\u001b[0m\n\u001b[0m",
      "\u001b[0;32m~/conda/dataexplorationandmanipulationforcpupython3_7vyes/lib/python3.7/site-packages/pandas/core/generic.py\u001b[0m in \u001b[0;36mto_csv\u001b[0;34m(self, path_or_buf, sep, na_rep, float_format, columns, header, index, index_label, mode, encoding, compression, quoting, quotechar, line_terminator, chunksize, date_format, doublequote, escapechar, decimal, errors, storage_options)\u001b[0m\n\u001b[1;32m   3480\u001b[0m             \u001b[0mdoublequote\u001b[0m\u001b[0;34m=\u001b[0m\u001b[0mdoublequote\u001b[0m\u001b[0;34m,\u001b[0m\u001b[0;34m\u001b[0m\u001b[0;34m\u001b[0m\u001b[0m\n\u001b[1;32m   3481\u001b[0m             \u001b[0mescapechar\u001b[0m\u001b[0;34m=\u001b[0m\u001b[0mescapechar\u001b[0m\u001b[0;34m,\u001b[0m\u001b[0;34m\u001b[0m\u001b[0;34m\u001b[0m\u001b[0m\n\u001b[0;32m-> 3482\u001b[0;31m             \u001b[0mstorage_options\u001b[0m\u001b[0;34m=\u001b[0m\u001b[0mstorage_options\u001b[0m\u001b[0;34m,\u001b[0m\u001b[0;34m\u001b[0m\u001b[0;34m\u001b[0m\u001b[0m\n\u001b[0m\u001b[1;32m   3483\u001b[0m         )\n\u001b[1;32m   3484\u001b[0m \u001b[0;34m\u001b[0m\u001b[0m\n",
      "\u001b[0;32m~/conda/dataexplorationandmanipulationforcpupython3_7vyes/lib/python3.7/site-packages/pandas/io/formats/format.py\u001b[0m in \u001b[0;36mto_csv\u001b[0;34m(self, path_or_buf, encoding, sep, columns, index_label, mode, compression, quoting, quotechar, line_terminator, chunksize, date_format, doublequote, escapechar, errors, storage_options)\u001b[0m\n\u001b[1;32m   1103\u001b[0m             \u001b[0mformatter\u001b[0m\u001b[0;34m=\u001b[0m\u001b[0mself\u001b[0m\u001b[0;34m.\u001b[0m\u001b[0mfmt\u001b[0m\u001b[0;34m,\u001b[0m\u001b[0;34m\u001b[0m\u001b[0;34m\u001b[0m\u001b[0m\n\u001b[1;32m   1104\u001b[0m         )\n\u001b[0;32m-> 1105\u001b[0;31m         \u001b[0mcsv_formatter\u001b[0m\u001b[0;34m.\u001b[0m\u001b[0msave\u001b[0m\u001b[0;34m(\u001b[0m\u001b[0;34m)\u001b[0m\u001b[0;34m\u001b[0m\u001b[0;34m\u001b[0m\u001b[0m\n\u001b[0m\u001b[1;32m   1106\u001b[0m \u001b[0;34m\u001b[0m\u001b[0m\n\u001b[1;32m   1107\u001b[0m         \u001b[0;32mif\u001b[0m \u001b[0mcreated_buffer\u001b[0m\u001b[0;34m:\u001b[0m\u001b[0;34m\u001b[0m\u001b[0;34m\u001b[0m\u001b[0m\n",
      "\u001b[0;32m~/conda/dataexplorationandmanipulationforcpupython3_7vyes/lib/python3.7/site-packages/pandas/io/formats/csvs.py\u001b[0m in \u001b[0;36msave\u001b[0;34m(self)\u001b[0m\n\u001b[1;32m    241\u001b[0m             \u001b[0merrors\u001b[0m\u001b[0;34m=\u001b[0m\u001b[0mself\u001b[0m\u001b[0;34m.\u001b[0m\u001b[0merrors\u001b[0m\u001b[0;34m,\u001b[0m\u001b[0;34m\u001b[0m\u001b[0;34m\u001b[0m\u001b[0m\n\u001b[1;32m    242\u001b[0m             \u001b[0mcompression\u001b[0m\u001b[0;34m=\u001b[0m\u001b[0mself\u001b[0m\u001b[0;34m.\u001b[0m\u001b[0mcompression\u001b[0m\u001b[0;34m,\u001b[0m\u001b[0;34m\u001b[0m\u001b[0;34m\u001b[0m\u001b[0m\n\u001b[0;32m--> 243\u001b[0;31m             \u001b[0mstorage_options\u001b[0m\u001b[0;34m=\u001b[0m\u001b[0mself\u001b[0m\u001b[0;34m.\u001b[0m\u001b[0mstorage_options\u001b[0m\u001b[0;34m,\u001b[0m\u001b[0;34m\u001b[0m\u001b[0;34m\u001b[0m\u001b[0m\n\u001b[0m\u001b[1;32m    244\u001b[0m         ) as handles:\n\u001b[1;32m    245\u001b[0m \u001b[0;34m\u001b[0m\u001b[0m\n",
      "\u001b[0;32m~/conda/dataexplorationandmanipulationforcpupython3_7vyes/lib/python3.7/site-packages/pandas/io/common.py\u001b[0m in \u001b[0;36mget_handle\u001b[0;34m(path_or_buf, mode, encoding, compression, memory_map, is_text, errors, storage_options)\u001b[0m\n\u001b[1;32m    612\u001b[0m         \u001b[0mcompression\u001b[0m\u001b[0;34m=\u001b[0m\u001b[0mcompression\u001b[0m\u001b[0;34m,\u001b[0m\u001b[0;34m\u001b[0m\u001b[0;34m\u001b[0m\u001b[0m\n\u001b[1;32m    613\u001b[0m         \u001b[0mmode\u001b[0m\u001b[0;34m=\u001b[0m\u001b[0mmode\u001b[0m\u001b[0;34m,\u001b[0m\u001b[0;34m\u001b[0m\u001b[0;34m\u001b[0m\u001b[0m\n\u001b[0;32m--> 614\u001b[0;31m         \u001b[0mstorage_options\u001b[0m\u001b[0;34m=\u001b[0m\u001b[0mstorage_options\u001b[0m\u001b[0;34m,\u001b[0m\u001b[0;34m\u001b[0m\u001b[0;34m\u001b[0m\u001b[0m\n\u001b[0m\u001b[1;32m    615\u001b[0m     )\n\u001b[1;32m    616\u001b[0m \u001b[0;34m\u001b[0m\u001b[0m\n",
      "\u001b[0;32m~/conda/dataexplorationandmanipulationforcpupython3_7vyes/lib/python3.7/site-packages/pandas/io/common.py\u001b[0m in \u001b[0;36m_get_filepath_or_buffer\u001b[0;34m(filepath_or_buffer, encoding, compression, mode, storage_options)\u001b[0m\n\u001b[1;32m    357\u001b[0m         \u001b[0;32mtry\u001b[0m\u001b[0;34m:\u001b[0m\u001b[0;34m\u001b[0m\u001b[0;34m\u001b[0m\u001b[0m\n\u001b[1;32m    358\u001b[0m             file_obj = fsspec.open(\n\u001b[0;32m--> 359\u001b[0;31m                 \u001b[0mfilepath_or_buffer\u001b[0m\u001b[0;34m,\u001b[0m \u001b[0mmode\u001b[0m\u001b[0;34m=\u001b[0m\u001b[0mfsspec_mode\u001b[0m\u001b[0;34m,\u001b[0m \u001b[0;34m**\u001b[0m\u001b[0;34m(\u001b[0m\u001b[0mstorage_options\u001b[0m \u001b[0;32mor\u001b[0m \u001b[0;34m{\u001b[0m\u001b[0;34m}\u001b[0m\u001b[0;34m)\u001b[0m\u001b[0;34m\u001b[0m\u001b[0;34m\u001b[0m\u001b[0m\n\u001b[0m\u001b[1;32m    360\u001b[0m             ).open()\n\u001b[1;32m    361\u001b[0m         \u001b[0;31m# GH 34626 Reads from Public Buckets without Credentials needs anon=True\u001b[0m\u001b[0;34m\u001b[0m\u001b[0;34m\u001b[0m\u001b[0;34m\u001b[0m\u001b[0m\n",
      "\u001b[0;32m~/conda/dataexplorationandmanipulationforcpupython3_7vyes/lib/python3.7/site-packages/fsspec/core.py\u001b[0m in \u001b[0;36mopen\u001b[0;34m(urlpath, mode, compression, encoding, errors, protocol, newline, **kwargs)\u001b[0m\n\u001b[1;32m    459\u001b[0m         \u001b[0mnewline\u001b[0m\u001b[0;34m=\u001b[0m\u001b[0mnewline\u001b[0m\u001b[0;34m,\u001b[0m\u001b[0;34m\u001b[0m\u001b[0;34m\u001b[0m\u001b[0m\n\u001b[1;32m    460\u001b[0m         \u001b[0mexpand\u001b[0m\u001b[0;34m=\u001b[0m\u001b[0;32mFalse\u001b[0m\u001b[0;34m,\u001b[0m\u001b[0;34m\u001b[0m\u001b[0;34m\u001b[0m\u001b[0m\n\u001b[0;32m--> 461\u001b[0;31m         \u001b[0;34m**\u001b[0m\u001b[0mkwargs\u001b[0m\u001b[0;34m,\u001b[0m\u001b[0;34m\u001b[0m\u001b[0;34m\u001b[0m\u001b[0m\n\u001b[0m\u001b[1;32m    462\u001b[0m     )[0]\n\u001b[1;32m    463\u001b[0m \u001b[0;34m\u001b[0m\u001b[0m\n",
      "\u001b[0;32m~/conda/dataexplorationandmanipulationforcpupython3_7vyes/lib/python3.7/site-packages/fsspec/core.py\u001b[0m in \u001b[0;36mopen_files\u001b[0;34m(urlpath, mode, compression, encoding, errors, name_function, num, protocol, newline, auto_mkdir, expand, **kwargs)\u001b[0m\n\u001b[1;32m    291\u001b[0m         \u001b[0mstorage_options\u001b[0m\u001b[0;34m=\u001b[0m\u001b[0mkwargs\u001b[0m\u001b[0;34m,\u001b[0m\u001b[0;34m\u001b[0m\u001b[0;34m\u001b[0m\u001b[0m\n\u001b[1;32m    292\u001b[0m         \u001b[0mprotocol\u001b[0m\u001b[0;34m=\u001b[0m\u001b[0mprotocol\u001b[0m\u001b[0;34m,\u001b[0m\u001b[0;34m\u001b[0m\u001b[0;34m\u001b[0m\u001b[0m\n\u001b[0;32m--> 293\u001b[0;31m         \u001b[0mexpand\u001b[0m\u001b[0;34m=\u001b[0m\u001b[0mexpand\u001b[0m\u001b[0;34m,\u001b[0m\u001b[0;34m\u001b[0m\u001b[0;34m\u001b[0m\u001b[0m\n\u001b[0m\u001b[1;32m    294\u001b[0m     )\n\u001b[1;32m    295\u001b[0m     \u001b[0;32mif\u001b[0m \u001b[0;34m\"r\"\u001b[0m \u001b[0;32mnot\u001b[0m \u001b[0;32min\u001b[0m \u001b[0mmode\u001b[0m \u001b[0;32mand\u001b[0m \u001b[0mauto_mkdir\u001b[0m\u001b[0;34m:\u001b[0m\u001b[0;34m\u001b[0m\u001b[0;34m\u001b[0m\u001b[0m\n",
      "\u001b[0;32m~/conda/dataexplorationandmanipulationforcpupython3_7vyes/lib/python3.7/site-packages/fsspec/core.py\u001b[0m in \u001b[0;36mget_fs_token_paths\u001b[0;34m(urlpath, mode, num, name_function, storage_options, protocol, expand)\u001b[0m\n\u001b[1;32m    630\u001b[0m                 )\n\u001b[1;32m    631\u001b[0m             \u001b[0mupdate_storage_options\u001b[0m\u001b[0;34m(\u001b[0m\u001b[0moptions\u001b[0m\u001b[0;34m,\u001b[0m \u001b[0mstorage_options\u001b[0m\u001b[0;34m)\u001b[0m\u001b[0;34m\u001b[0m\u001b[0;34m\u001b[0m\u001b[0m\n\u001b[0;32m--> 632\u001b[0;31m             \u001b[0mfs\u001b[0m \u001b[0;34m=\u001b[0m \u001b[0mcls\u001b[0m\u001b[0;34m(\u001b[0m\u001b[0;34m**\u001b[0m\u001b[0moptions\u001b[0m\u001b[0;34m)\u001b[0m\u001b[0;34m\u001b[0m\u001b[0;34m\u001b[0m\u001b[0m\n\u001b[0m\u001b[1;32m    633\u001b[0m         \u001b[0;32melse\u001b[0m\u001b[0;34m:\u001b[0m\u001b[0;34m\u001b[0m\u001b[0;34m\u001b[0m\u001b[0m\n\u001b[1;32m    634\u001b[0m             \u001b[0mprotocols\u001b[0m \u001b[0;34m=\u001b[0m \u001b[0msplit_protocol\u001b[0m\u001b[0;34m(\u001b[0m\u001b[0murlpath\u001b[0m\u001b[0;34m)\u001b[0m\u001b[0;34m[\u001b[0m\u001b[0;36m0\u001b[0m\u001b[0;34m]\u001b[0m\u001b[0;34m\u001b[0m\u001b[0;34m\u001b[0m\u001b[0m\n",
      "\u001b[0;32m~/conda/dataexplorationandmanipulationforcpupython3_7vyes/lib/python3.7/site-packages/fsspec/spec.py\u001b[0m in \u001b[0;36m__call__\u001b[0;34m(cls, *args, **kwargs)\u001b[0m\n\u001b[1;32m     74\u001b[0m             \u001b[0;32mreturn\u001b[0m \u001b[0mcls\u001b[0m\u001b[0;34m.\u001b[0m\u001b[0m_cache\u001b[0m\u001b[0;34m[\u001b[0m\u001b[0mtoken\u001b[0m\u001b[0;34m]\u001b[0m\u001b[0;34m\u001b[0m\u001b[0;34m\u001b[0m\u001b[0m\n\u001b[1;32m     75\u001b[0m         \u001b[0;32melse\u001b[0m\u001b[0;34m:\u001b[0m\u001b[0;34m\u001b[0m\u001b[0;34m\u001b[0m\u001b[0m\n\u001b[0;32m---> 76\u001b[0;31m             \u001b[0mobj\u001b[0m \u001b[0;34m=\u001b[0m \u001b[0msuper\u001b[0m\u001b[0;34m(\u001b[0m\u001b[0;34m)\u001b[0m\u001b[0;34m.\u001b[0m\u001b[0m__call__\u001b[0m\u001b[0;34m(\u001b[0m\u001b[0;34m*\u001b[0m\u001b[0margs\u001b[0m\u001b[0;34m,\u001b[0m \u001b[0;34m**\u001b[0m\u001b[0mkwargs\u001b[0m\u001b[0;34m)\u001b[0m\u001b[0;34m\u001b[0m\u001b[0;34m\u001b[0m\u001b[0m\n\u001b[0m\u001b[1;32m     77\u001b[0m             \u001b[0;31m# Setting _fs_token here causes some static linters to complain.\u001b[0m\u001b[0;34m\u001b[0m\u001b[0;34m\u001b[0m\u001b[0;34m\u001b[0m\u001b[0m\n\u001b[1;32m     78\u001b[0m             \u001b[0mobj\u001b[0m\u001b[0;34m.\u001b[0m\u001b[0m_fs_token_\u001b[0m \u001b[0;34m=\u001b[0m \u001b[0mtoken\u001b[0m\u001b[0;34m\u001b[0m\u001b[0;34m\u001b[0m\u001b[0m\n",
      "\u001b[0;32m~/conda/dataexplorationandmanipulationforcpupython3_7vyes/lib/python3.7/site-packages/ocifs/core.py\u001b[0m in \u001b[0;36m__init__\u001b[0;34m(self, config, signer, profile, iam_principal, region, default_block_size, default_cache_type, config_kwargs, oci_additional_kwargs, **kwargs)\u001b[0m\n\u001b[1;32m    157\u001b[0m         \u001b[0mself\u001b[0m\u001b[0;34m.\u001b[0m\u001b[0mdefault_tenancy\u001b[0m \u001b[0;34m=\u001b[0m \u001b[0;32mNone\u001b[0m\u001b[0;34m\u001b[0m\u001b[0;34m\u001b[0m\u001b[0m\n\u001b[1;32m    158\u001b[0m         \u001b[0mself\u001b[0m\u001b[0;34m.\u001b[0m\u001b[0mdefault_namespace\u001b[0m \u001b[0;34m=\u001b[0m \u001b[0;32mNone\u001b[0m\u001b[0;34m\u001b[0m\u001b[0;34m\u001b[0m\u001b[0m\n\u001b[0;32m--> 159\u001b[0;31m         \u001b[0mself\u001b[0m\u001b[0;34m.\u001b[0m\u001b[0mconnect\u001b[0m\u001b[0;34m(\u001b[0m\u001b[0;34m)\u001b[0m\u001b[0;34m\u001b[0m\u001b[0;34m\u001b[0m\u001b[0m\n\u001b[0m\u001b[1;32m    160\u001b[0m         \u001b[0msuper\u001b[0m\u001b[0;34m(\u001b[0m\u001b[0;34m)\u001b[0m\u001b[0;34m.\u001b[0m\u001b[0m__init__\u001b[0m\u001b[0;34m(\u001b[0m\u001b[0;34m**\u001b[0m\u001b[0mkwargs\u001b[0m\u001b[0;34m)\u001b[0m\u001b[0;34m\u001b[0m\u001b[0;34m\u001b[0m\u001b[0m\n\u001b[1;32m    161\u001b[0m         \u001b[0mself\u001b[0m\u001b[0;34m.\u001b[0m\u001b[0mdefault_cache_type\u001b[0m \u001b[0;34m=\u001b[0m \u001b[0mdefault_cache_type\u001b[0m\u001b[0;34m\u001b[0m\u001b[0;34m\u001b[0m\u001b[0m\n",
      "\u001b[0;32m~/conda/dataexplorationandmanipulationforcpupython3_7vyes/lib/python3.7/site-packages/ocifs/core.py\u001b[0m in \u001b[0;36mconnect\u001b[0;34m(self, refresh)\u001b[0m\n\u001b[1;32m    232\u001b[0m         \u001b[0;32melif\u001b[0m \u001b[0;32mnot\u001b[0m \u001b[0mself\u001b[0m\u001b[0;34m.\u001b[0m\u001b[0mconfig\u001b[0m\u001b[0;34m:\u001b[0m\u001b[0;34m\u001b[0m\u001b[0;34m\u001b[0m\u001b[0m\n\u001b[1;32m    233\u001b[0m             \u001b[0;32mif\u001b[0m \u001b[0mself\u001b[0m\u001b[0;34m.\u001b[0m\u001b[0m_iam_principal\u001b[0m \u001b[0;32mis\u001b[0m \u001b[0;32mNone\u001b[0m\u001b[0;34m:\u001b[0m\u001b[0;34m\u001b[0m\u001b[0;34m\u001b[0m\u001b[0m\n\u001b[0;32m--> 234\u001b[0;31m                 \u001b[0mself\u001b[0m\u001b[0;34m.\u001b[0m\u001b[0m_determine_iam_auth\u001b[0m\u001b[0;34m(\u001b[0m\u001b[0;34m)\u001b[0m\u001b[0;34m\u001b[0m\u001b[0;34m\u001b[0m\u001b[0m\n\u001b[0m\u001b[1;32m    235\u001b[0m             \u001b[0;32melse\u001b[0m\u001b[0;34m:\u001b[0m\u001b[0;34m\u001b[0m\u001b[0;34m\u001b[0m\u001b[0m\n\u001b[1;32m    236\u001b[0m                 \u001b[0mself\u001b[0m\u001b[0;34m.\u001b[0m\u001b[0m_get_iam_auth\u001b[0m\u001b[0;34m(\u001b[0m\u001b[0;34m)\u001b[0m\u001b[0;34m\u001b[0m\u001b[0;34m\u001b[0m\u001b[0m\n",
      "\u001b[0;32m~/conda/dataexplorationandmanipulationforcpupython3_7vyes/lib/python3.7/site-packages/ocifs/core.py\u001b[0m in \u001b[0;36m_determine_iam_auth\u001b[0;34m(self)\u001b[0m\n\u001b[1;32m    816\u001b[0m     \u001b[0;32mdef\u001b[0m \u001b[0m_determine_iam_auth\u001b[0m\u001b[0;34m(\u001b[0m\u001b[0mself\u001b[0m\u001b[0;34m)\u001b[0m\u001b[0;34m:\u001b[0m\u001b[0;34m\u001b[0m\u001b[0;34m\u001b[0m\u001b[0m\n\u001b[1;32m    817\u001b[0m         \u001b[0;32mtry\u001b[0m\u001b[0;34m:\u001b[0m  \u001b[0;31m# pragma: no cover\u001b[0m\u001b[0;34m\u001b[0m\u001b[0;34m\u001b[0m\u001b[0m\n\u001b[0;32m--> 818\u001b[0;31m             \u001b[0mself\u001b[0m\u001b[0;34m.\u001b[0m\u001b[0m_set_up_resource_principal\u001b[0m\u001b[0;34m(\u001b[0m\u001b[0;34m)\u001b[0m\u001b[0;34m\u001b[0m\u001b[0;34m\u001b[0m\u001b[0m\n\u001b[0m\u001b[1;32m    819\u001b[0m         \u001b[0;32mexcept\u001b[0m \u001b[0mOSError\u001b[0m \u001b[0;32mas\u001b[0m \u001b[0me\u001b[0m\u001b[0;34m:\u001b[0m  \u001b[0;31m# pragma: no cover\u001b[0m\u001b[0;34m\u001b[0m\u001b[0;34m\u001b[0m\u001b[0m\n\u001b[1;32m    820\u001b[0m             \u001b[0;32mtry\u001b[0m\u001b[0;34m:\u001b[0m\u001b[0;34m\u001b[0m\u001b[0;34m\u001b[0m\u001b[0m\n",
      "\u001b[0;32m~/conda/dataexplorationandmanipulationforcpupython3_7vyes/lib/python3.7/site-packages/ocifs/core.py\u001b[0m in \u001b[0;36m_set_up_resource_principal\u001b[0;34m(self)\u001b[0m\n\u001b[1;32m    828\u001b[0m \u001b[0;34m\u001b[0m\u001b[0m\n\u001b[1;32m    829\u001b[0m     \u001b[0;32mdef\u001b[0m \u001b[0m_set_up_resource_principal\u001b[0m\u001b[0;34m(\u001b[0m\u001b[0mself\u001b[0m\u001b[0;34m)\u001b[0m\u001b[0;34m:\u001b[0m\u001b[0;34m\u001b[0m\u001b[0;34m\u001b[0m\u001b[0m\n\u001b[0;32m--> 830\u001b[0;31m         \u001b[0mself\u001b[0m\u001b[0;34m.\u001b[0m\u001b[0mconfig_kwargs\u001b[0m\u001b[0;34m[\u001b[0m\u001b[0;34m\"signer\"\u001b[0m\u001b[0;34m]\u001b[0m \u001b[0;34m=\u001b[0m \u001b[0mget_resource_principals_signer\u001b[0m\u001b[0;34m(\u001b[0m\u001b[0;34m)\u001b[0m\u001b[0;34m\u001b[0m\u001b[0;34m\u001b[0m\u001b[0m\n\u001b[0m\u001b[1;32m    831\u001b[0m         \u001b[0mself\u001b[0m\u001b[0;34m.\u001b[0m\u001b[0m_iam_principal\u001b[0m \u001b[0;34m=\u001b[0m \u001b[0;34m\"resource_principal\"\u001b[0m\u001b[0;34m\u001b[0m\u001b[0;34m\u001b[0m\u001b[0m\n\u001b[1;32m    832\u001b[0m \u001b[0;34m\u001b[0m\u001b[0m\n",
      "\u001b[0;32m~/conda/dataexplorationandmanipulationforcpupython3_7vyes/lib/python3.7/site-packages/oci/auth/signers/resource_principals_signer.py\u001b[0m in \u001b[0;36mget_resource_principals_signer\u001b[0;34m(resource_principal_token_path_provider)\u001b[0m\n\u001b[1;32m     70\u001b[0m         return ResourcePrincipalsFederationSigner(resource_principal_token_endpoint=resource_principal_token_endpoint,\n\u001b[1;32m     71\u001b[0m                                                   \u001b[0mresource_principal_session_token_endpoint\u001b[0m\u001b[0;34m=\u001b[0m\u001b[0mresource_principal_session_token_endpoint\u001b[0m\u001b[0;34m,\u001b[0m\u001b[0;34m\u001b[0m\u001b[0;34m\u001b[0m\u001b[0m\n\u001b[0;32m---> 72\u001b[0;31m                                                   resource_principal_token_path_provider=resource_principal_token_path_provider)\n\u001b[0m\u001b[1;32m     73\u001b[0m \u001b[0;34m\u001b[0m\u001b[0m\n\u001b[1;32m     74\u001b[0m     \u001b[0;32melif\u001b[0m \u001b[0mrp_version\u001b[0m \u001b[0;34m==\u001b[0m \u001b[0;34m\"UNDEFINED\"\u001b[0m\u001b[0;34m:\u001b[0m\u001b[0;34m\u001b[0m\u001b[0;34m\u001b[0m\u001b[0m\n",
      "\u001b[0;32m~/conda/dataexplorationandmanipulationforcpupython3_7vyes/lib/python3.7/site-packages/oci/auth/signers/resource_principals_federation_signer.py\u001b[0m in \u001b[0;36m__init__\u001b[0;34m(self, resource_principal_token_endpoint, resource_principal_session_token_endpoint, resource_principal_token_path_provider, retry_strategy, log_requests)\u001b[0m\n\u001b[1;32m     38\u001b[0m             \u001b[0;32mraise\u001b[0m \u001b[0mValueError\u001b[0m\u001b[0;34m(\u001b[0m\u001b[0;34m\"resource_principal_token_endpoint must be provided\"\u001b[0m\u001b[0;34m)\u001b[0m\u001b[0;34m\u001b[0m\u001b[0;34m\u001b[0m\u001b[0m\n\u001b[1;32m     39\u001b[0m \u001b[0;34m\u001b[0m\u001b[0m\n\u001b[0;32m---> 40\u001b[0;31m         \u001b[0mself\u001b[0m\u001b[0;34m.\u001b[0m\u001b[0minstance_principal_signer\u001b[0m \u001b[0;34m=\u001b[0m \u001b[0mInstancePrincipalsSecurityTokenSigner\u001b[0m\u001b[0;34m(\u001b[0m\u001b[0mlog_requests\u001b[0m\u001b[0;34m=\u001b[0m\u001b[0mlog_requests\u001b[0m\u001b[0;34m)\u001b[0m\u001b[0;34m\u001b[0m\u001b[0;34m\u001b[0m\u001b[0m\n\u001b[0m\u001b[1;32m     41\u001b[0m         \u001b[0mself\u001b[0m\u001b[0;34m.\u001b[0m\u001b[0msession_key_supplier\u001b[0m \u001b[0;34m=\u001b[0m \u001b[0mSessionKeySupplier\u001b[0m\u001b[0;34m(\u001b[0m\u001b[0;34m)\u001b[0m\u001b[0;34m\u001b[0m\u001b[0;34m\u001b[0m\u001b[0m\n\u001b[1;32m     42\u001b[0m         \u001b[0mself\u001b[0m\u001b[0;34m.\u001b[0m\u001b[0mregion\u001b[0m \u001b[0;34m=\u001b[0m \u001b[0mself\u001b[0m\u001b[0;34m.\u001b[0m\u001b[0minstance_principal_signer\u001b[0m\u001b[0;34m.\u001b[0m\u001b[0minitialize_and_return_region\u001b[0m\u001b[0;34m(\u001b[0m\u001b[0;34m)\u001b[0m\u001b[0;34m\u001b[0m\u001b[0;34m\u001b[0m\u001b[0m\n",
      "\u001b[0;32m~/conda/dataexplorationandmanipulationforcpupython3_7vyes/lib/python3.7/site-packages/oci/auth/signers/instance_principals_security_token_signer.py\u001b[0m in \u001b[0;36m__init__\u001b[0;34m(self, **kwargs)\u001b[0m\n\u001b[1;32m    128\u001b[0m             \u001b[0msuper\u001b[0m\u001b[0;34m(\u001b[0m\u001b[0mInstancePrincipalsSecurityTokenSigner\u001b[0m\u001b[0;34m,\u001b[0m \u001b[0mself\u001b[0m\u001b[0;34m)\u001b[0m\u001b[0;34m.\u001b[0m\u001b[0m__init__\u001b[0m\u001b[0;34m(\u001b[0m\u001b[0mfederation_client\u001b[0m\u001b[0;34m=\u001b[0m\u001b[0mfederation_client\u001b[0m\u001b[0;34m,\u001b[0m \u001b[0mgeneric_headers\u001b[0m\u001b[0;34m=\u001b[0m\u001b[0mgeneric_headers\u001b[0m\u001b[0;34m)\u001b[0m\u001b[0;34m\u001b[0m\u001b[0;34m\u001b[0m\u001b[0m\n\u001b[1;32m    129\u001b[0m         \u001b[0;32melse\u001b[0m\u001b[0;34m:\u001b[0m\u001b[0;34m\u001b[0m\u001b[0;34m\u001b[0m\u001b[0m\n\u001b[0;32m--> 130\u001b[0;31m             \u001b[0msuper\u001b[0m\u001b[0;34m(\u001b[0m\u001b[0mInstancePrincipalsSecurityTokenSigner\u001b[0m\u001b[0;34m,\u001b[0m \u001b[0mself\u001b[0m\u001b[0;34m)\u001b[0m\u001b[0;34m.\u001b[0m\u001b[0m__init__\u001b[0m\u001b[0;34m(\u001b[0m\u001b[0mfederation_client\u001b[0m\u001b[0;34m)\u001b[0m\u001b[0;34m\u001b[0m\u001b[0;34m\u001b[0m\u001b[0m\n\u001b[0m\u001b[1;32m    131\u001b[0m \u001b[0;34m\u001b[0m\u001b[0m\n\u001b[1;32m    132\u001b[0m     \u001b[0;32mdef\u001b[0m \u001b[0minitialize_and_return_region\u001b[0m\u001b[0;34m(\u001b[0m\u001b[0mself\u001b[0m\u001b[0;34m)\u001b[0m\u001b[0;34m:\u001b[0m\u001b[0;34m\u001b[0m\u001b[0;34m\u001b[0m\u001b[0m\n",
      "\u001b[0;32m~/conda/dataexplorationandmanipulationforcpupython3_7vyes/lib/python3.7/site-packages/oci/auth/signers/security_token_signer.py\u001b[0m in \u001b[0;36m__init__\u001b[0;34m(self, federation_client, generic_headers, body_headers)\u001b[0m\n\u001b[1;32m     49\u001b[0m \u001b[0;34m\u001b[0m\u001b[0m\n\u001b[1;32m     50\u001b[0m         super(X509FederationClientBasedSecurityTokenSigner, self).__init__(\n\u001b[0;32m---> 51\u001b[0;31m             \u001b[0mself\u001b[0m\u001b[0;34m.\u001b[0m\u001b[0mfederation_client\u001b[0m\u001b[0;34m.\u001b[0m\u001b[0mget_security_token\u001b[0m\u001b[0;34m(\u001b[0m\u001b[0;34m)\u001b[0m\u001b[0;34m,\u001b[0m\u001b[0;34m\u001b[0m\u001b[0;34m\u001b[0m\u001b[0m\n\u001b[0m\u001b[1;32m     52\u001b[0m             \u001b[0mself\u001b[0m\u001b[0;34m.\u001b[0m\u001b[0mfederation_client\u001b[0m\u001b[0;34m.\u001b[0m\u001b[0msession_key_supplier\u001b[0m\u001b[0;34m.\u001b[0m\u001b[0mget_key_pair\u001b[0m\u001b[0;34m(\u001b[0m\u001b[0;34m)\u001b[0m\u001b[0;34m[\u001b[0m\u001b[0;34m'private'\u001b[0m\u001b[0;34m]\u001b[0m\u001b[0;34m,\u001b[0m\u001b[0;34m\u001b[0m\u001b[0;34m\u001b[0m\u001b[0m\n\u001b[1;32m     53\u001b[0m             \u001b[0mgeneric_headers\u001b[0m\u001b[0;34m=\u001b[0m\u001b[0mgeneric_headers\u001b[0m\u001b[0;34m,\u001b[0m\u001b[0;34m\u001b[0m\u001b[0;34m\u001b[0m\u001b[0m\n",
      "\u001b[0;32m~/conda/dataexplorationandmanipulationforcpupython3_7vyes/lib/python3.7/site-packages/oci/auth/federation_client.py\u001b[0m in \u001b[0;36mget_security_token\u001b[0;34m(self)\u001b[0m\n\u001b[1;32m    129\u001b[0m                 \u001b[0;32mreturn\u001b[0m \u001b[0mself\u001b[0m\u001b[0;34m.\u001b[0m\u001b[0msecurity_token\u001b[0m\u001b[0;34m.\u001b[0m\u001b[0msecurity_token\u001b[0m\u001b[0;34m\u001b[0m\u001b[0;34m\u001b[0m\u001b[0m\n\u001b[1;32m    130\u001b[0m \u001b[0;34m\u001b[0m\u001b[0m\n\u001b[0;32m--> 131\u001b[0;31m         \u001b[0;32mreturn\u001b[0m \u001b[0mself\u001b[0m\u001b[0;34m.\u001b[0m\u001b[0m_refresh_security_token_inner\u001b[0m\u001b[0;34m(\u001b[0m\u001b[0;34m)\u001b[0m\u001b[0;34m\u001b[0m\u001b[0;34m\u001b[0m\u001b[0m\n\u001b[0m\u001b[1;32m    132\u001b[0m \u001b[0;34m\u001b[0m\u001b[0m\n\u001b[1;32m    133\u001b[0m     \u001b[0;32mdef\u001b[0m \u001b[0m_refresh_security_token_inner\u001b[0m\u001b[0;34m(\u001b[0m\u001b[0mself\u001b[0m\u001b[0;34m)\u001b[0m\u001b[0;34m:\u001b[0m\u001b[0;34m\u001b[0m\u001b[0;34m\u001b[0m\u001b[0m\n",
      "\u001b[0;32m~/conda/dataexplorationandmanipulationforcpupython3_7vyes/lib/python3.7/site-packages/oci/auth/federation_client.py\u001b[0m in \u001b[0;36m_refresh_security_token_inner\u001b[0;34m(self)\u001b[0m\n\u001b[1;32m    145\u001b[0m                 \u001b[0mretriever\u001b[0m\u001b[0;34m.\u001b[0m\u001b[0mrefresh\u001b[0m\u001b[0;34m(\u001b[0m\u001b[0;34m)\u001b[0m\u001b[0;34m\u001b[0m\u001b[0;34m\u001b[0m\u001b[0m\n\u001b[1;32m    146\u001b[0m \u001b[0;34m\u001b[0m\u001b[0m\n\u001b[0;32m--> 147\u001b[0;31m             \u001b[0mself\u001b[0m\u001b[0;34m.\u001b[0m\u001b[0mretry_strategy\u001b[0m\u001b[0;34m.\u001b[0m\u001b[0mmake_retrying_call\u001b[0m\u001b[0;34m(\u001b[0m\u001b[0mself\u001b[0m\u001b[0;34m.\u001b[0m\u001b[0m_get_security_token_from_auth_service\u001b[0m\u001b[0;34m)\u001b[0m\u001b[0;34m\u001b[0m\u001b[0;34m\u001b[0m\u001b[0m\n\u001b[0m\u001b[1;32m    148\u001b[0m             \u001b[0;32mreturn\u001b[0m \u001b[0mself\u001b[0m\u001b[0;34m.\u001b[0m\u001b[0msecurity_token\u001b[0m\u001b[0;34m.\u001b[0m\u001b[0msecurity_token\u001b[0m\u001b[0;34m\u001b[0m\u001b[0;34m\u001b[0m\u001b[0m\n\u001b[1;32m    149\u001b[0m         \u001b[0;32mfinally\u001b[0m\u001b[0;34m:\u001b[0m\u001b[0;34m\u001b[0m\u001b[0;34m\u001b[0m\u001b[0m\n",
      "\u001b[0;32m~/conda/dataexplorationandmanipulationforcpupython3_7vyes/lib/python3.7/site-packages/oci/retry/retry.py\u001b[0m in \u001b[0;36mmake_retrying_call\u001b[0;34m(self, func_ref, *func_args, **func_kwargs)\u001b[0m\n\u001b[1;32m    291\u001b[0m                     \u001b[0;31m# Attempt to save current position for file-like body\u001b[0m\u001b[0;34m\u001b[0m\u001b[0;34m\u001b[0m\u001b[0;34m\u001b[0m\u001b[0m\n\u001b[1;32m    292\u001b[0m                     \u001b[0m_is_body_retryable\u001b[0m\u001b[0;34m,\u001b[0m \u001b[0mbody_position\u001b[0m \u001b[0;34m=\u001b[0m \u001b[0mrecord_body_position_for_rewind\u001b[0m\u001b[0;34m(\u001b[0m\u001b[0mfunc_kwargs\u001b[0m\u001b[0;34m.\u001b[0m\u001b[0mget\u001b[0m\u001b[0;34m(\u001b[0m\u001b[0;34m'body'\u001b[0m\u001b[0;34m)\u001b[0m\u001b[0;34m)\u001b[0m\u001b[0;34m\u001b[0m\u001b[0;34m\u001b[0m\u001b[0m\n\u001b[0;32m--> 293\u001b[0;31m                 \u001b[0;32mreturn\u001b[0m \u001b[0mfunc_ref\u001b[0m\u001b[0;34m(\u001b[0m\u001b[0;34m*\u001b[0m\u001b[0mfunc_args\u001b[0m\u001b[0;34m,\u001b[0m \u001b[0;34m**\u001b[0m\u001b[0mfunc_kwargs\u001b[0m\u001b[0;34m)\u001b[0m\u001b[0;34m\u001b[0m\u001b[0;34m\u001b[0m\u001b[0m\n\u001b[0m\u001b[1;32m    294\u001b[0m             \u001b[0;32mexcept\u001b[0m \u001b[0mException\u001b[0m \u001b[0;32mas\u001b[0m \u001b[0me\u001b[0m\u001b[0;34m:\u001b[0m\u001b[0;34m\u001b[0m\u001b[0;34m\u001b[0m\u001b[0m\n\u001b[1;32m    295\u001b[0m                 \u001b[0mattempt\u001b[0m \u001b[0;34m+=\u001b[0m \u001b[0;36m1\u001b[0m\u001b[0;34m\u001b[0m\u001b[0;34m\u001b[0m\u001b[0m\n",
      "\u001b[0;32m~/conda/dataexplorationandmanipulationforcpupython3_7vyes/lib/python3.7/site-packages/oci/auth/federation_client.py\u001b[0m in \u001b[0;36m_get_security_token_from_auth_service\u001b[0;34m(self)\u001b[0m\n\u001b[1;32m    201\u001b[0m                 \u001b[0mparsed_response\u001b[0m\u001b[0;34m.\u001b[0m\u001b[0mget\u001b[0m\u001b[0;34m(\u001b[0m\u001b[0;34m'code'\u001b[0m\u001b[0;34m)\u001b[0m\u001b[0;34m,\u001b[0m\u001b[0;34m\u001b[0m\u001b[0;34m\u001b[0m\u001b[0m\n\u001b[1;32m    202\u001b[0m                 \u001b[0mresponse\u001b[0m\u001b[0;34m.\u001b[0m\u001b[0mheaders\u001b[0m\u001b[0;34m,\u001b[0m\u001b[0;34m\u001b[0m\u001b[0;34m\u001b[0m\u001b[0m\n\u001b[0;32m--> 203\u001b[0;31m                 \u001b[0mparsed_response\u001b[0m\u001b[0;34m.\u001b[0m\u001b[0mget\u001b[0m\u001b[0;34m(\u001b[0m\u001b[0;34m'message'\u001b[0m\u001b[0;34m)\u001b[0m\u001b[0;34m\u001b[0m\u001b[0;34m\u001b[0m\u001b[0m\n\u001b[0m\u001b[1;32m    204\u001b[0m             )\n\u001b[1;32m    205\u001b[0m         \u001b[0;32melse\u001b[0m\u001b[0;34m:\u001b[0m\u001b[0;34m\u001b[0m\u001b[0;34m\u001b[0m\u001b[0m\n",
      "\u001b[0;31mServiceError\u001b[0m: {'opc-request-id': '/EB55FE4BDBA571BE08CF90B9174D37A6/1B80E924A09782437F8C22E4F74EEDA2', 'code': 'NotAuthenticated', 'message': 'The required information to complete authentication was not provided or was incorrect.', 'status': 401}"
     ]
    }
   ],
   "source": [
    "Y1.to_csv(target, index=False, encoding='utf-8',storage_options = config)"
   ]
  },
  {
   "cell_type": "code",
   "execution_count": 28,
   "id": "8af682ce",
   "metadata": {},
   "outputs": [
    {
     "ename": "NameError",
     "evalue": "name 'X' is not defined",
     "output_type": "error",
     "traceback": [
      "\u001b[0;31m---------------------------------------------------------------------------\u001b[0m",
      "\u001b[0;31mNameError\u001b[0m                                 Traceback (most recent call last)",
      "\u001b[0;32m/tmp/ipykernel_940/3273788999.py\u001b[0m in \u001b[0;36m<module>\u001b[0;34m\u001b[0m\n\u001b[0;32m----> 1\u001b[0;31m \u001b[0mZ\u001b[0m \u001b[0;34m=\u001b[0m \u001b[0mpd\u001b[0m\u001b[0;34m.\u001b[0m\u001b[0mconcat\u001b[0m\u001b[0;34m(\u001b[0m\u001b[0;34m[\u001b[0m\u001b[0mX\u001b[0m\u001b[0;34m,\u001b[0m\u001b[0mY1\u001b[0m\u001b[0;34m]\u001b[0m\u001b[0;34m,\u001b[0m \u001b[0maxis\u001b[0m\u001b[0;34m=\u001b[0m\u001b[0;36m1\u001b[0m\u001b[0;34m)\u001b[0m\u001b[0;34m\u001b[0m\u001b[0;34m\u001b[0m\u001b[0m\n\u001b[0m",
      "\u001b[0;31mNameError\u001b[0m: name 'X' is not defined"
     ]
    }
   ],
   "source": [
    "Z = pd.concat([X,Y1], axis=1)"
   ]
  },
  {
   "cell_type": "code",
   "execution_count": null,
   "id": "f00301eb",
   "metadata": {},
   "outputs": [],
   "source": [
    "fname = 'full_features.csv'\n",
    "target = f'oci://{bucket_name}@{namespace}/{directory}/{fname}'\n",
    "target"
   ]
  },
  {
   "cell_type": "code",
   "execution_count": null,
   "id": "95428fd2",
   "metadata": {},
   "outputs": [],
   "source": [
    "Z.to_csv(target, index=False, encoding='utf-8',storage_options = config)"
   ]
  },
  {
   "cell_type": "code",
   "execution_count": null,
   "id": "194ad059",
   "metadata": {},
   "outputs": [],
   "source": []
  }
 ],
 "metadata": {
  "kernelspec": {
   "display_name": "Python [conda env:dataexplorationandmanipulationforcpupython3_7vyes]",
   "language": "python",
   "name": "conda-env-dataexplorationandmanipulationforcpupython3_7vyes-py"
  },
  "language_info": {
   "codemirror_mode": {
    "name": "ipython",
    "version": 3
   },
   "file_extension": ".py",
   "mimetype": "text/x-python",
   "name": "python",
   "nbconvert_exporter": "python",
   "pygments_lexer": "ipython3",
   "version": "3.7.12"
  }
 },
 "nbformat": 4,
 "nbformat_minor": 5
}
