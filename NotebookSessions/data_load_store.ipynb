{
 "cells": [
  {
   "cell_type": "markdown",
   "id": "e7051c82",
   "metadata": {},
   "source": [
    "### OCI Data Science - Useful Tips\n",
    "<details>\n",
    "<summary><font size=\"2\">Check for Public Internet Access</font></summary>\n",
    "\n",
    "```python\n",
    "import requests\n",
    "response = requests.get(\"https://oracle.com\")\n",
    "assert response.status_code==200, \"Internet connection failed\"\n",
    "```\n",
    "</details>\n",
    "<details>\n",
    "<summary><font size=\"2\">Helpful Documentation </font></summary>\n",
    "<ul><li><a href=\"https://docs.cloud.oracle.com/en-us/iaas/data-science/using/data-science.htm\">Data Science Service Documentation</a></li>\n",
    "<li><a href=\"https://docs.cloud.oracle.com/iaas/tools/ads-sdk/latest/index.html\">ADS documentation</a></li>\n",
    "</ul>\n",
    "</details>\n",
    "<details>\n",
    "<summary><font size=\"2\">Typical Cell Imports and Settings for ADS</font></summary>\n",
    "\n",
    "```python\n",
    "%load_ext autoreload\n",
    "%autoreload 2\n",
    "%matplotlib inline\n",
    "\n",
    "import warnings\n",
    "warnings.filterwarnings('ignore')\n",
    "\n",
    "import logging\n",
    "logging.basicConfig(format='%(levelname)s:%(message)s', level=logging.ERROR)\n",
    "\n",
    "import ads\n",
    "from ads.dataset.factory import DatasetFactory\n",
    "from ads.automl.provider import OracleAutoMLProvider\n",
    "from ads.automl.driver import AutoML\n",
    "from ads.evaluations.evaluator import ADSEvaluator\n",
    "from ads.common.data import ADSData\n",
    "from ads.explanations.explainer import ADSExplainer\n",
    "from ads.explanations.mlx_global_explainer import MLXGlobalExplainer\n",
    "from ads.explanations.mlx_local_explainer import MLXLocalExplainer\n",
    "from ads.catalog.model import ModelCatalog\n",
    "from ads.common.model_artifact import ModelArtifact\n",
    "```\n",
    "</details>\n",
    "<details>\n",
    "<summary><font size=\"2\">Useful Environment Variables</font></summary>\n",
    "\n",
    "```python\n",
    "import os\n",
    "print(os.environ[\"NB_SESSION_COMPARTMENT_OCID\"])\n",
    "print(os.environ[\"PROJECT_OCID\"])\n",
    "print(os.environ[\"USER_OCID\"])\n",
    "print(os.environ[\"TENANCY_OCID\"])\n",
    "print(os.environ[\"NB_REGION\"])\n",
    "```\n",
    "</details>"
   ]
  },
  {
   "cell_type": "code",
   "execution_count": 1,
   "id": "8e859ca2",
   "metadata": {},
   "outputs": [],
   "source": [
    "import numpy as np\n",
    "import pandas as pd\n",
    "import json\n",
    "import codecs\n",
    "import os\n",
    "import sys\n",
    "sys.path.append('../')\n",
    "import oci\n",
    "from oci.config import validate_config\n",
    "import ocifs\n",
    "import ads"
   ]
  },
  {
   "cell_type": "code",
   "execution_count": 2,
   "id": "a72a8bbd",
   "metadata": {},
   "outputs": [],
   "source": [
    "bucket_name = \"tenen-raw-data\"\n",
    "config = oci.config.from_file(\n",
    "        \"~/.apikey/config\",\n",
    "        \"DEFAULT\")"
   ]
  },
  {
   "cell_type": "code",
   "execution_count": 3,
   "id": "3c99ea55",
   "metadata": {},
   "outputs": [
    {
     "data": {
      "text/plain": [
       "'lrhwvlagph9z'"
      ]
     },
     "execution_count": 3,
     "metadata": {},
     "output_type": "execute_result"
    }
   ],
   "source": [
    "object_storage_client = oci.object_storage.ObjectStorageClient(config)\n",
    "namespace = object_storage_client.get_namespace().data\n",
    "namespace"
   ]
  },
  {
   "cell_type": "code",
   "execution_count": 4,
   "id": "612e6ebb",
   "metadata": {},
   "outputs": [],
   "source": [
    "def write2df(path):\n",
    "    df = pd.read_csv(path, low_memory=False) # \"/home/datascience/files/tenen_highlvl_oct.csv\"\n",
    "    return df    "
   ]
  },
  {
   "cell_type": "code",
   "execution_count": 5,
   "id": "82fa8b13",
   "metadata": {},
   "outputs": [],
   "source": [
    "target_file = {'oct' : 'tenen_high_lvl_oct.csv', 'nov': 'tenen_high_lvl_nov.csv', 'dec': 'tenen_high_lvl_dec.csv' }\n",
    "products_file = {'oct' : 'tenen_products_oct.csv', 'nov': 'tenen_products_nov.csv', 'dec': 'tenen_products_dec.csv'}\n",
    "hits_file = {'oct' : 'tenen_hits_oct.csv', 'nov': 'tenen_hits_nov.csv', 'dec': 'tenen_hits_dec.csv'}"
   ]
  },
  {
   "cell_type": "code",
   "execution_count": 18,
   "id": "3007a7fe",
   "metadata": {},
   "outputs": [
    {
     "data": {
      "text/plain": [
       "('oci://tenen-raw-data@lrhwvlagph9z/products/tenen_hits_dec.csv',\n",
       " '/home/datascience/files/tenen_hits_dec.csv')"
      ]
     },
     "execution_count": 18,
     "metadata": {},
     "output_type": "execute_result"
    }
   ],
   "source": [
    "fname = hits_file['dec']\n",
    "directory = 'products'\n",
    "config = {\"config\": \"~/.apikey/config\"}\n",
    "path = f\"/home/datascience/files/{fname}\"\n",
    "target = f'oci://{bucket_name}@{namespace}/{directory}/{fname}'\n",
    "target, path"
   ]
  },
  {
   "cell_type": "code",
   "execution_count": null,
   "id": "b3d4423e",
   "metadata": {},
   "outputs": [],
   "source": [
    "#from ads.common.auth import default_signer\n",
    "#ads.set_auth(auth=\"api_key\", profile=\"DEFAULT\")\n",
    "\n",
    "df = pd.read_csv(target, storage_options={\"config\": \"~/.apikey/config\"},low_memory=False)"
   ]
  },
  {
   "cell_type": "code",
   "execution_count": 19,
   "id": "dc77919c",
   "metadata": {},
   "outputs": [],
   "source": [
    "df = write2df(path)"
   ]
  },
  {
   "cell_type": "code",
   "execution_count": 20,
   "id": "4aecd739",
   "metadata": {},
   "outputs": [
    {
     "data": {
      "text/plain": [
       "(1831008, 66)"
      ]
     },
     "execution_count": 20,
     "metadata": {},
     "output_type": "execute_result"
    }
   ],
   "source": [
    "df.shape"
   ]
  },
  {
   "cell_type": "code",
   "execution_count": 21,
   "id": "da275f80",
   "metadata": {},
   "outputs": [
    {
     "data": {
      "text/plain": [
       "Index(['hits.hitNumber', 'hits.time', 'hits.isInteraction', 'hits.isEntrance',\n",
       "       'hits.type', 'hits.dataSource', 'hits.uses_transient_token',\n",
       "       'hits.page.pagePath', 'hits.page.hostname', 'hits.page.pageTitle',\n",
       "       'hits.page.pagePathLevel1', 'hits.page.pagePathLevel2',\n",
       "       'hits.page.pagePathLevel3', 'hits.page.pagePathLevel4',\n",
       "       'hits.transaction.currencyCode', 'hits.item.currencyCode',\n",
       "       'hits.appInfo.screenName', 'hits.appInfo.landingScreenName',\n",
       "       'hits.appInfo.exitScreenName', 'hits.appInfo.screenDepth',\n",
       "       'hits.exceptionInfo.isFatal', 'hits.eCommerceAction.action_type',\n",
       "       'hits.eCommerceAction.step', 'hits.social.socialNetwork',\n",
       "       'hits.social.hasSocialSourceReferral',\n",
       "       'hits.social.socialInteractionNetworkAction',\n",
       "       'hits.contentGroup.contentGroup1', 'hits.contentGroup.contentGroup2',\n",
       "       'hits.contentGroup.contentGroup3', 'hits.contentGroup.contentGroup4',\n",
       "       'hits.contentGroup.contentGroup5',\n",
       "       'hits.contentGroup.previousContentGroup1',\n",
       "       'hits.contentGroup.previousContentGroup2',\n",
       "       'hits.contentGroup.previousContentGroup3',\n",
       "       'hits.contentGroup.previousContentGroup4',\n",
       "       'hits.contentGroup.previousContentGroup5',\n",
       "       'hits.contentGroup.contentGroupUniqueViews1',\n",
       "       'hits.eventInfo.eventCategory', 'hits.eventInfo.eventAction',\n",
       "       'hits.eventInfo.eventLabel', 'hits.latencyTracking.pageLoadSample',\n",
       "       'hits.latencyTracking.pageLoadTime',\n",
       "       'hits.latencyTracking.pageDownloadTime',\n",
       "       'hits.latencyTracking.redirectionTime',\n",
       "       'hits.latencyTracking.speedMetricsSample',\n",
       "       'hits.latencyTracking.domainLookupTime',\n",
       "       'hits.latencyTracking.serverConnectionTime',\n",
       "       'hits.latencyTracking.serverResponseTime',\n",
       "       'hits.latencyTracking.domLatencyMetricsSample',\n",
       "       'hits.latencyTracking.domInteractiveTime',\n",
       "       'hits.latencyTracking.domContentLoadedTime', 'hits.isExit',\n",
       "       'fullVisitorId', 'visitStartTime', 'hits.page.searchKeyword',\n",
       "       'hits.page.searchCategory', 'hits.referer',\n",
       "       'hits.transaction.transactionId', 'hits.transaction.transactionRevenue',\n",
       "       'hits.transaction.transactionShipping', 'hits.transaction.affiliation',\n",
       "       'hits.transaction.localTransactionRevenue',\n",
       "       'hits.transaction.localTransactionShipping',\n",
       "       'hits.transaction.transactionCoupon', 'hits.item.transactionId',\n",
       "       'numOfProducts'],\n",
       "      dtype='object')"
      ]
     },
     "execution_count": 21,
     "metadata": {},
     "output_type": "execute_result"
    }
   ],
   "source": [
    "df.columns"
   ]
  },
  {
   "cell_type": "code",
   "execution_count": 22,
   "id": "e3b7fd5f",
   "metadata": {},
   "outputs": [
    {
     "data": {
      "text/plain": [
       "'oci://tenen-raw-data@lrhwvlagph9z/products/tenen_hits_dec.csv'"
      ]
     },
     "execution_count": 22,
     "metadata": {},
     "output_type": "execute_result"
    }
   ],
   "source": [
    "target"
   ]
  },
  {
   "cell_type": "code",
   "execution_count": 23,
   "id": "414fb629",
   "metadata": {},
   "outputs": [],
   "source": [
    "df.to_csv(target, index=False, encoding='utf-8',storage_options = config)\n",
    "#put_file(path+\"tenen_highlvl_oct.csv\", namespace, '/products/tenen_high_lvl_oct.csv')"
   ]
  },
  {
   "cell_type": "code",
   "execution_count": null,
   "id": "97a3dc12",
   "metadata": {},
   "outputs": [],
   "source": [
    "df = df.astype(str)"
   ]
  },
  {
   "cell_type": "code",
   "execution_count": null,
   "id": "d98dec68",
   "metadata": {},
   "outputs": [],
   "source": [
    "from ads.dataset.factory import DatasetFactory\n",
    "ds = DatasetFactory.open(df) "
   ]
  },
  {
   "cell_type": "code",
   "execution_count": null,
   "id": "466b9e04",
   "metadata": {},
   "outputs": [],
   "source": [
    "ds.show_in_notebook()"
   ]
  }
 ],
 "metadata": {
  "kernelspec": {
   "display_name": "Python [conda env:dataexplorationandmanipulationforcpupython3_7vyes]",
   "language": "python",
   "name": "conda-env-dataexplorationandmanipulationforcpupython3_7vyes-py"
  },
  "language_info": {
   "codemirror_mode": {
    "name": "ipython",
    "version": 3
   },
   "file_extension": ".py",
   "mimetype": "text/x-python",
   "name": "python",
   "nbconvert_exporter": "python",
   "pygments_lexer": "ipython3",
   "version": "3.7.12"
  }
 },
 "nbformat": 4,
 "nbformat_minor": 5
}
