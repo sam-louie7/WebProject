{
 "cells": [
  {
   "cell_type": "code",
   "execution_count": 1,
   "metadata": {},
   "outputs": [],
   "source": [
    "import numpy as np\n",
    "import pandas as pd\n",
    "import json\n",
    "import codecs\n",
    "import datetime\n",
    "import os\n",
    "import sys\n"
   ]
  },
  {
   "cell_type": "code",
   "execution_count": 2,
   "metadata": {},
   "outputs": [],
   "source": [
    "sys.path.append('../')"
   ]
  },
  {
   "cell_type": "code",
   "execution_count": 3,
   "metadata": {},
   "outputs": [],
   "source": [
    "import matplotlib as mpl\n",
    "import matplotlib.pyplot as plt\n",
    "plt.rcParams[\"figure.figsize\"] = (24, 16)"
   ]
  },
  {
   "cell_type": "code",
   "execution_count": 4,
   "metadata": {},
   "outputs": [],
   "source": [
    "import oci\n",
    "import json\n",
    "from oci.config import validate_config\n"
   ]
  },
  {
   "cell_type": "code",
   "execution_count": 5,
   "metadata": {},
   "outputs": [],
   "source": [
    "namespace = \"lrhwvlagph9z\"\n",
    "bucket_name = \"tenen-raw-data\"\n",
    "config = oci.config.from_file(\n",
    "        \"~/.apikey/config\",\n",
    "        \"DEFAULT\")"
   ]
  },
  {
   "cell_type": "code",
   "execution_count": 32,
   "metadata": {},
   "outputs": [
    {
     "data": {
      "text/plain": [
       "'tenen_hits_dec.csv'"
      ]
     },
     "execution_count": 32,
     "metadata": {},
     "output_type": "execute_result"
    }
   ],
   "source": [
    "import ads\n",
    "#from ads.common.auth import default_signer\n",
    "#ads.set_auth(auth=\"api_key\", profile=\"DEFAULT\")\n",
    "bucket_name = \"tenen-raw-data\"\n",
    "folder_name = \"products\"\n",
    "mon = 'dec'\n",
    "tfile = f\"tenen_hits_{mon}.csv\"\n",
    "#file_name = <file-name>\n",
    "namespace = \"lrhwvlagph9z\"\n",
    "df = pd.read_csv(f\"oci://{bucket_name}@{namespace}/{folder_name}/{tfile}\", storage_options={\"config\": \"~/.apikey/config\"},low_memory=False)\n",
    "tfile"
   ]
  },
  {
   "cell_type": "code",
   "execution_count": 33,
   "metadata": {},
   "outputs": [
    {
     "data": {
      "text/plain": [
       "(1831008, 66)"
      ]
     },
     "execution_count": 33,
     "metadata": {},
     "output_type": "execute_result"
    }
   ],
   "source": [
    "df.shape"
   ]
  },
  {
   "cell_type": "code",
   "execution_count": 34,
   "metadata": {},
   "outputs": [],
   "source": [
    "df = df.replace([\"\", \"/\", \":\", \"(not set)\", \"UNKNOWN\"], \"0\").fillna(\"0\").astype(str)"
   ]
  },
  {
   "cell_type": "code",
   "execution_count": 17,
   "metadata": {},
   "outputs": [],
   "source": [
    "connection_parameters = {\n",
    "    \"user_name\": creds.get('user'),\n",
    "    \"password\": creds.get('password'),\n",
    "    \"service_name\": creds.get('sid'),\n",
    "    \"wallet_location\": \"/home/datascience/ADW/Wallet_DBTENENDATA.zip\",\n",
    "}"
   ]
  },
  {
   "cell_type": "code",
   "execution_count": 18,
   "metadata": {},
   "outputs": [],
   "source": [
    "def check_col_types(df):\n",
    "    x = df.isna().any()\n",
    "    x.to_csv(\"/home/datascience/files/isna.csv\")\n",
    "    return dict(df.dtypes)"
   ]
  },
  {
   "cell_type": "code",
   "execution_count": 35,
   "metadata": {},
   "outputs": [],
   "source": [
    "df = df.drop(columns=['hits.page.pagePath', 'hits.page.pageTitle', \n",
    "                      'hits.appInfo.screenName', 'hits.appInfo.landingScreenName',\n",
    "                      'hits.appInfo.exitScreenName', 'hits.eventInfo.eventLabel',\n",
    "                      'hits.page.pagePathLevel1', 'hits.page.pagePathLevel2',\n",
    "                      'hits.page.pagePathLevel3', 'hits.page.pagePathLevel4'])"
   ]
  },
  {
   "cell_type": "code",
   "execution_count": 36,
   "metadata": {},
   "outputs": [
    {
     "data": {
      "text/plain": [
       "(1831008, 56)"
      ]
     },
     "execution_count": 36,
     "metadata": {},
     "output_type": "execute_result"
    }
   ],
   "source": [
    "df.shape"
   ]
  },
  {
   "cell_type": "code",
   "execution_count": 37,
   "metadata": {},
   "outputs": [],
   "source": [
    "for c in df.columns:\n",
    "    df[c] = df[c].str.slice(0,80)"
   ]
  },
  {
   "cell_type": "code",
   "execution_count": 38,
   "metadata": {},
   "outputs": [
    {
     "data": {
      "text/plain": [
       "0    1064989146145861665\n",
       "1    1064989146145861665\n",
       "2    1064989146145861665\n",
       "3    1064989146145861665\n",
       "4    1064989146145861665\n",
       "Name: fullVisitorId, dtype: object"
      ]
     },
     "execution_count": 38,
     "metadata": {},
     "output_type": "execute_result"
    }
   ],
   "source": [
    "df['fullVisitorId'].head(5)"
   ]
  },
  {
   "cell_type": "code",
   "execution_count": 39,
   "metadata": {},
   "outputs": [],
   "source": [
    "df.ads.to_sql(\n",
    "    table_name='tenen_hit_list_dec',\n",
    "    connection_parameters=connection_parameters,\n",
    "    if_exists=\"replace\"\n",
    ")"
   ]
  },
  {
   "cell_type": "code",
   "execution_count": null,
   "metadata": {},
   "outputs": [],
   "source": []
  }
 ],
 "metadata": {
  "kernelspec": {
   "display_name": "Python 3",
   "language": "python",
   "name": "python3"
  },
  "language_info": {
   "codemirror_mode": {
    "name": "ipython",
    "version": 3
   },
   "file_extension": ".py",
   "mimetype": "text/x-python",
   "name": "python",
   "nbconvert_exporter": "python",
   "pygments_lexer": "ipython3",
   "version": "3.8.6"
  }
 },
 "nbformat": 4,
 "nbformat_minor": 5
}
