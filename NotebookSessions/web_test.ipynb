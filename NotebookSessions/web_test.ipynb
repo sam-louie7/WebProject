{
 "cells": [
  {
   "cell_type": "code",
   "execution_count": 1,
   "metadata": {},
   "outputs": [],
   "source": [
    "import numpy as np\n",
    "import pandas as pd\n",
    "import sys\n",
    "sys.path.append('../')"
   ]
  },
  {
   "cell_type": "code",
   "execution_count": 2,
   "metadata": {},
   "outputs": [],
   "source": [
    "from generate_csv.single_session_data_extraction import *\n",
    "from generate_features.emotional_rational_features import * # emo_ratio_single_session_tl_features, emo_ratio_single_session_hit_features"
   ]
  },
  {
   "cell_type": "code",
   "execution_count": 162,
   "metadata": {},
   "outputs": [],
   "source": [
    "path = \"/Users/smuel/Documents/Louie7/Developer/TenenGroup/WebTest/web_test3.txt\""
   ]
  },
  {
   "cell_type": "code",
   "execution_count": 163,
   "metadata": {},
   "outputs": [],
   "source": [
    "raw = json2dict(path)"
   ]
  },
  {
   "cell_type": "code",
   "execution_count": 164,
   "metadata": {},
   "outputs": [],
   "source": [
    "tst = pd.DataFrame.from_dict(raw, orient='index')\n",
    "tst = tst.transpose()"
   ]
  },
  {
   "cell_type": "code",
   "execution_count": 165,
   "metadata": {},
   "outputs": [
    {
     "data": {
      "text/plain": [
       "Index(['visitNumber', 'visitId', 'visitStartTime', 'fullVisitorId', 'clientId',\n",
       "       'channelGrouping', 'socialEngagementType', 'totals.visits',\n",
       "       'totals.hits', 'totals.pageviews', 'totals.timeOnSite',\n",
       "       'totals.sessionQualityDim', 'trafficSource.referralPath',\n",
       "       'trafficSource.campaign', 'trafficSource.source',\n",
       "       'trafficSource.medium', 'trafficSource.keyword',\n",
       "       'trafficSource.adContent', 'trafficSource.adwordsClickInfo.campaignId',\n",
       "       'trafficSource.adwordsClickInfo.adGroupId',\n",
       "       'trafficSource.adwordsClickInfo.creativeId',\n",
       "       'trafficSource.adwordsClickInfo.criteriaId',\n",
       "       'trafficSource.adwordsClickInfo.page',\n",
       "       'trafficSource.adwordsClickInfo.slot',\n",
       "       'trafficSource.adwordsClickInfo.criteriaParameters',\n",
       "       'trafficSource.adwordsClickInfo.gclId',\n",
       "       'trafficSource.adwordsClickInfo.customerId',\n",
       "       'trafficSource.adwordsClickInfo.adNetworkType',\n",
       "       'trafficSource.adwordsClickInfo.isVideoAd', 'device.browser',\n",
       "       'device.browserVersion', 'device.browserSize', 'device.operatingSystem',\n",
       "       'device.operatingSystemVersion', 'device.isMobile',\n",
       "       'device.mobileDeviceBranding', 'device.mobileDeviceModel',\n",
       "       'device.mobileInputSelector', 'device.mobileDeviceInfo',\n",
       "       'device.mobileDeviceMarketingName', 'device.flashVersion',\n",
       "       'device.javaEnabled', 'device.language', 'device.screenColors',\n",
       "       'device.screenResolution', 'device.deviceCategory',\n",
       "       'geoNetwork.continent', 'geoNetwork.subContinent', 'geoNetwork.country',\n",
       "       'geoNetwork.region', 'geoNetwork.metro', 'geoNetwork.city',\n",
       "       'geoNetwork.cityId', 'geoNetwork.networkDomain', 'geoNetwork.latitude',\n",
       "       'geoNetwork.longitude', 'geoNetwork.networkLocation',\n",
       "       'privacyInfo.analytics_storage', 'privacyInfo.ads_storage'],\n",
       "      dtype='object')"
      ]
     },
     "execution_count": 165,
     "metadata": {},
     "output_type": "execute_result"
    }
   ],
   "source": [
    "df_tl = single_session_tl_df(raw)\n",
    "df_tl.columns"
   ]
  },
  {
   "cell_type": "code",
   "execution_count": 166,
   "metadata": {},
   "outputs": [
    {
     "data": {
      "text/html": [
       "<div>\n",
       "<style scoped>\n",
       "    .dataframe tbody tr th:only-of-type {\n",
       "        vertical-align: middle;\n",
       "    }\n",
       "\n",
       "    .dataframe tbody tr th {\n",
       "        vertical-align: top;\n",
       "    }\n",
       "\n",
       "    .dataframe thead th {\n",
       "        text-align: right;\n",
       "    }\n",
       "</style>\n",
       "<table border=\"1\" class=\"dataframe\">\n",
       "  <thead>\n",
       "    <tr style=\"text-align: right;\">\n",
       "      <th></th>\n",
       "      <th>visitNumber</th>\n",
       "      <th>visitId</th>\n",
       "      <th>visitStartTime</th>\n",
       "      <th>fullVisitorId</th>\n",
       "      <th>clientId</th>\n",
       "      <th>channelGrouping</th>\n",
       "      <th>socialEngagementType</th>\n",
       "      <th>totals.visits</th>\n",
       "      <th>totals.hits</th>\n",
       "      <th>totals.pageviews</th>\n",
       "      <th>...</th>\n",
       "      <th>geoNetwork.region</th>\n",
       "      <th>geoNetwork.metro</th>\n",
       "      <th>geoNetwork.city</th>\n",
       "      <th>geoNetwork.cityId</th>\n",
       "      <th>geoNetwork.networkDomain</th>\n",
       "      <th>geoNetwork.latitude</th>\n",
       "      <th>geoNetwork.longitude</th>\n",
       "      <th>geoNetwork.networkLocation</th>\n",
       "      <th>privacyInfo.analytics_storage</th>\n",
       "      <th>privacyInfo.ads_storage</th>\n",
       "    </tr>\n",
       "  </thead>\n",
       "  <tbody>\n",
       "    <tr>\n",
       "      <th>0</th>\n",
       "      <td>5</td>\n",
       "      <td>1634415095</td>\n",
       "      <td>2021-10-16 21:17:52</td>\n",
       "      <td>3616516989199272664</td>\n",
       "      <td>842035978.1633897176</td>\n",
       "      <td>Generic Paid Search</td>\n",
       "      <td>Not Socially Engaged</td>\n",
       "      <td>1</td>\n",
       "      <td>134</td>\n",
       "      <td>14</td>\n",
       "      <td>...</td>\n",
       "      <td>County Tipperary</td>\n",
       "      <td>0</td>\n",
       "      <td>0</td>\n",
       "      <td>0</td>\n",
       "      <td>0</td>\n",
       "      <td>0.0000</td>\n",
       "      <td>0.0000</td>\n",
       "      <td>0</td>\n",
       "      <td>UNKNOWN</td>\n",
       "      <td>UNKNOWN</td>\n",
       "    </tr>\n",
       "  </tbody>\n",
       "</table>\n",
       "<p>1 rows × 59 columns</p>\n",
       "</div>"
      ],
      "text/plain": [
       "  visitNumber     visitId      visitStartTime        fullVisitorId  \\\n",
       "0           5  1634415095 2021-10-16 21:17:52  3616516989199272664   \n",
       "\n",
       "               clientId      channelGrouping  socialEngagementType  \\\n",
       "0  842035978.1633897176  Generic Paid Search  Not Socially Engaged   \n",
       "\n",
       "  totals.visits totals.hits totals.pageviews  ... geoNetwork.region  \\\n",
       "0             1         134               14  ...  County Tipperary   \n",
       "\n",
       "  geoNetwork.metro geoNetwork.city geoNetwork.cityId geoNetwork.networkDomain  \\\n",
       "0                0               0                 0                        0   \n",
       "\n",
       "  geoNetwork.latitude geoNetwork.longitude geoNetwork.networkLocation  \\\n",
       "0              0.0000               0.0000                          0   \n",
       "\n",
       "  privacyInfo.analytics_storage privacyInfo.ads_storage  \n",
       "0                       UNKNOWN                 UNKNOWN  \n",
       "\n",
       "[1 rows x 59 columns]"
      ]
     },
     "execution_count": 166,
     "metadata": {},
     "output_type": "execute_result"
    }
   ],
   "source": [
    "df_tl.head(1)"
   ]
  },
  {
   "cell_type": "code",
   "execution_count": 167,
   "metadata": {},
   "outputs": [
    {
     "data": {
      "text/plain": [
       "0    2455\n",
       "Name: totals.timeOnSite, dtype: object"
      ]
     },
     "execution_count": 167,
     "metadata": {},
     "output_type": "execute_result"
    }
   ],
   "source": [
    "df_tl['totals.timeOnSite']"
   ]
  },
  {
   "cell_type": "code",
   "execution_count": 168,
   "metadata": {},
   "outputs": [
    {
     "data": {
      "text/plain": [
       "(134, 56)"
      ]
     },
     "execution_count": 168,
     "metadata": {},
     "output_type": "execute_result"
    }
   ],
   "source": [
    "df_hit = single_session_hits_df(raw)\n",
    "df_hit.shape"
   ]
  },
  {
   "cell_type": "code",
   "execution_count": 169,
   "metadata": {},
   "outputs": [
    {
     "data": {
      "text/plain": [
       "2455.412"
      ]
     },
     "execution_count": 169,
     "metadata": {},
     "output_type": "execute_result"
    }
   ],
   "source": [
    "session_time = np.sum(df_hit['hits.deltaTimeMS']) / 1000.0\n",
    "session_time"
   ]
  },
  {
   "cell_type": "code",
   "execution_count": 170,
   "metadata": {},
   "outputs": [],
   "source": [
    "numeric_cols = ['totals.hits', 'totals.pageviews']\n",
    "user , X = emo_ratio_single_session_tl_features(df_tl, session_time, numeric_cols)"
   ]
  },
  {
   "cell_type": "code",
   "execution_count": 171,
   "metadata": {},
   "outputs": [
    {
     "data": {
      "text/html": [
       "<div>\n",
       "<style scoped>\n",
       "    .dataframe tbody tr th:only-of-type {\n",
       "        vertical-align: middle;\n",
       "    }\n",
       "\n",
       "    .dataframe tbody tr th {\n",
       "        vertical-align: top;\n",
       "    }\n",
       "\n",
       "    .dataframe thead th {\n",
       "        text-align: right;\n",
       "    }\n",
       "</style>\n",
       "<table border=\"1\" class=\"dataframe\">\n",
       "  <thead>\n",
       "    <tr style=\"text-align: right;\">\n",
       "      <th></th>\n",
       "      <th>trafficSourceRatio</th>\n",
       "      <th>trafficSourceSocialRatio</th>\n",
       "      <th>trafficSourceSeRatio</th>\n",
       "      <th>mediumSourceFbRatio</th>\n",
       "      <th>mediumSourceCpcRatio</th>\n",
       "      <th>mediumSourceOrganicRatio</th>\n",
       "      <th>avg_hits</th>\n",
       "      <th>avg_page_views</th>\n",
       "      <th>avg_time_on_site</th>\n",
       "      <th>end_of_month_ratio</th>\n",
       "    </tr>\n",
       "  </thead>\n",
       "  <tbody>\n",
       "    <tr>\n",
       "      <th>0</th>\n",
       "      <td>0.0</td>\n",
       "      <td>0.0</td>\n",
       "      <td>0.0</td>\n",
       "      <td>0.0</td>\n",
       "      <td>0.0</td>\n",
       "      <td>0.0</td>\n",
       "      <td>134</td>\n",
       "      <td>14</td>\n",
       "      <td>2455.412</td>\n",
       "      <td>1</td>\n",
       "    </tr>\n",
       "  </tbody>\n",
       "</table>\n",
       "</div>"
      ],
      "text/plain": [
       "   trafficSourceRatio  trafficSourceSocialRatio  trafficSourceSeRatio  \\\n",
       "0                 0.0                       0.0                   0.0   \n",
       "\n",
       "   mediumSourceFbRatio  mediumSourceCpcRatio  mediumSourceOrganicRatio  \\\n",
       "0                  0.0                   0.0                       0.0   \n",
       "\n",
       "   avg_hits  avg_page_views  avg_time_on_site  end_of_month_ratio  \n",
       "0       134              14          2455.412                   1  "
      ]
     },
     "execution_count": 171,
     "metadata": {},
     "output_type": "execute_result"
    }
   ],
   "source": [
    "X.head(1)"
   ]
  },
  {
   "cell_type": "code",
   "execution_count": 172,
   "metadata": {},
   "outputs": [],
   "source": [
    "numeric_cols = ['numOfProducts','hits.eCommerceAction.action_type','hits.time']\n",
    "Y = emo_ratio_single_session_hit_features(df_hit, numeric_cols)"
   ]
  },
  {
   "cell_type": "code",
   "execution_count": 173,
   "metadata": {
    "scrolled": true
   },
   "outputs": [
    {
     "data": {
      "text/html": [
       "<div>\n",
       "<style scoped>\n",
       "    .dataframe tbody tr th:only-of-type {\n",
       "        vertical-align: middle;\n",
       "    }\n",
       "\n",
       "    .dataframe tbody tr th {\n",
       "        vertical-align: top;\n",
       "    }\n",
       "\n",
       "    .dataframe thead th {\n",
       "        text-align: right;\n",
       "    }\n",
       "</style>\n",
       "<table border=\"1\" class=\"dataframe\">\n",
       "  <thead>\n",
       "    <tr style=\"text-align: right;\">\n",
       "      <th></th>\n",
       "      <th>hits.products_per_session</th>\n",
       "      <th>hits.avg_viewd_product</th>\n",
       "      <th>hits.avg_time2hit</th>\n",
       "      <th>hits.avg_time_add_prod</th>\n",
       "      <th>hits.avg_time_rmv_prod</th>\n",
       "      <th>hits.support_page</th>\n",
       "      <th>hits.article_page</th>\n",
       "      <th>hits.search_keyword</th>\n",
       "      <th>hits.product_page</th>\n",
       "      <th>hits.category_page</th>\n",
       "    </tr>\n",
       "  </thead>\n",
       "  <tbody>\n",
       "    <tr>\n",
       "      <th>0</th>\n",
       "      <td>1.126866</td>\n",
       "      <td>5</td>\n",
       "      <td>18323.970149</td>\n",
       "      <td>1493652.2</td>\n",
       "      <td>1812863.0</td>\n",
       "      <td>0</td>\n",
       "      <td>0</td>\n",
       "      <td>0</td>\n",
       "      <td>64</td>\n",
       "      <td>22</td>\n",
       "    </tr>\n",
       "  </tbody>\n",
       "</table>\n",
       "</div>"
      ],
      "text/plain": [
       "   hits.products_per_session  hits.avg_viewd_product  hits.avg_time2hit  \\\n",
       "0                   1.126866                       5       18323.970149   \n",
       "\n",
       "   hits.avg_time_add_prod  hits.avg_time_rmv_prod  hits.support_page  \\\n",
       "0               1493652.2               1812863.0                  0   \n",
       "\n",
       "   hits.article_page  hits.search_keyword  hits.product_page  \\\n",
       "0                  0                    0                 64   \n",
       "\n",
       "   hits.category_page  \n",
       "0                  22  "
      ]
     },
     "execution_count": 173,
     "metadata": {},
     "output_type": "execute_result"
    }
   ],
   "source": [
    "Y.head(1)"
   ]
  },
  {
   "cell_type": "code",
   "execution_count": 174,
   "metadata": {},
   "outputs": [],
   "source": [
    "Z = pd.concat([X,Y], axis=1)"
   ]
  },
  {
   "cell_type": "code",
   "execution_count": 178,
   "metadata": {},
   "outputs": [
    {
     "data": {
      "text/html": [
       "<div>\n",
       "<style scoped>\n",
       "    .dataframe tbody tr th:only-of-type {\n",
       "        vertical-align: middle;\n",
       "    }\n",
       "\n",
       "    .dataframe tbody tr th {\n",
       "        vertical-align: top;\n",
       "    }\n",
       "\n",
       "    .dataframe thead th {\n",
       "        text-align: right;\n",
       "    }\n",
       "</style>\n",
       "<table border=\"1\" class=\"dataframe\">\n",
       "  <thead>\n",
       "    <tr style=\"text-align: right;\">\n",
       "      <th></th>\n",
       "      <th>trafficSourceRatio</th>\n",
       "      <th>trafficSourceSocialRatio</th>\n",
       "      <th>trafficSourceSeRatio</th>\n",
       "      <th>mediumSourceFbRatio</th>\n",
       "      <th>mediumSourceCpcRatio</th>\n",
       "      <th>mediumSourceOrganicRatio</th>\n",
       "      <th>avg_hits</th>\n",
       "      <th>avg_page_views</th>\n",
       "      <th>avg_time_on_site</th>\n",
       "      <th>end_of_month_ratio</th>\n",
       "      <th>hits.products_per_session</th>\n",
       "      <th>hits.avg_viewd_product</th>\n",
       "      <th>hits.avg_time2hit</th>\n",
       "      <th>hits.avg_time_add_prod</th>\n",
       "      <th>hits.avg_time_rmv_prod</th>\n",
       "      <th>hits.support_page</th>\n",
       "      <th>hits.article_page</th>\n",
       "      <th>hits.search_keyword</th>\n",
       "      <th>hits.product_page</th>\n",
       "      <th>hits.category_page</th>\n",
       "    </tr>\n",
       "  </thead>\n",
       "  <tbody>\n",
       "    <tr>\n",
       "      <th>0</th>\n",
       "      <td>0.0</td>\n",
       "      <td>0.0</td>\n",
       "      <td>0.0</td>\n",
       "      <td>0.0</td>\n",
       "      <td>0.0</td>\n",
       "      <td>0.0</td>\n",
       "      <td>134</td>\n",
       "      <td>14</td>\n",
       "      <td>2455.412</td>\n",
       "      <td>1</td>\n",
       "      <td>1.126866</td>\n",
       "      <td>5</td>\n",
       "      <td>18323.970149</td>\n",
       "      <td>1493652.2</td>\n",
       "      <td>1812863.0</td>\n",
       "      <td>0</td>\n",
       "      <td>0</td>\n",
       "      <td>0</td>\n",
       "      <td>64</td>\n",
       "      <td>22</td>\n",
       "    </tr>\n",
       "  </tbody>\n",
       "</table>\n",
       "</div>"
      ],
      "text/plain": [
       "   trafficSourceRatio  trafficSourceSocialRatio  trafficSourceSeRatio  \\\n",
       "0                 0.0                       0.0                   0.0   \n",
       "\n",
       "   mediumSourceFbRatio  mediumSourceCpcRatio  mediumSourceOrganicRatio  \\\n",
       "0                  0.0                   0.0                       0.0   \n",
       "\n",
       "   avg_hits  avg_page_views  avg_time_on_site  end_of_month_ratio  \\\n",
       "0       134              14          2455.412                   1   \n",
       "\n",
       "   hits.products_per_session  hits.avg_viewd_product  hits.avg_time2hit  \\\n",
       "0                   1.126866                       5       18323.970149   \n",
       "\n",
       "   hits.avg_time_add_prod  hits.avg_time_rmv_prod  hits.support_page  \\\n",
       "0               1493652.2               1812863.0                  0   \n",
       "\n",
       "   hits.article_page  hits.search_keyword  hits.product_page  \\\n",
       "0                  0                    0                 64   \n",
       "\n",
       "   hits.category_page  \n",
       "0                  22  "
      ]
     },
     "execution_count": 178,
     "metadata": {},
     "output_type": "execute_result"
    }
   ],
   "source": [
    "Z.head()"
   ]
  },
  {
   "cell_type": "code",
   "execution_count": 94,
   "metadata": {},
   "outputs": [],
   "source": [
    "import pickle"
   ]
  },
  {
   "cell_type": "code",
   "execution_count": 176,
   "metadata": {},
   "outputs": [
    {
     "name": "stderr",
     "output_type": "stream",
     "text": [
      "/Library/Frameworks/Python.framework/Versions/3.8/lib/python3.8/site-packages/sklearn/base.py:310: UserWarning: Trying to unpickle estimator DecisionTreeClassifier from version 1.0.2 when using version 0.24.1. This might lead to breaking code or invalid results. Use at your own risk.\n",
      "  warnings.warn(\n",
      "/Library/Frameworks/Python.framework/Versions/3.8/lib/python3.8/site-packages/sklearn/base.py:310: UserWarning: Trying to unpickle estimator RandomForestClassifier from version 1.0.2 when using version 0.24.1. This might lead to breaking code or invalid results. Use at your own risk.\n",
      "  warnings.warn(\n"
     ]
    }
   ],
   "source": [
    "model = pickle.load(open('../models/models_emo_ratio_model.pkl','rb'))"
   ]
  },
  {
   "cell_type": "code",
   "execution_count": 177,
   "metadata": {},
   "outputs": [
    {
     "data": {
      "text/plain": [
       "'active'"
      ]
     },
     "execution_count": 177,
     "metadata": {},
     "output_type": "execute_result"
    }
   ],
   "source": [
    "lbl = \"active\" if model.predict(Z.values)[0] else \"non-active\"\n",
    "lbl"
   ]
  },
  {
   "cell_type": "code",
   "execution_count": 180,
   "metadata": {},
   "outputs": [
    {
     "data": {
      "text/plain": [
       "14"
      ]
     },
     "execution_count": 180,
     "metadata": {},
     "output_type": "execute_result"
    }
   ],
   "source": [
    "Z.avg_page_views[0]"
   ]
  },
  {
   "cell_type": "code",
   "execution_count": null,
   "metadata": {},
   "outputs": [],
   "source": []
  }
 ],
 "metadata": {
  "kernelspec": {
   "display_name": "Python 3",
   "language": "python",
   "name": "python3"
  },
  "language_info": {
   "codemirror_mode": {
    "name": "ipython",
    "version": 3
   },
   "file_extension": ".py",
   "mimetype": "text/x-python",
   "name": "python",
   "nbconvert_exporter": "python",
   "pygments_lexer": "ipython3",
   "version": "3.8.6"
  }
 },
 "nbformat": 4,
 "nbformat_minor": 2
}
