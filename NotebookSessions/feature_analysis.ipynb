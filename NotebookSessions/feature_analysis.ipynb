{
 "cells": [
  {
   "cell_type": "markdown",
   "id": "f3d652d9",
   "metadata": {},
   "source": [
    "### OCI Data Science - Useful Tips\n",
    "<details>\n",
    "<summary><font size=\"2\">Check for Public Internet Access</font></summary>\n",
    "\n",
    "```python\n",
    "import requests\n",
    "response = requests.get(\"https://oracle.com\")\n",
    "assert response.status_code==200, \"Internet connection failed\"\n",
    "```\n",
    "</details>\n",
    "<details>\n",
    "<summary><font size=\"2\">Helpful Documentation </font></summary>\n",
    "<ul><li><a href=\"https://docs.cloud.oracle.com/en-us/iaas/data-science/using/data-science.htm\">Data Science Service Documentation</a></li>\n",
    "<li><a href=\"https://docs.cloud.oracle.com/iaas/tools/ads-sdk/latest/index.html\">ADS documentation</a></li>\n",
    "</ul>\n",
    "</details>\n",
    "<details>\n",
    "<summary><font size=\"2\">Typical Cell Imports and Settings for ADS</font></summary>\n",
    "\n",
    "```python\n",
    "%load_ext autoreload\n",
    "%autoreload 2\n",
    "%matplotlib inline\n",
    "\n",
    "import warnings\n",
    "warnings.filterwarnings('ignore')\n",
    "\n",
    "import logging\n",
    "logging.basicConfig(format='%(levelname)s:%(message)s', level=logging.ERROR)\n",
    "\n",
    "import ads\n",
    "from ads.dataset.factory import DatasetFactory\n",
    "from ads.automl.provider import OracleAutoMLProvider\n",
    "from ads.automl.driver import AutoML\n",
    "from ads.evaluations.evaluator import ADSEvaluator\n",
    "from ads.common.data import ADSData\n",
    "from ads.explanations.explainer import ADSExplainer\n",
    "from ads.explanations.mlx_global_explainer import MLXGlobalExplainer\n",
    "from ads.explanations.mlx_local_explainer import MLXLocalExplainer\n",
    "from ads.catalog.model import ModelCatalog\n",
    "from ads.common.model_artifact import ModelArtifact\n",
    "```\n",
    "</details>\n",
    "<details>\n",
    "<summary><font size=\"2\">Useful Environment Variables</font></summary>\n",
    "\n",
    "```python\n",
    "import os\n",
    "print(os.environ[\"NB_SESSION_COMPARTMENT_OCID\"])\n",
    "print(os.environ[\"PROJECT_OCID\"])\n",
    "print(os.environ[\"USER_OCID\"])\n",
    "print(os.environ[\"TENANCY_OCID\"])\n",
    "print(os.environ[\"NB_REGION\"])\n",
    "```\n",
    "</details>"
   ]
  },
  {
   "cell_type": "code",
   "execution_count": null,
   "id": "0a0e1dfb",
   "metadata": {},
   "outputs": [],
   "source": [
    "import numpy as np\n",
    "import pandas as pd\n",
    "import json\n",
    "import codecs\n",
    "import os\n",
    "import sys\n",
    "import datetime as dt\n",
    "sys.path.append('../')\n",
    "import oci\n",
    "import ocifs"
   ]
  },
  {
   "cell_type": "code",
   "execution_count": null,
   "id": "22428691",
   "metadata": {},
   "outputs": [],
   "source": [
    "from generate_data_extraction.features_functions import *\n",
    "from generate_data_extraction.emotional_rational_features import *\n",
    "from generate_data_extraction.common_columns_lists import *\n",
    "from generate_data_extraction.init_dataframe import *"
   ]
  },
  {
   "cell_type": "code",
   "execution_count": null,
   "id": "a473aa2e",
   "metadata": {},
   "outputs": [],
   "source": [
    "def column_minmax_score(sr):\n",
    "    n = np.min(sr)\n",
    "    diff = np.max(sr) - np.min(sr)\n",
    "    r = (sr - n) / diff\n",
    "    return r"
   ]
  },
  {
   "cell_type": "code",
   "execution_count": null,
   "id": "357a0c82",
   "metadata": {},
   "outputs": [],
   "source": [
    "bucket_name = \"tenen-raw-data\"\n",
    "config = oci.config.from_file(\n",
    "        \"~/.apikey/config\",\n",
    "        \"DEFAULT\")\n",
    "object_storage_client = oci.object_storage.ObjectStorageClient(config)\n",
    "namespace = object_storage_client.get_namespace().data\n",
    "namespace"
   ]
  },
  {
   "cell_type": "code",
   "execution_count": null,
   "id": "6a3d9d64",
   "metadata": {},
   "outputs": [],
   "source": [
    "hl_file = {'oct' : 'tenen_high_lvl_oct.csv', 'nov': 'tenen_high_lvl_nov.csv', 'dec': 'tenen_high_lvl_dec.csv' }\n",
    "hits_file = {'oct' : 'tenen_hits_extend_oct.csv', 'nov': 'tenen_hits_extend_nov.csv', 'dec': 'tenen_hits_extend_dec.csv'}"
   ]
  },
  {
   "cell_type": "code",
   "execution_count": null,
   "id": "a714a63c",
   "metadata": {},
   "outputs": [],
   "source": [
    "fname = hl_file['dec']\n",
    "directory = 'products'\n",
    "config = {\"config\": \"~/.apikey/config\"}\n",
    "target = f'oci://{bucket_name}@{namespace}/{directory}/{fname}'\n",
    "target"
   ]
  },
  {
   "cell_type": "code",
   "execution_count": null,
   "id": "8faa9c62",
   "metadata": {},
   "outputs": [],
   "source": [
    "#namespace = \"lrhwvlagph9z\"\n",
    "df_tl_oct = pd.read_csv(target, storage_options={\"config\": \"~/.apikey/config\"},low_memory=False)\n",
    "df_tl_oct.shape"
   ]
  },
  {
   "cell_type": "code",
   "execution_count": null,
   "id": "83954adb",
   "metadata": {},
   "outputs": [],
   "source": [
    "df_tl_nov = pd.read_csv(target, storage_options={\"config\": \"~/.apikey/config\"},low_memory=False)\n",
    "df_tl_nov.shape"
   ]
  },
  {
   "cell_type": "code",
   "execution_count": null,
   "id": "28a7f764",
   "metadata": {},
   "outputs": [],
   "source": [
    "df_tl_dec = pd.read_csv(target, storage_options={\"config\": \"~/.apikey/config\"},low_memory=False)\n",
    "df_tl_dec.shape"
   ]
  },
  {
   "cell_type": "code",
   "execution_count": null,
   "id": "aaccbb0d",
   "metadata": {},
   "outputs": [],
   "source": [
    "df_tl_oct['fullVisitorId'] = df_tl_oct['fullVisitorId'].astype(str)\n",
    "df_tl_nov['fullVisitorId'] = df_tl_nov['fullVisitorId'].astype(str)\n",
    "df_tl_dec['fullVisitorId'] = df_tl_dec['fullVisitorId'].astype(str)"
   ]
  },
  {
   "cell_type": "code",
   "execution_count": null,
   "id": "f404652a",
   "metadata": {},
   "outputs": [],
   "source": [
    "df_list = [df_tl_oct, df_tl_nov, df_tl_dec]"
   ]
  },
  {
   "cell_type": "code",
   "execution_count": null,
   "id": "ddc24fb0",
   "metadata": {},
   "outputs": [],
   "source": [
    "df = pd.concat(df_list, ignore_index=True)\n",
    "df.shape"
   ]
  },
  {
   "cell_type": "code",
   "execution_count": null,
   "id": "6fcb168b",
   "metadata": {},
   "outputs": [],
   "source": [
    "numeric_cols = ['totals.hits', 'totals.pageviews', 'totals.timeOnSite']"
   ]
  },
  {
   "cell_type": "code",
   "execution_count": null,
   "id": "0b158383",
   "metadata": {},
   "outputs": [],
   "source": [
    "df_tl = init_top_lvl_df(df, numeric_cols)\n",
    "df_tl.shape"
   ]
  },
  {
   "cell_type": "code",
   "execution_count": 107,
   "id": "70bcf6c5",
   "metadata": {},
   "outputs": [
    {
     "data": {
      "text/plain": [
       "(108488, 65)"
      ]
     },
     "execution_count": 107,
     "metadata": {},
     "output_type": "execute_result"
    }
   ],
   "source": [
    "df_tl.shape"
   ]
  },
  {
   "cell_type": "code",
   "execution_count": 105,
   "id": "821a67a4",
   "metadata": {},
   "outputs": [
    {
     "data": {
      "text/plain": [
       "79651"
      ]
     },
     "execution_count": 105,
     "metadata": {},
     "output_type": "execute_result"
    }
   ],
   "source": [
    "tmp = df_tl.groupby('fullVisitorId')['fullVisitorId'].agg('count')\n",
    "len(tmp)"
   ]
  },
  {
   "cell_type": "code",
   "execution_count": null,
   "id": "b5d60019",
   "metadata": {},
   "outputs": [],
   "source": [
    "X = emotional_rational_toplvl_features(df_tl)\n",
    "X.shape"
   ]
  },
  {
   "cell_type": "code",
   "execution_count": null,
   "id": "b84b6c82",
   "metadata": {},
   "outputs": [],
   "source": [
    "X.isnull().values.any()"
   ]
  },
  {
   "cell_type": "code",
   "execution_count": null,
   "id": "2762a054",
   "metadata": {},
   "outputs": [],
   "source": [
    "X.head(5)"
   ]
  },
  {
   "cell_type": "code",
   "execution_count": null,
   "id": "80e5ac86",
   "metadata": {},
   "outputs": [],
   "source": [
    "X1 = X.apply(lambda x : column_z_score(x))\n",
    "X1.shape"
   ]
  },
  {
   "cell_type": "code",
   "execution_count": null,
   "id": "33685f11",
   "metadata": {},
   "outputs": [],
   "source": [
    "X1.isnull().values.any()"
   ]
  },
  {
   "cell_type": "code",
   "execution_count": null,
   "id": "44850ad7",
   "metadata": {},
   "outputs": [],
   "source": [
    "X1.head(5)"
   ]
  },
  {
   "cell_type": "code",
   "execution_count": 142,
   "id": "32d6de85",
   "metadata": {},
   "outputs": [
    {
     "data": {
      "text/plain": [
       "'oci://tenen-raw-data@lrhwvlagph9z/products/top_level_full_data_with_label.csv'"
      ]
     },
     "execution_count": 142,
     "metadata": {},
     "output_type": "execute_result"
    }
   ],
   "source": [
    "directory = 'features'\n",
    "fname = 'top_level_full_data_with_label.csv'\n",
    "target = f'oci://{bucket_name}@{namespace}/{directory}/{fname}'\n",
    "target"
   ]
  },
  {
   "cell_type": "code",
   "execution_count": 143,
   "id": "ecf12647",
   "metadata": {},
   "outputs": [],
   "source": [
    "X1.to_csv(target, index=True, encoding='utf-8',storage_options = config)"
   ]
  },
  {
   "cell_type": "code",
   "execution_count": null,
   "id": "e9291e92",
   "metadata": {},
   "outputs": [],
   "source": [
    "X2 = X.apply(lambda x : column_minmax_score(x))\n",
    "X2.shape"
   ]
  },
  {
   "cell_type": "code",
   "execution_count": null,
   "id": "1c2ca083",
   "metadata": {},
   "outputs": [],
   "source": [
    "# if reading from bucket\n",
    "X1 = pd.read_csv(target, storage_options={\"config\": \"~/.apikey/config\"}, low_memory=False)"
   ]
  },
  {
   "cell_type": "code",
   "execution_count": null,
   "id": "ba09bf65",
   "metadata": {},
   "outputs": [],
   "source": [
    "directory = 'products'\n",
    "fname = hits_file['dec']\n",
    "target = f'oci://{bucket_name}@{namespace}/{directory}/{fname}'\n",
    "target"
   ]
  },
  {
   "cell_type": "code",
   "execution_count": null,
   "id": "7b5bab94",
   "metadata": {},
   "outputs": [],
   "source": [
    "df_hits_oct = pd.read_csv(target, storage_options={\"config\": \"~/.apikey/config\"},low_memory=False)\n",
    "df_hits_oct.shape"
   ]
  },
  {
   "cell_type": "code",
   "execution_count": null,
   "id": "7459a59c",
   "metadata": {},
   "outputs": [],
   "source": [
    "df_hits_nov = pd.read_csv(target, storage_options={\"config\": \"~/.apikey/config\"},low_memory=False)\n",
    "df_hits_nov.shape"
   ]
  },
  {
   "cell_type": "code",
   "execution_count": null,
   "id": "0f4a8fb9",
   "metadata": {},
   "outputs": [],
   "source": [
    "df_hits_dec = pd.read_csv(target, storage_options={\"config\": \"~/.apikey/config\"},low_memory=False)\n",
    "df_hits_dec.shape"
   ]
  },
  {
   "cell_type": "code",
   "execution_count": null,
   "id": "f0338d29",
   "metadata": {},
   "outputs": [],
   "source": [
    "df_hits_oct['fullVisitorId'] = df_hits_oct['fullVisitorId'].astype(str)\n",
    "df_hits_nov['fullVisitorId'] = df_hits_nov['fullVisitorId'].astype(str) \n",
    "df_hits_dec['fullVisitorId'] = df_hits_dec['fullVisitorId'].astype(str) "
   ]
  },
  {
   "cell_type": "code",
   "execution_count": null,
   "id": "4201200a",
   "metadata": {},
   "outputs": [],
   "source": [
    "df_list = [df_hits_oct, df_hits_nov, df_hits_dec]\n",
    "dfh = pd.concat(df_list, ignore_index=True)\n",
    "dfh.shape"
   ]
  },
  {
   "cell_type": "code",
   "execution_count": null,
   "id": "52be768f",
   "metadata": {},
   "outputs": [],
   "source": [
    "dfh['fullVisitorId'].head(5)"
   ]
  },
  {
   "cell_type": "code",
   "execution_count": null,
   "id": "07ffbab8",
   "metadata": {},
   "outputs": [],
   "source": [
    "numeric_cols = ['numOfProducts', 'hits.eCommerceAction.action_type', 'hits.time']"
   ]
  },
  {
   "cell_type": "code",
   "execution_count": null,
   "id": "e1ae2c91",
   "metadata": {},
   "outputs": [],
   "source": [
    "df_hits = init_hits_df(dfh, numeric_cols, 'hits.time')\n",
    "df_hits.shape"
   ]
  },
  {
   "cell_type": "code",
   "execution_count": null,
   "id": "96bd4cde",
   "metadata": {},
   "outputs": [],
   "source": [
    "tmp = df_hits.groupby('fullVisitorId')['fullVisitorId'].agg('count')\n",
    "len(tmp)"
   ]
  },
  {
   "cell_type": "code",
   "execution_count": 145,
   "id": "f044c27d",
   "metadata": {},
   "outputs": [
    {
     "data": {
      "text/plain": [
       "False"
      ]
     },
     "execution_count": 145,
     "metadata": {},
     "output_type": "execute_result"
    }
   ],
   "source": [
    "df_hits.customer_type.isnull().values.any()"
   ]
  },
  {
   "cell_type": "code",
   "execution_count": null,
   "id": "07d6f8c2",
   "metadata": {},
   "outputs": [],
   "source": [
    "Y = emotional_rational_hits_features(df_hits)\n",
    "Y.shape"
   ]
  },
  {
   "cell_type": "code",
   "execution_count": null,
   "id": "f0678a9e",
   "metadata": {},
   "outputs": [],
   "source": [
    "Y.isnull().values.any()"
   ]
  },
  {
   "cell_type": "code",
   "execution_count": null,
   "id": "084356a5",
   "metadata": {},
   "outputs": [],
   "source": [
    "Y1 = Y.fillna(0)\n",
    "Y1.isna().sum()"
   ]
  },
  {
   "cell_type": "code",
   "execution_count": null,
   "id": "4454a8ef",
   "metadata": {},
   "outputs": [],
   "source": [
    "Y1 = Y1.apply(lambda x : column_z_score(x))\n",
    "Y1.shape"
   ]
  },
  {
   "cell_type": "code",
   "execution_count": null,
   "id": "925c3fc2",
   "metadata": {},
   "outputs": [],
   "source": [
    "Y1.isnull().values.any()"
   ]
  },
  {
   "cell_type": "code",
   "execution_count": null,
   "id": "9619320d",
   "metadata": {},
   "outputs": [],
   "source": [
    "Y1.head()"
   ]
  },
  {
   "cell_type": "code",
   "execution_count": null,
   "id": "cf851fa1",
   "metadata": {},
   "outputs": [],
   "source": [
    "directory = 'features'\n",
    "fname = 'hits_features_minmax.csv'\n",
    "target = f'oci://{bucket_name}@{namespace}/{directory}/{fname}'\n",
    "target"
   ]
  },
  {
   "cell_type": "code",
   "execution_count": null,
   "id": "3fabec05",
   "metadata": {},
   "outputs": [],
   "source": [
    "Y2.to_csv(target, index=True, encoding='utf-8',storage_options = config)"
   ]
  },
  {
   "cell_type": "code",
   "execution_count": null,
   "id": "6fba79d7",
   "metadata": {},
   "outputs": [],
   "source": [
    "Y2 = Y.fillna(0)\n",
    "Y2 = Y2.apply(lambda x : column_minmax_score(x))\n",
    "Y2.shape"
   ]
  },
  {
   "cell_type": "code",
   "execution_count": null,
   "id": "45dadf7c",
   "metadata": {},
   "outputs": [],
   "source": [
    "Y2.head(5)"
   ]
  },
  {
   "cell_type": "code",
   "execution_count": null,
   "id": "304c7d44",
   "metadata": {},
   "outputs": [],
   "source": [
    "Z = pd.concat([X1,Y1], axis=1)\n",
    "Z.shape"
   ]
  },
  {
   "cell_type": "code",
   "execution_count": null,
   "id": "ccb0b700",
   "metadata": {},
   "outputs": [],
   "source": [
    "Z0 = pd.concat([X2,Y2], axis=1)\n",
    "Z0.shape"
   ]
  },
  {
   "cell_type": "code",
   "execution_count": null,
   "id": "c61f723e",
   "metadata": {},
   "outputs": [],
   "source": [
    "Z0.head(5)"
   ]
  },
  {
   "cell_type": "code",
   "execution_count": null,
   "id": "b40a9ca0",
   "metadata": {},
   "outputs": [],
   "source": [
    "fname = 'full_features_minmax.csv'\n",
    "directory = 'features'\n",
    "target = f'oci://{bucket_name}@{namespace}/{directory}/{fname}'\n",
    "target"
   ]
  },
  {
   "cell_type": "code",
   "execution_count": null,
   "id": "21809bae",
   "metadata": {},
   "outputs": [],
   "source": [
    "Z0.to_csv(target, index=True, encoding='utf-8',storage_options = config)"
   ]
  },
  {
   "cell_type": "code",
   "execution_count": null,
   "id": "19e032fe",
   "metadata": {},
   "outputs": [],
   "source": [
    "emotional_high = ['trafficSourceRatio', \n",
    "                  'trafficSourceSocialRatio', \n",
    "                  'mediumSourceFbRatio',\n",
    "                  'mediumSourceCpcRatio',\n",
    "                  'hits.products_per_session',\n",
    "                  'avg_page_views',\n",
    "                  'hits.avg_viewd_product',\n",
    "                  'hits.product_page']\n",
    "emotional_low = ['trafficSourceSeRatio',\n",
    "                 'mediumSourceOrganicRatio', \n",
    "                 'avg_hits',  \n",
    "                 'avg_time_on_site', \n",
    "                 'end_of_month_ratio', \n",
    "                 'hits.avg_time2hit', \n",
    "                 'hits.avg_time_add_prod',\n",
    "                 'hits.avg_time_rmv_prod',\n",
    "                 'hits.support_page',\n",
    "                 'hits.article_page', \n",
    "                 'hits.search_keyword',\n",
    "                 'hits.category_page']"
   ]
  },
  {
   "cell_type": "code",
   "execution_count": null,
   "id": "eb5e71b2",
   "metadata": {},
   "outputs": [],
   "source": [
    "def convert_by_minmax(df, col_list) :\n",
    "    def f(x, is_max):\n",
    "        m = np.max(x)\n",
    "        n = np.min(x)\n",
    "        r = m if is_max else n\n",
    "        return r\n",
    "    v =  df.apply(lambda y: f(y, True) if y.name in col_list else f(y, False))\n",
    "    return v "
   ]
  },
  {
   "cell_type": "code",
   "execution_count": null,
   "id": "a32f38c9",
   "metadata": {},
   "outputs": [],
   "source": [
    "Z_lbl = convert_by_z(Z, emotional_high)"
   ]
  },
  {
   "cell_type": "code",
   "execution_count": null,
   "id": "2c0dbe33",
   "metadata": {},
   "outputs": [],
   "source": [
    "Z_lbl"
   ]
  },
  {
   "cell_type": "code",
   "execution_count": null,
   "id": "437df124",
   "metadata": {},
   "outputs": [],
   "source": [
    "Z_MM = convert_by_minmax(Z0, emotional_high)\n",
    "Z_MM.head(5)"
   ]
  },
  {
   "cell_type": "code",
   "execution_count": null,
   "id": "0e9df7b2",
   "metadata": {},
   "outputs": [],
   "source": [
    "directory = 'features'\n",
    "fname = 'corr_features_tag_vector_minmax.csv'\n",
    "target = f'oci://{bucket_name}@{namespace}/{directory}/{fname}'\n",
    "target"
   ]
  },
  {
   "cell_type": "code",
   "execution_count": null,
   "id": "2cb9472e",
   "metadata": {},
   "outputs": [],
   "source": [
    "def corr_vec_to_cols(df, vec):\n",
    "    def f(n):\n",
    "        if n > 0:  # high corr to emotional = 1\n",
    "            return 'emotio'\n",
    "        elif n < 0 : # low corr to emotional , rational = 2\n",
    "            return 'ratio'\n",
    "        else:  # no corr at all\n",
    "            return 'nocorr'\n",
    "    dft = df.T\n",
    "    z = dft.apply(lambda x : x.corr(vec))\n",
    "    res = z.map(lambda x : f(x))\n",
    "    return res"
   ]
  },
  {
   "cell_type": "code",
   "execution_count": null,
   "id": "7fcba2d7",
   "metadata": {},
   "outputs": [],
   "source": [
    "C = corr_vec_to_cols(Z, Z_lbl).to_frame('corr')"
   ]
  },
  {
   "cell_type": "code",
   "execution_count": null,
   "id": "4e3ee9d4",
   "metadata": {},
   "outputs": [],
   "source": [
    "C.isnull().values.any()"
   ]
  },
  {
   "cell_type": "code",
   "execution_count": null,
   "id": "1c818572",
   "metadata": {},
   "outputs": [],
   "source": [
    "C0.to_csv(target, index=True, encoding='utf-8',storage_options = config)"
   ]
  },
  {
   "cell_type": "code",
   "execution_count": null,
   "id": "0e9fa124",
   "metadata": {},
   "outputs": [],
   "source": [
    "C0 = corr_vec_to_cols(Z0, Z_MM).to_frame('corr')\n",
    "C0.head(10)"
   ]
  },
  {
   "cell_type": "code",
   "execution_count": 111,
   "id": "50b39a09",
   "metadata": {},
   "outputs": [
    {
     "data": {
      "text/plain": [
       "0"
      ]
     },
     "execution_count": 111,
     "metadata": {},
     "output_type": "execute_result"
    }
   ],
   "source": [
    "len(C0.loc[C0['corr'] == 'nocorr'])"
   ]
  },
  {
   "cell_type": "code",
   "execution_count": 112,
   "id": "b6da85d7",
   "metadata": {},
   "outputs": [
    {
     "data": {
      "text/plain": [
       "62987"
      ]
     },
     "execution_count": 112,
     "metadata": {},
     "output_type": "execute_result"
    }
   ],
   "source": [
    "len(C0.loc[C0['corr'] == 'emotio'])"
   ]
  },
  {
   "cell_type": "code",
   "execution_count": 113,
   "id": "32d984cc",
   "metadata": {},
   "outputs": [
    {
     "data": {
      "text/plain": [
       "16664"
      ]
     },
     "execution_count": 113,
     "metadata": {},
     "output_type": "execute_result"
    }
   ],
   "source": [
    "len(C0.loc[C0['corr'] == 'ratio'])"
   ]
  },
  {
   "cell_type": "code",
   "execution_count": null,
   "id": "6e286927",
   "metadata": {},
   "outputs": [],
   "source": [
    "df_tl['customer_type'] = df_tl['fullVisitorId'].apply(lambda x : C0.loc[x] if x in C0.index.to_list() else 'none')"
   ]
  },
  {
   "cell_type": "code",
   "execution_count": null,
   "id": "99264d75",
   "metadata": {},
   "outputs": [],
   "source": [
    "df_hits['customer_type'] = df_hits['fullVisitorId'].apply(lambda x : C0.loc[x] if x in C0.index.to_list() else 'none')"
   ]
  },
  {
   "cell_type": "code",
   "execution_count": 146,
   "id": "e6fd8761",
   "metadata": {},
   "outputs": [
    {
     "data": {
      "text/plain": [
       "'oci://tenen-raw-data@lrhwvlagph9z/products/hits_full_data_with_label.csv'"
      ]
     },
     "execution_count": 146,
     "metadata": {},
     "output_type": "execute_result"
    }
   ],
   "source": [
    "directory = 'products'\n",
    "fname = 'hits_full_data_with_label.csv'\n",
    "target = f'oci://{bucket_name}@{namespace}/{directory}/{fname}'\n",
    "target"
   ]
  },
  {
   "cell_type": "code",
   "execution_count": 147,
   "id": "ea55335b",
   "metadata": {},
   "outputs": [],
   "source": [
    "df_hits.to_csv(target, index=True, encoding='utf-8',storage_options = config)"
   ]
  },
  {
   "cell_type": "code",
   "execution_count": null,
   "id": "5a2cadf5",
   "metadata": {},
   "outputs": [],
   "source": []
  }
 ],
 "metadata": {
  "kernelspec": {
   "display_name": "Python [conda env:dataexplorationandmanipulationforcpupython3_7vyes]",
   "language": "python",
   "name": "conda-env-dataexplorationandmanipulationforcpupython3_7vyes-py"
  },
  "language_info": {
   "codemirror_mode": {
    "name": "ipython",
    "version": 3
   },
   "file_extension": ".py",
   "mimetype": "text/x-python",
   "name": "python",
   "nbconvert_exporter": "python",
   "pygments_lexer": "ipython3",
   "version": "3.7.12"
  }
 },
 "nbformat": 4,
 "nbformat_minor": 5
}
