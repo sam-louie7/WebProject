{
 "cells": [
  {
   "cell_type": "markdown",
   "id": "4372e7b8",
   "metadata": {},
   "source": [
    "### OCI Data Science - Useful Tips\n",
    "<details>\n",
    "<summary><font size=\"2\">Check for Public Internet Access</font></summary>\n",
    "\n",
    "```python\n",
    "import requests\n",
    "response = requests.get(\"https://oracle.com\")\n",
    "assert response.status_code==200, \"Internet connection failed\"\n",
    "```\n",
    "</details>\n",
    "<details>\n",
    "<summary><font size=\"2\">Helpful Documentation </font></summary>\n",
    "<ul><li><a href=\"https://docs.cloud.oracle.com/en-us/iaas/data-science/using/data-science.htm\">Data Science Service Documentation</a></li>\n",
    "<li><a href=\"https://docs.cloud.oracle.com/iaas/tools/ads-sdk/latest/index.html\">ADS documentation</a></li>\n",
    "</ul>\n",
    "</details>\n",
    "<details>\n",
    "<summary><font size=\"2\">Typical Cell Imports and Settings for ADS</font></summary>\n",
    "\n",
    "```python\n",
    "%load_ext autoreload\n",
    "%autoreload 2\n",
    "%matplotlib inline\n",
    "\n",
    "import warnings\n",
    "warnings.filterwarnings('ignore')\n",
    "\n",
    "import logging\n",
    "logging.basicConfig(format='%(levelname)s:%(message)s', level=logging.ERROR)\n",
    "\n",
    "import ads\n",
    "from ads.dataset.factory import DatasetFactory\n",
    "from ads.automl.provider import OracleAutoMLProvider\n",
    "from ads.automl.driver import AutoML\n",
    "from ads.evaluations.evaluator import ADSEvaluator\n",
    "from ads.common.data import ADSData\n",
    "from ads.explanations.explainer import ADSExplainer\n",
    "from ads.explanations.mlx_global_explainer import MLXGlobalExplainer\n",
    "from ads.explanations.mlx_local_explainer import MLXLocalExplainer\n",
    "from ads.catalog.model import ModelCatalog\n",
    "from ads.common.model_artifact import ModelArtifact\n",
    "```\n",
    "</details>\n",
    "<details>\n",
    "<summary><font size=\"2\">Useful Environment Variables</font></summary>\n",
    "\n",
    "```python\n",
    "import os\n",
    "print(os.environ[\"NB_SESSION_COMPARTMENT_OCID\"])\n",
    "print(os.environ[\"PROJECT_OCID\"])\n",
    "print(os.environ[\"USER_OCID\"])\n",
    "print(os.environ[\"TENANCY_OCID\"])\n",
    "print(os.environ[\"NB_REGION\"])\n",
    "```\n",
    "</details>"
   ]
  },
  {
   "cell_type": "code",
   "execution_count": null,
   "id": "d4c4d473",
   "metadata": {},
   "outputs": [],
   "source": [
    "import numpy as np\n",
    "import pandas as pd\n",
    "import json\n",
    "import codecs\n",
    "import os\n",
    "import sys\n",
    "import datetime as dt\n",
    "sys.path.append('../')\n",
    "import oci\n",
    "import ocifs"
   ]
  },
  {
   "cell_type": "code",
   "execution_count": null,
   "id": "077a1c65",
   "metadata": {},
   "outputs": [],
   "source": [
    "from generate_data_extraction.features_functions import *\n",
    "from generate_data_extraction.emotional_rational_features import *\n",
    "from generate_data_extraction.common_columns_lists import *\n",
    "from generate_data_extraction.init_dataframe import *"
   ]
  },
  {
   "cell_type": "code",
   "execution_count": null,
   "id": "564bd6bf",
   "metadata": {},
   "outputs": [],
   "source": [
    "def column_minmax_score(sr):\n",
    "    n = np.min(sr)\n",
    "    diff = np.max(sr) - np.min(sr)\n",
    "    r = (sr - n) / diff\n",
    "    return r"
   ]
  },
  {
   "cell_type": "code",
   "execution_count": null,
   "id": "4330c33f",
   "metadata": {},
   "outputs": [],
   "source": [
    "bucket_name = \"tenen-raw-data\"\n",
    "config = oci.config.from_file(\n",
    "        \"~/.apikey/config\",\n",
    "        \"DEFAULT\")\n",
    "object_storage_client = oci.object_storage.ObjectStorageClient(config)\n",
    "namespace = object_storage_client.get_namespace().data\n",
    "namespace"
   ]
  },
  {
   "cell_type": "code",
   "execution_count": null,
   "id": "d5366937",
   "metadata": {},
   "outputs": [],
   "source": [
    "hl_file = {'oct' : 'tenen_high_lvl_oct.csv', 'nov': 'tenen_high_lvl_nov.csv', 'dec': 'tenen_high_lvl_dec.csv' }\n",
    "hits_file = {'oct' : 'tenen_hits_extend_oct.csv', 'nov': 'tenen_hits_extend_nov.csv', 'dec': 'tenen_hits_extend_dec.csv'}"
   ]
  },
  {
   "cell_type": "code",
   "execution_count": null,
   "id": "adaac0df",
   "metadata": {},
   "outputs": [],
   "source": [
    "fname = hl_file['dec']\n",
    "directory = 'products'\n",
    "config = {\"config\": \"~/.apikey/config\"}\n",
    "target = f'oci://{bucket_name}@{namespace}/{directory}/{fname}'\n",
    "target"
   ]
  },
  {
   "cell_type": "code",
   "execution_count": null,
   "id": "2d87c799",
   "metadata": {},
   "outputs": [],
   "source": [
    "#namespace = \"lrhwvlagph9z\"\n",
    "df_tl_oct = pd.read_csv(target, storage_options={\"config\": \"~/.apikey/config\"},low_memory=False)\n",
    "df_tl_oct.shape"
   ]
  },
  {
   "cell_type": "code",
   "execution_count": null,
   "id": "2ff7dd8c",
   "metadata": {},
   "outputs": [],
   "source": [
    "df_tl_nov = pd.read_csv(target, storage_options={\"config\": \"~/.apikey/config\"},low_memory=False)\n",
    "df_tl_nov.shape"
   ]
  },
  {
   "cell_type": "code",
   "execution_count": null,
   "id": "5f02b9e9",
   "metadata": {},
   "outputs": [],
   "source": [
    "df_tl_dec = pd.read_csv(target, storage_options={\"config\": \"~/.apikey/config\"},low_memory=False)\n",
    "df_tl_dec.shape"
   ]
  },
  {
   "cell_type": "code",
   "execution_count": null,
   "id": "af157ce2",
   "metadata": {},
   "outputs": [],
   "source": [
    "df_tl_oct['fullVisitorId'] = df_tl_oct['fullVisitorId'].astype(str)\n",
    "df_tl_nov['fullVisitorId'] = df_tl_nov['fullVisitorId'].astype(str)\n",
    "df_tl_dec['fullVisitorId'] = df_tl_dec['fullVisitorId'].astype(str)"
   ]
  },
  {
   "cell_type": "code",
   "execution_count": null,
   "id": "63c098d9",
   "metadata": {},
   "outputs": [],
   "source": [
    "df_list = [df_tl_oct, df_tl_nov, df_tl_dec]"
   ]
  },
  {
   "cell_type": "code",
   "execution_count": null,
   "id": "9a300fc4",
   "metadata": {},
   "outputs": [],
   "source": [
    "df = pd.concat(df_list, ignore_index=True)\n",
    "df.shape"
   ]
  },
  {
   "cell_type": "code",
   "execution_count": null,
   "id": "8332fb5c",
   "metadata": {},
   "outputs": [],
   "source": [
    "numeric_cols = ['totals.hits', 'totals.pageviews', 'totals.timeOnSite']"
   ]
  },
  {
   "cell_type": "code",
   "execution_count": null,
   "id": "63018486",
   "metadata": {},
   "outputs": [],
   "source": [
    "df_tl = init_top_lvl_df(df, numeric_cols)\n",
    "df_tl.shape"
   ]
  },
  {
   "cell_type": "code",
   "execution_count": 107,
   "id": "9888731c",
   "metadata": {},
   "outputs": [
    {
     "data": {
      "text/plain": [
       "(108488, 65)"
      ]
     },
     "execution_count": 107,
     "metadata": {},
     "output_type": "execute_result"
    }
   ],
   "source": [
    "df_tl.shape"
   ]
  },
  {
   "cell_type": "code",
   "execution_count": 105,
   "id": "aceea7c1",
   "metadata": {},
   "outputs": [
    {
     "data": {
      "text/plain": [
       "79651"
      ]
     },
     "execution_count": 105,
     "metadata": {},
     "output_type": "execute_result"
    }
   ],
   "source": [
    "tmp = df_tl.groupby('fullVisitorId')['fullVisitorId'].agg('count')\n",
    "len(tmp)"
   ]
  },
  {
   "cell_type": "code",
   "execution_count": null,
   "id": "1121e707",
   "metadata": {},
   "outputs": [],
   "source": [
    "X = emotional_rational_toplvl_features(df_tl)\n",
    "X.shape"
   ]
  },
  {
   "cell_type": "code",
   "execution_count": null,
   "id": "246631a6",
   "metadata": {},
   "outputs": [],
   "source": [
    "X.isnull().values.any()"
   ]
  },
  {
   "cell_type": "code",
   "execution_count": null,
   "id": "7db85d85",
   "metadata": {},
   "outputs": [],
   "source": [
    "X.head(5)"
   ]
  },
  {
   "cell_type": "code",
   "execution_count": null,
   "id": "d3dda84f",
   "metadata": {},
   "outputs": [],
   "source": [
    "X1 = X.apply(lambda x : column_z_score(x))\n",
    "X1.shape"
   ]
  },
  {
   "cell_type": "code",
   "execution_count": null,
   "id": "ecf8e379",
   "metadata": {},
   "outputs": [],
   "source": [
    "X1.isnull().values.any()"
   ]
  },
  {
   "cell_type": "code",
   "execution_count": null,
   "id": "522edfe8",
   "metadata": {},
   "outputs": [],
   "source": [
    "X1.head(5)"
   ]
  },
  {
   "cell_type": "code",
   "execution_count": 142,
   "id": "773926d6",
   "metadata": {},
   "outputs": [
    {
     "data": {
      "text/plain": [
       "'oci://tenen-raw-data@lrhwvlagph9z/products/top_level_full_data_with_label.csv'"
      ]
     },
     "execution_count": 142,
     "metadata": {},
     "output_type": "execute_result"
    }
   ],
   "source": [
    "directory = 'features'\n",
    "fname = 'top_level_full_data_with_label.csv'\n",
    "target = f'oci://{bucket_name}@{namespace}/{directory}/{fname}'\n",
    "target"
   ]
  },
  {
   "cell_type": "code",
   "execution_count": 143,
   "id": "78fd8099",
   "metadata": {},
   "outputs": [],
   "source": [
    "X1.to_csv(target, index=True, encoding='utf-8',storage_options = config)"
   ]
  },
  {
   "cell_type": "code",
   "execution_count": null,
   "id": "c63de40f",
   "metadata": {},
   "outputs": [],
   "source": [
    "X2 = X.apply(lambda x : column_minmax_score(x))\n",
    "X2.shape"
   ]
  },
  {
   "cell_type": "code",
   "execution_count": null,
   "id": "ad1109eb",
   "metadata": {},
   "outputs": [],
   "source": [
    "# if reading from bucket\n",
    "X1 = pd.read_csv(target, storage_options={\"config\": \"~/.apikey/config\"}, low_memory=False)"
   ]
  },
  {
   "cell_type": "code",
   "execution_count": null,
   "id": "4c4843f2",
   "metadata": {},
   "outputs": [],
   "source": [
    "directory = 'products'\n",
    "fname = hits_file['dec']\n",
    "target = f'oci://{bucket_name}@{namespace}/{directory}/{fname}'\n",
    "target"
   ]
  },
  {
   "cell_type": "code",
   "execution_count": null,
   "id": "ac3cfa7f",
   "metadata": {},
   "outputs": [],
   "source": [
    "df_hits_oct = pd.read_csv(target, storage_options={\"config\": \"~/.apikey/config\"},low_memory=False)\n",
    "df_hits_oct.shape"
   ]
  },
  {
   "cell_type": "code",
   "execution_count": null,
   "id": "53d77dfc",
   "metadata": {},
   "outputs": [],
   "source": [
    "df_hits_nov = pd.read_csv(target, storage_options={\"config\": \"~/.apikey/config\"},low_memory=False)\n",
    "df_hits_nov.shape"
   ]
  },
  {
   "cell_type": "code",
   "execution_count": null,
   "id": "389e2e9d",
   "metadata": {},
   "outputs": [],
   "source": [
    "df_hits_dec = pd.read_csv(target, storage_options={\"config\": \"~/.apikey/config\"},low_memory=False)\n",
    "df_hits_dec.shape"
   ]
  },
  {
   "cell_type": "code",
   "execution_count": null,
   "id": "76edd279",
   "metadata": {},
   "outputs": [],
   "source": [
    "df_hits_oct['fullVisitorId'] = df_hits_oct['fullVisitorId'].astype(str)\n",
    "df_hits_nov['fullVisitorId'] = df_hits_nov['fullVisitorId'].astype(str) \n",
    "df_hits_dec['fullVisitorId'] = df_hits_dec['fullVisitorId'].astype(str) "
   ]
  },
  {
   "cell_type": "code",
   "execution_count": null,
   "id": "6645c35f",
   "metadata": {},
   "outputs": [],
   "source": [
    "df_list = [df_hits_oct, df_hits_nov, df_hits_dec]\n",
    "dfh = pd.concat(df_list, ignore_index=True)\n",
    "dfh.shape"
   ]
  },
  {
   "cell_type": "code",
   "execution_count": null,
   "id": "dfd2c66d",
   "metadata": {},
   "outputs": [],
   "source": [
    "dfh['fullVisitorId'].head(5)"
   ]
  },
  {
   "cell_type": "code",
   "execution_count": null,
   "id": "d24154ce",
   "metadata": {},
   "outputs": [],
   "source": [
    "numeric_cols = ['numOfProducts', 'hits.eCommerceAction.action_type', 'hits.time']"
   ]
  },
  {
   "cell_type": "code",
   "execution_count": null,
   "id": "872d5ab4",
   "metadata": {},
   "outputs": [],
   "source": [
    "df_hits = init_hits_df(dfh, numeric_cols, 'hits.time')\n",
    "df_hits.shape"
   ]
  },
  {
   "cell_type": "code",
   "execution_count": null,
   "id": "e122c7ef",
   "metadata": {},
   "outputs": [],
   "source": [
    "tmp = df_hits.groupby('fullVisitorId')['fullVisitorId'].agg('count')\n",
    "len(tmp)"
   ]
  },
  {
   "cell_type": "code",
   "execution_count": 145,
   "id": "6d6ab713",
   "metadata": {},
   "outputs": [
    {
     "data": {
      "text/plain": [
       "False"
      ]
     },
     "execution_count": 145,
     "metadata": {},
     "output_type": "execute_result"
    }
   ],
   "source": [
    "df_hits.customer_type.isnull().values.any()"
   ]
  },
  {
   "cell_type": "code",
   "execution_count": null,
   "id": "77f84542",
   "metadata": {},
   "outputs": [],
   "source": [
    "Y = emotional_rational_hits_features(df_hits)\n",
    "Y.shape"
   ]
  },
  {
   "cell_type": "code",
   "execution_count": null,
   "id": "8543ee75",
   "metadata": {},
   "outputs": [],
   "source": [
    "Y.isnull().values.any()"
   ]
  },
  {
   "cell_type": "code",
   "execution_count": null,
   "id": "11374986",
   "metadata": {},
   "outputs": [],
   "source": [
    "Y1 = Y.fillna(0)\n",
    "Y1.isna().sum()"
   ]
  },
  {
   "cell_type": "code",
   "execution_count": null,
   "id": "a2cc4ccd",
   "metadata": {},
   "outputs": [],
   "source": [
    "Y1 = Y1.apply(lambda x : column_z_score(x))\n",
    "Y1.shape"
   ]
  },
  {
   "cell_type": "code",
   "execution_count": null,
   "id": "ab0b76b2",
   "metadata": {},
   "outputs": [],
   "source": [
    "Y1.isnull().values.any()"
   ]
  },
  {
   "cell_type": "code",
   "execution_count": null,
   "id": "2e9c7d89",
   "metadata": {},
   "outputs": [],
   "source": [
    "Y1.head()"
   ]
  },
  {
   "cell_type": "code",
   "execution_count": null,
   "id": "33c90fc4",
   "metadata": {},
   "outputs": [],
   "source": [
    "directory = 'features'\n",
    "fname = 'hits_features_minmax.csv'\n",
    "target = f'oci://{bucket_name}@{namespace}/{directory}/{fname}'\n",
    "target"
   ]
  },
  {
   "cell_type": "code",
   "execution_count": null,
   "id": "42370a7b",
   "metadata": {},
   "outputs": [],
   "source": [
    "Y2.to_csv(target, index=True, encoding='utf-8',storage_options = config)"
   ]
  },
  {
   "cell_type": "code",
   "execution_count": null,
   "id": "aaa74805",
   "metadata": {},
   "outputs": [],
   "source": [
    "Y2 = Y.fillna(0)\n",
    "Y2 = Y2.apply(lambda x : column_minmax_score(x))\n",
    "Y2.shape"
   ]
  },
  {
   "cell_type": "code",
   "execution_count": null,
   "id": "69249e52",
   "metadata": {},
   "outputs": [],
   "source": [
    "Y2.head(5)"
   ]
  },
  {
   "cell_type": "code",
   "execution_count": null,
   "id": "bcb374ca",
   "metadata": {},
   "outputs": [],
   "source": [
    "Z = pd.concat([X1,Y1], axis=1)\n",
    "Z.shape"
   ]
  },
  {
   "cell_type": "code",
   "execution_count": null,
   "id": "5408a9d5",
   "metadata": {},
   "outputs": [],
   "source": [
    "Z0 = pd.concat([X2,Y2], axis=1)\n",
    "Z0.shape"
   ]
  },
  {
   "cell_type": "code",
   "execution_count": null,
   "id": "2588bc4b",
   "metadata": {},
   "outputs": [],
   "source": [
    "Z0.head(5)"
   ]
  },
  {
   "cell_type": "code",
   "execution_count": null,
   "id": "e55b7c03",
   "metadata": {},
   "outputs": [],
   "source": [
    "fname = 'full_features_minmax.csv'\n",
    "directory = 'features'\n",
    "target = f'oci://{bucket_name}@{namespace}/{directory}/{fname}'\n",
    "target"
   ]
  },
  {
   "cell_type": "code",
   "execution_count": null,
   "id": "90f09fb7",
   "metadata": {},
   "outputs": [],
   "source": [
    "Z0.to_csv(target, index=True, encoding='utf-8',storage_options = config)"
   ]
  },
  {
   "cell_type": "code",
   "execution_count": null,
   "id": "ee47d174",
   "metadata": {},
   "outputs": [],
   "source": [
    "emotional_high = ['trafficSourceRatio', \n",
    "                  'trafficSourceSocialRatio', \n",
    "                  'mediumSourceFbRatio',\n",
    "                  'mediumSourceCpcRatio',\n",
    "                  'hits.products_per_session',\n",
    "                  'avg_page_views',\n",
    "                  'hits.avg_viewd_product',\n",
    "                  'hits.product_page']\n",
    "emotional_low = ['trafficSourceSeRatio',\n",
    "                 'mediumSourceOrganicRatio', \n",
    "                 'avg_hits',  \n",
    "                 'avg_time_on_site', \n",
    "                 'end_of_month_ratio', \n",
    "                 'hits.avg_time2hit', \n",
    "                 'hits.avg_time_add_prod',\n",
    "                 'hits.avg_time_rmv_prod',\n",
    "                 'hits.support_page',\n",
    "                 'hits.article_page', \n",
    "                 'hits.search_keyword',\n",
    "                 'hits.category_page']"
   ]
  },
  {
   "cell_type": "code",
   "execution_count": null,
   "id": "fb309cfa",
   "metadata": {},
   "outputs": [],
   "source": [
    "def convert_by_minmax(df, col_list) :\n",
    "    def f(x, is_max):\n",
    "        m = np.max(x)\n",
    "        n = np.min(x)\n",
    "        r = m if is_max else n\n",
    "        return r\n",
    "    v =  df.apply(lambda y: f(y, True) if y.name in col_list else f(y, False))\n",
    "    return v "
   ]
  },
  {
   "cell_type": "code",
   "execution_count": null,
   "id": "f044917e",
   "metadata": {},
   "outputs": [],
   "source": [
    "Z_lbl = convert_by_z(Z, emotional_high)"
   ]
  },
  {
   "cell_type": "code",
   "execution_count": null,
   "id": "be81e586",
   "metadata": {},
   "outputs": [],
   "source": [
    "Z_lbl"
   ]
  },
  {
   "cell_type": "code",
   "execution_count": null,
   "id": "bda11a26",
   "metadata": {},
   "outputs": [],
   "source": [
    "Z_MM = convert_by_minmax(Z0, emotional_high)\n",
    "Z_MM.head(5)"
   ]
  },
  {
   "cell_type": "code",
   "execution_count": null,
   "id": "fcb38314",
   "metadata": {},
   "outputs": [],
   "source": [
    "directory = 'features'\n",
    "fname = 'corr_features_tag_vector_minmax.csv'\n",
    "target = f'oci://{bucket_name}@{namespace}/{directory}/{fname}'\n",
    "target"
   ]
  },
  {
   "cell_type": "code",
   "execution_count": null,
   "id": "6ddd6738",
   "metadata": {},
   "outputs": [],
   "source": [
    "def corr_vec_to_cols(df, vec):\n",
    "    def f(n):\n",
    "        if n > 0:  # high corr to emotional = 1\n",
    "            return 'emotio'\n",
    "        elif n < 0 : # low corr to emotional , rational = 2\n",
    "            return 'ratio'\n",
    "        else:  # no corr at all\n",
    "            return 'nocorr'\n",
    "    dft = df.T\n",
    "    z = dft.apply(lambda x : x.corr(vec))\n",
    "    res = z.map(lambda x : f(x))\n",
    "    return res"
   ]
  },
  {
   "cell_type": "code",
   "execution_count": null,
   "id": "6b5c9b26",
   "metadata": {},
   "outputs": [],
   "source": [
    "C = corr_vec_to_cols(Z, Z_lbl).to_frame('corr')"
   ]
  },
  {
   "cell_type": "code",
   "execution_count": null,
   "id": "f2a8e10f",
   "metadata": {},
   "outputs": [],
   "source": [
    "C.isnull().values.any()"
   ]
  },
  {
   "cell_type": "code",
   "execution_count": null,
   "id": "f2ad1720",
   "metadata": {},
   "outputs": [],
   "source": [
    "C0.to_csv(target, index=True, encoding='utf-8',storage_options = config)"
   ]
  },
  {
   "cell_type": "code",
   "execution_count": null,
   "id": "e4a1a2cb",
   "metadata": {},
   "outputs": [],
   "source": [
    "C0 = corr_vec_to_cols(Z0, Z_MM).to_frame('corr')\n",
    "C0.head(10)"
   ]
  },
  {
   "cell_type": "code",
   "execution_count": 111,
   "id": "3ba2c4a8",
   "metadata": {},
   "outputs": [
    {
     "data": {
      "text/plain": [
       "0"
      ]
     },
     "execution_count": 111,
     "metadata": {},
     "output_type": "execute_result"
    }
   ],
   "source": [
    "len(C0.loc[C0['corr'] == 'nocorr'])"
   ]
  },
  {
   "cell_type": "code",
   "execution_count": 112,
   "id": "d9f30ac2",
   "metadata": {},
   "outputs": [
    {
     "data": {
      "text/plain": [
       "62987"
      ]
     },
     "execution_count": 112,
     "metadata": {},
     "output_type": "execute_result"
    }
   ],
   "source": [
    "len(C0.loc[C0['corr'] == 'emotio'])"
   ]
  },
  {
   "cell_type": "code",
   "execution_count": 113,
   "id": "2c3963db",
   "metadata": {},
   "outputs": [
    {
     "data": {
      "text/plain": [
       "16664"
      ]
     },
     "execution_count": 113,
     "metadata": {},
     "output_type": "execute_result"
    }
   ],
   "source": [
    "len(C0.loc[C0['corr'] == 'ratio'])"
   ]
  },
  {
   "cell_type": "code",
   "execution_count": null,
   "id": "a007716a",
   "metadata": {},
   "outputs": [],
   "source": [
    "df_tl['customer_type'] = df_tl['fullVisitorId'].apply(lambda x : C0.loc[x] if x in C0.index.to_list() else 'none')"
   ]
  },
  {
   "cell_type": "code",
   "execution_count": null,
   "id": "9da8940a",
   "metadata": {},
   "outputs": [],
   "source": [
    "df_hits['customer_type'] = df_hits['fullVisitorId'].apply(lambda x : C0.loc[x] if x in C0.index.to_list() else 'none')"
   ]
  },
  {
   "cell_type": "code",
   "execution_count": 146,
   "id": "cbd5d21a",
   "metadata": {},
   "outputs": [
    {
     "data": {
      "text/plain": [
       "'oci://tenen-raw-data@lrhwvlagph9z/products/hits_full_data_with_label.csv'"
      ]
     },
     "execution_count": 146,
     "metadata": {},
     "output_type": "execute_result"
    }
   ],
   "source": [
    "directory = 'products'\n",
    "fname = 'hits_full_data_with_label.csv'\n",
    "target = f'oci://{bucket_name}@{namespace}/{directory}/{fname}'\n",
    "target"
   ]
  },
  {
   "cell_type": "code",
   "execution_count": 147,
   "id": "faebfa14",
   "metadata": {},
   "outputs": [],
   "source": [
    "df_hits.to_csv(target, index=True, encoding='utf-8',storage_options = config)"
   ]
  },
  {
   "cell_type": "code",
   "execution_count": null,
   "id": "2c8c92b9",
   "metadata": {},
   "outputs": [],
   "source": []
  }
 ],
 "metadata": {
  "kernelspec": {
   "display_name": "Python 3",
   "language": "python",
   "name": "python3"
  },
  "language_info": {
   "codemirror_mode": {
    "name": "ipython",
    "version": 3
   },
   "file_extension": ".py",
   "mimetype": "text/x-python",
   "name": "python",
   "nbconvert_exporter": "python",
   "pygments_lexer": "ipython3",
   "version": "3.8.6"
  }
 },
 "nbformat": 4,
 "nbformat_minor": 5
}
