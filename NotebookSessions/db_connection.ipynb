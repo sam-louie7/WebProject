{
 "cells": [
  {
   "cell_type": "markdown",
   "metadata": {},
   "source": [
    "### OCI Data Science - Useful Tips\n",
    "<details>\n",
    "<summary><font size=\"2\">Check for Public Internet Access</font></summary>\n",
    "\n",
    "```python\n",
    "import requests\n",
    "response = requests.get(\"https://oracle.com\")\n",
    "assert response.status_code==200, \"Internet connection failed\"\n",
    "```\n",
    "</details>\n",
    "<details>\n",
    "<summary><font size=\"2\">Helpful Documentation </font></summary>\n",
    "<ul><li><a href=\"https://docs.cloud.oracle.com/en-us/iaas/data-science/using/data-science.htm\">Data Science Service Documentation</a></li>\n",
    "<li><a href=\"https://docs.cloud.oracle.com/iaas/tools/ads-sdk/latest/index.html\">ADS documentation</a></li>\n",
    "</ul>\n",
    "</details>\n",
    "<details>\n",
    "<summary><font size=\"2\">Typical Cell Imports and Settings for ADS</font></summary>\n",
    "\n",
    "```python\n",
    "%load_ext autoreload\n",
    "%autoreload 2\n",
    "%matplotlib inline\n",
    "\n",
    "import warnings\n",
    "warnings.filterwarnings('ignore')\n",
    "\n",
    "import logging\n",
    "logging.basicConfig(format='%(levelname)s:%(message)s', level=logging.ERROR)\n",
    "\n",
    "import ads\n",
    "from ads.dataset.factory import DatasetFactory\n",
    "from ads.automl.provider import OracleAutoMLProvider\n",
    "from ads.automl.driver import AutoML\n",
    "from ads.evaluations.evaluator import ADSEvaluator\n",
    "from ads.common.data import ADSData\n",
    "from ads.explanations.explainer import ADSExplainer\n",
    "from ads.explanations.mlx_global_explainer import MLXGlobalExplainer\n",
    "from ads.explanations.mlx_local_explainer import MLXLocalExplainer\n",
    "from ads.catalog.model import ModelCatalog\n",
    "from ads.common.model_artifact import ModelArtifact\n",
    "```\n",
    "</details>\n",
    "<details>\n",
    "<summary><font size=\"2\">Useful Environment Variables</font></summary>\n",
    "\n",
    "```python\n",
    "import os\n",
    "print(os.environ[\"NB_SESSION_COMPARTMENT_OCID\"])\n",
    "print(os.environ[\"PROJECT_OCID\"])\n",
    "print(os.environ[\"USER_OCID\"])\n",
    "print(os.environ[\"TENANCY_OCID\"])\n",
    "print(os.environ[\"NB_REGION\"])\n",
    "```\n",
    "</details>"
   ]
  },
  {
   "cell_type": "code",
   "execution_count": null,
   "metadata": {},
   "outputs": [],
   "source": [
    "# Enter connection information and wallet file directory\n",
    "\n",
    "database_name = \"DBTENENDATA\"\n",
    "database_user = \"Admin\"\n",
    "database_password = \"Samiam1234567\"\n",
    "wallet_storage_directory = os.path.join(os.path.expanduser(\"~\"),\"ADW\")b"
   ]
  },
  {
   "cell_type": "code",
   "execution_count": null,
   "metadata": {},
   "outputs": [],
   "source": [
    "import configparser\n",
    "import re\n",
    "import shutil\n",
    "from tempfile import NamedTemporaryFile\n",
    "from zipfile import ZipFile\n",
    "import os\n",
    "import ads\n",
    "\n",
    "ads.set_documentation_mode(False)\n",
    "\n",
    "wallet_path = os.path.join(wallet_storage_directory, database_name)\n",
    "\n",
    "# Prepare to store ADB connection information\n",
    "adb_config = os.path.join(wallet_storage_directory, '.credentials')\n",
    "\n",
    "# Write a configuration file for login creds.\n",
    "config = configparser.ConfigParser()\n",
    "config.read(adb_config)\n",
    "config[database_name] = {'tns_admin': wallet_path,\n",
    "                         'sid': '{}_medium'.format(database_name.lower()),\n",
    "                         'user': database_user,\n",
    "                         'password': database_password}\n",
    "with open(adb_config, 'w') as configfile:\n",
    "    config.write(configfile)"
   ]
  },
  {
   "cell_type": "code",
   "execution_count": null,
   "metadata": {},
   "outputs": [],
   "source": [
    "# Read in the credentials configuration files\n",
    "my_config = configparser.ConfigParser()\n",
    "my_config.read(adb_config)\n",
    "\n",
    "# Access a setting\n",
    "# print(my_config[database_name].get('user'))\n",
    "\n",
    "# Limit the information to a specific database\n",
    "my_creds = my_config[database_name]\n",
    "print(my_creds.get('user'))"
   ]
  },
  {
   "cell_type": "code",
   "execution_count": null,
   "metadata": {},
   "outputs": [],
   "source": [
    "# extract the wallet\n",
    "wallet_file = 'Wallet_{}.zip'.format(database_name)\n",
    "wallet_filename = os.path.join(wallet_storage_directory, wallet_file)\n",
    "if not os.path.exists(wallet_filename):\n",
    "    print(\"The file {} does not exist.\".format(wallet_filename))\n",
    "    print(\"Please copy the Wallet file, {}, into the directory {} then rerun this cell.\".format(wallet_file, wallet_filename))\n",
    "else:\n",
    "    os.makedirs(wallet_path, mode=0o700, exist_ok=True)\n",
    "    with ZipFile(wallet_filename, 'r') as zipObj:\n",
    "        zipObj.extractall(wallet_path)"
   ]
  },
  {
   "cell_type": "code",
   "execution_count": null,
   "metadata": {},
   "outputs": [],
   "source": [
    "# Update the sqlnet.ora\n",
    "\n",
    "sqlnet_path = os.path.join(wallet_path, 'sqlnet.ora')\n",
    "sqlnet_original_path = os.path.join(wallet_path, 'sqlnet.ora.original')\n",
    "sqlnet_backup_path = os.path.join(wallet_path, 'sqlnet.ora.backup')\n",
    "if not os.path.exists(sqlnet_original_path):\n",
    "    shutil.copy(sqlnet_path, sqlnet_original_path)\n",
    "if os.path.exists(sqlnet_path):\n",
    "    shutil.copy(sqlnet_path, sqlnet_backup_path)\n",
    "sqlnet_re = re.compile('(WALLET_LOCATION\\s*=.*METHOD_DATA\\s*=.*DIRECTORY\\s*=\\s*\\\")(.*)(\\\".*)', \n",
    "                       re.IGNORECASE)\n",
    "tmp = NamedTemporaryFile()\n",
    "with open(sqlnet_path, 'rt') as sqlnet:\n",
    "    for line in sqlnet:\n",
    "        tmp.write(bytearray(sqlnet_re.subn(r'\\1{}\\3'.format(wallet_path), line)[0], \n",
    "                            encoding='utf-8'))\n",
    "tmp.flush()\n",
    "shutil.copy(tmp.name, sqlnet_path)\n",
    "tmp.close()"
   ]
  },
  {
   "cell_type": "code",
   "execution_count": null,
   "metadata": {},
   "outputs": [],
   "source": [
    "# Add TNS_ADMIN to the environment\n",
    "os.environ['TNS_ADMIN'] = config[database_name].get('tns_admin')\n",
    "\n",
    "# Test the database connection\n",
    "creds = config[database_name]\n",
    "connect = 'sqlplus ' + creds.get('user') + '/' + creds.get('password') + '@' + creds.get('sid')\n",
    "print(os.popen(connect).read())"
   ]
  },
  {
   "cell_type": "code",
   "execution_count": null,
   "metadata": {},
   "outputs": [],
   "source": [
    "import warnings\n",
    "warnings.filterwarnings(\"ignore\", category=DeprecationWarning) \n",
    "\n",
    "import pandas as pd\n",
    "import logging\n",
    "\n",
    "logging.basicConfig(format='%(levelname)s:%(message)s', level=logging.INFO)"
   ]
  },
  {
   "cell_type": "code",
   "execution_count": null,
   "metadata": {},
   "outputs": [],
   "source": [
    "# Add TNS_ADMIN to the environment\n",
    "#creds = config[database_name]\n",
    "#os.environ['TNS_ADMIN'] = config[database_name].get('tns_admin')\n",
    "\n",
    "# Get the URI to connect to the database\n",
    "uri='oracle+cx_oracle://' + creds.get('user') + ':' + creds.get('password') + '@' + creds.get('sid')\n",
    "print(uri)"
   ]
  }
 ],
 "metadata": {
  "kernelspec": {
   "display_name": "Python 3",
   "language": "python",
   "name": "python3"
  },
  "language_info": {
   "codemirror_mode": {
    "name": "ipython",
    "version": 3
   },
   "file_extension": ".py",
   "mimetype": "text/x-python",
   "name": "python",
   "nbconvert_exporter": "python",
   "pygments_lexer": "ipython3",
   "version": "3.8.6"
  }
 },
 "nbformat": 4,
 "nbformat_minor": 5
}
