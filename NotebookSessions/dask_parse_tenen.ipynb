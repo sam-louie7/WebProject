{
 "cells": [
  {
   "cell_type": "code",
   "execution_count": null,
   "id": "621756cb",
   "metadata": {},
   "outputs": [],
   "source": [
    "import numpy as np\n",
    "import pandas as pd\n",
    "import json\n",
    "import codecs\n",
    "import os\n",
    "import sys\n",
    "import datetime as dt\n",
    "sys.path.append('../')"
   ]
  },
  {
   "cell_type": "code",
   "execution_count": null,
   "id": "299f93d3",
   "metadata": {},
   "outputs": [],
   "source": [
    "import oci\n",
    "from oci.config import validate_config\n",
    "import multiprocessing as mp\n",
    "import ocifs"
   ]
  },
  {
   "cell_type": "code",
   "execution_count": null,
   "id": "ff07123e",
   "metadata": {},
   "outputs": [],
   "source": [
    "from dask.distributed import Client\n",
    "from pandas import json_normalize\n",
    "import dask.bag as db\n",
    "import dask.dataframe as dd"
   ]
  },
  {
   "cell_type": "code",
   "execution_count": null,
   "id": "5837b384",
   "metadata": {},
   "outputs": [],
   "source": [
    "import multiprocessing as mp\n",
    "mp.cpu_count()"
   ]
  },
  {
   "cell_type": "code",
   "execution_count": null,
   "id": "1479812a",
   "metadata": {},
   "outputs": [],
   "source": [
    "#namespace = \"lrhwvlagph9z\"\n",
    "bucket_name = \"tenen-raw-data\"\n",
    "config = oci.config.from_file(\n",
    "        \"~/.apikey/config\",\n",
    "        \"DEFAULT\")"
   ]
  },
  {
   "cell_type": "code",
   "execution_count": null,
   "id": "c5bc045f",
   "metadata": {},
   "outputs": [],
   "source": [
    "validate_config(config)"
   ]
  },
  {
   "cell_type": "code",
   "execution_count": null,
   "id": "66afb927",
   "metadata": {},
   "outputs": [],
   "source": [
    "object_storage_client = oci.object_storage.ObjectStorageClient(config)\n",
    "namespace = object_storage_client.get_namespace().data\n",
    "next_starts_with = None\n",
    "object_list = object_storage_client.list_objects(namespace, bucket_name , fields='name, timeCreated, size', start=next_starts_with)\n",
    "f = object_list.data.objects\n",
    "namespace"
   ]
  },
  {
   "cell_type": "code",
   "execution_count": null,
   "id": "e5423e42",
   "metadata": {},
   "outputs": [],
   "source": [
    "fs = ocifs.OCIFileSystem(config=\"~/.apikey/config\", profile=\"DEFAULT\")"
   ]
  },
  {
   "cell_type": "code",
   "execution_count": null,
   "id": "6b495354",
   "metadata": {},
   "outputs": [],
   "source": [
    "bucket_dir = {'oct' : \"/oct/\", 'nov': \"/nov/\", 'dec': \"/dec/\" }\n",
    "target_file = {'oct' : 'tenen_high_lvl_oct.csv', 'nov': 'tenen_high_lvl_nov.csv', 'dec': 'tenen_high_lvl_dec.csv' }\n",
    "products_file = {'oct' : 'tenen_products_oct.csv', 'nov': 'tenen_products_nov.csv', 'dec': 'tenen_products_dec.csv'}\n",
    "hits_file = {'oct' : 'tenen_hits_oct.csv', 'nov': 'tenen_hits_nov.csv', 'dec': 'tenen_hits_dec.csv'}"
   ]
  },
  {
   "cell_type": "code",
   "execution_count": null,
   "id": "fd075cc4",
   "metadata": {},
   "outputs": [],
   "source": [
    "#obj_list = bucket_txt_file_list(object_storage_client, namespace, bucket_name, None, '.txt')\n",
    "path2 = 'tenen-raw-data@' + namespace + bucket_dir['dec']\n",
    "objlist = fs.glob(path2)\n",
    "objlist"
   ]
  },
  {
   "cell_type": "code",
   "execution_count": null,
   "id": "2b3584c1",
   "metadata": {},
   "outputs": [],
   "source": [
    "client = Client(n_workers=mp.cpu_count(), memory_limit='8GB')"
   ]
  },
  {
   "cell_type": "code",
   "execution_count": null,
   "id": "86cb2739",
   "metadata": {},
   "outputs": [],
   "source": [
    "def read_json_objects(path):\n",
    "    jsonlines = []\n",
    "    with fs.open(path , 'r') as f:\n",
    "        jsonlines = f.readlines()\n",
    "    return jsonlines"
   ]
  },
  {
   "cell_type": "code",
   "execution_count": null,
   "id": "0946041e",
   "metadata": {},
   "outputs": [],
   "source": [
    "def dask_bug_json_list(json_list, num_p):\n",
    "    return db.from_sequence(json_list, npartitions=num_p).map(json.loads)"
   ]
  },
  {
   "cell_type": "code",
   "execution_count": null,
   "id": "811762e6",
   "metadata": {},
   "outputs": [],
   "source": [
    "def dask_bug_read_json_text(obj, nspace):\n",
    "    path = 'tenen-raw-data@' + nspace + \"/\"\n",
    "    storage_opt = {\"config\": \"~/.apikey/config\"}\n",
    "    return db.read_text(path+obj, storage_options=storage_opt).map(json.loads)"
   ]
  },
  {
   "cell_type": "code",
   "execution_count": null,
   "id": "3cd19f08",
   "metadata": {},
   "outputs": [],
   "source": [
    "def general_json_to_df__1(dbug, **kwargs):\n",
    "    ddf = dbug.to_dataframe()\n",
    "    return ddf.compute()"
   ]
  },
  {
   "cell_type": "code",
   "execution_count": null,
   "id": "52682280",
   "metadata": {},
   "outputs": [],
   "source": [
    "def general_json_to_df__2(dbug, **kwargs):\n",
    "    extract_col = kwargs['col']\n",
    "    ddf = (dbug.pluck(extract_col)).to_dataframe()\n",
    "    df0 = ddf.compute()\n",
    "    df0.reset_index(inplace=True)\n",
    "    return df0.add_prefix(extract_col+'.')"
   ]
  },
  {
   "cell_type": "code",
   "execution_count": null,
   "id": "45930ff8",
   "metadata": {},
   "outputs": [],
   "source": [
    "def parse_hits_column(x):\n",
    "    df = pd.DataFrame()\n",
    "    if(len(x['hits']) > 0):\n",
    "        df = pd.json_normalize(x,\n",
    "                               record_path='hits',\n",
    "                               record_prefix='hits.',\n",
    "                               meta=['fullVisitorId', 'visitStartTime']\n",
    "                               )\n",
    "    return df"
   ]
  },
  {
   "cell_type": "code",
   "execution_count": null,
   "id": "210f57c8",
   "metadata": {},
   "outputs": [],
   "source": [
    "def parse_products_column(x):\n",
    "    df = pd.DataFrame()\n",
    "    if(len(x['hits']) > 0):\n",
    "        df = pd.json_normalize(x,\n",
    "                               record_path=['hits', 'product'],\n",
    "                               record_prefix='hits.product.',\n",
    "                               meta=['fullVisitorId', 'visitStartTime', ['hits', 'hitNumber']]\n",
    "                               )\n",
    "    return df"
   ]
  },
  {
   "cell_type": "code",
   "execution_count": null,
   "id": "177ba329",
   "metadata": {},
   "outputs": [],
   "source": [
    "def put_file(src, namespace, target):\n",
    "    fs.put_file(src, 'oci://tenen-raw-data@'+namespace+target)"
   ]
  },
  {
   "cell_type": "code",
   "execution_count": null,
   "id": "912f7555",
   "metadata": {},
   "outputs": [],
   "source": [
    "def check_col_types(df):\n",
    "    x = df.isna().any()\n",
    "    x.to_csv(\"/home/datascience/files/isna.csv\")\n",
    "    return dict(df.dtypes)"
   ]
  },
  {
   "cell_type": "code",
   "execution_count": null,
   "id": "441b4a13",
   "metadata": {},
   "outputs": [],
   "source": [
    "jsonobjs = []\n",
    "for obj in objlist:\n",
    "    jsonobjs = jsonobjs + read_json_objects(obj)\n",
    "len(jsonobjs)"
   ]
  },
  {
   "cell_type": "code",
   "execution_count": null,
   "id": "aa82bba1",
   "metadata": {},
   "outputs": [],
   "source": [
    "dbug = dask_bug_json_list(jsonobjs, mp.cpu_count())"
   ]
  },
  {
   "cell_type": "raw",
   "id": "cad2a31d",
   "metadata": {},
   "source": [
    "###########################\n",
    "# HIGH LEVEL DATA EXTRUCT #\n",
    "###########################"
   ]
  },
  {
   "cell_type": "code",
   "execution_count": null,
   "id": "2ff7d9b6",
   "metadata": {},
   "outputs": [],
   "source": [
    "cols =  ['totals', 'trafficSource', 'device', 'geoNetwork', 'privacyInfo']\n",
    "df = general_json_to_df__1(dbug)\n",
    "df.reset_index(inplace=True)\n",
    "for c in cols:\n",
    "    df_tmp =  general_json_to_df__2(dbug, col=c)\n",
    "    df = pd.concat([df.drop(columns=[c]), df_tmp], axis=1)\n",
    "col='trafficSource.adwordsClickInfo'\n",
    "df0 = pd.json_normalize(df[col]).add_prefix(col+'.')\n",
    "df = pd.concat([df.drop(columns=[col]), df0], axis=1)\n",
    "df = df.drop(columns=['index', 'date', 'hits', 'customDimensions', 'totals.index', 'geoNetwork.index', 'trafficSource.index', 'device.index', 'privacyInfo.index'])\n",
    "df['visitStartTime'] = pd.to_datetime(df['visitStartTime'], unit='s')\n",
    "df.shape"
   ]
  },
  {
   "cell_type": "raw",
   "id": "41893c40",
   "metadata": {},
   "source": [
    "# cast data types in columns #"
   ]
  },
  {
   "cell_type": "code",
   "execution_count": null,
   "id": "b5a873a0",
   "metadata": {},
   "outputs": [],
   "source": [
    "df = df.replace([\"\", \"/\", \":\", \"(not set)\", \"UNKNOWN\"], \"0\").fillna(\"0\").astype(str)"
   ]
  },
  {
   "cell_type": "code",
   "execution_count": null,
   "id": "bfb21486",
   "metadata": {},
   "outputs": [],
   "source": [
    "df = df.dropna(how='all')\n",
    "df.shape"
   ]
  },
  {
   "cell_type": "code",
   "execution_count": null,
   "id": "772a633b",
   "metadata": {},
   "outputs": [],
   "source": [
    "df.head(2)"
   ]
  },
  {
   "cell_type": "raw",
   "id": "441bec09",
   "metadata": {},
   "source": [
    "# check for is NaN and columns types #"
   ]
  },
  {
   "cell_type": "code",
   "execution_count": null,
   "id": "ce07e673",
   "metadata": {},
   "outputs": [],
   "source": [
    "y = check_col_types(df)"
   ]
  },
  {
   "cell_type": "raw",
   "id": "0d4406c9",
   "metadata": {},
   "source": [
    "# write to csv file #"
   ]
  },
  {
   "cell_type": "code",
   "execution_count": null,
   "id": "5c5ac6e6",
   "metadata": {},
   "outputs": [],
   "source": [
    "tfile = target_file['nov']\n",
    "path = f\"/home/datascience/files/{tfile}\" \n",
    "#target = 'oci://tenen-raw-data@'+namespace+'/products/'+ target_file['nov']\n",
    "#configf = {\"config\": \"~/.apikey/config\"}\n",
    "df.to_csv(path, index=False, encoding='utf-8')"
   ]
  },
  {
   "cell_type": "raw",
   "id": "0fb97096",
   "metadata": {},
   "source": [
    "##################\n",
    "# HITS DATAFRAME #\n",
    "##################"
   ]
  },
  {
   "cell_type": "code",
   "execution_count": null,
   "id": "0ffab5fd",
   "metadata": {},
   "outputs": [],
   "source": [
    "dbl = db.map(lambda x: parse_hits_column(x), dbug).compute()\n",
    "df0 = pd.concat(dbl)\n",
    "df0.shape"
   ]
  },
  {
   "cell_type": "code",
   "execution_count": null,
   "id": "34687d3d",
   "metadata": {},
   "outputs": [],
   "source": [
    "df0['numOfProducts'] = df0.apply(lambda x : len(x['hits.product']), axis=1)\n",
    "df0['visitStartTime'] = pd.to_datetime(df0['visitStartTime'], unit='s')"
   ]
  },
  {
   "cell_type": "code",
   "execution_count": null,
   "id": "51b783bd",
   "metadata": {},
   "outputs": [],
   "source": [
    "#df0['startTime'] = pd.to_datetime(df0['hits.hour'].astype(str) + ':' + df0['hits.minute'].astype(str), format='%H:%M').dt.time"
   ]
  },
  {
   "cell_type": "code",
   "execution_count": null,
   "id": "b4ea4fe9",
   "metadata": {},
   "outputs": [],
   "source": [
    "df0 = df0.drop(columns=['hits.product', 'hits.promotion', 'hits.experiment', 'hits.publisher_infos',\n",
    "                        'hits.customVariables', 'hits.customDimensions', 'hits.customMetrics',\n",
    "                        'hits.hour', 'hits.minute'])"
   ]
  },
  {
   "cell_type": "code",
   "execution_count": null,
   "id": "8033b396",
   "metadata": {},
   "outputs": [],
   "source": [
    "df0 = df0.replace([\"\", \"/\", \":\", \"(not set)\", \"UNKNOWN\"], \"0\").fillna(\"0\").astype(str)"
   ]
  },
  {
   "cell_type": "code",
   "execution_count": null,
   "id": "03c2c0d4",
   "metadata": {},
   "outputs": [],
   "source": [
    "df0.shape"
   ]
  },
  {
   "cell_type": "code",
   "execution_count": null,
   "id": "4aa12858",
   "metadata": {},
   "outputs": [],
   "source": [
    "df0.columns"
   ]
  },
  {
   "cell_type": "code",
   "execution_count": null,
   "id": "5e2684f9",
   "metadata": {},
   "outputs": [],
   "source": [
    "df0.tail(5)"
   ]
  },
  {
   "cell_type": "code",
   "execution_count": null,
   "id": "a0eb1525",
   "metadata": {},
   "outputs": [],
   "source": [
    "check_col_types(df0)"
   ]
  },
  {
   "cell_type": "code",
   "execution_count": null,
   "id": "780addc5",
   "metadata": {},
   "outputs": [],
   "source": [
    "tfile = hits_file['dec']\n",
    "path = f\"/home/datascience/files/{tfile}\"\n",
    "df0.to_csv(path, index=False, encoding='utf-8')"
   ]
  },
  {
   "cell_type": "raw",
   "id": "7d63617d",
   "metadata": {},
   "source": [
    "######################\n",
    "# PRODUCTS DATAFRAME #\n",
    "######################"
   ]
  },
  {
   "cell_type": "code",
   "execution_count": null,
   "id": "dd622a43",
   "metadata": {},
   "outputs": [],
   "source": [
    "dbp = db.map(lambda x: parse_products_column(x), dbug).compute()"
   ]
  },
  {
   "cell_type": "code",
   "execution_count": null,
   "id": "d9df9fa2",
   "metadata": {},
   "outputs": [],
   "source": [
    "df1 = pd.concat(dbp)\n",
    "df1['visitStartTime'] = pd.to_datetime(df1['visitStartTime'], unit='s')\n",
    "df1 = df1.drop(columns=['hits.product.customMetrics'])\n",
    "df1.shape"
   ]
  },
  {
   "cell_type": "code",
   "execution_count": null,
   "id": "d497dc39",
   "metadata": {},
   "outputs": [],
   "source": [
    "df1.columns"
   ]
  },
  {
   "cell_type": "code",
   "execution_count": null,
   "id": "74f762d1",
   "metadata": {},
   "outputs": [],
   "source": [
    "df1['hits.product.customDimensions'] = df1['hits.product.customDimensions'].apply(lambda y: [{'index':'0','value':'None'}] if len(y)==0 else y)"
   ]
  },
  {
   "cell_type": "code",
   "execution_count": null,
   "id": "1a112b6c",
   "metadata": {},
   "outputs": [],
   "source": [
    "df1 = df1.replace([\"\", \"/\", \":\", \"(not set)\", \"UNKNOWN\"], \"0\").fillna(\"0\").astype(str)\n",
    "df1.head(3)"
   ]
  },
  {
   "cell_type": "code",
   "execution_count": null,
   "id": "efad2a09",
   "metadata": {},
   "outputs": [],
   "source": [
    "tfile = products_file['dec']\n",
    "path = f\"/home/datascience/files/{tfile}\"\n",
    "df1.to_csv(path, index=False, encoding='utf-8')"
   ]
  },
  {
   "cell_type": "code",
   "execution_count": null,
   "id": "0ef100ec",
   "metadata": {},
   "outputs": [],
   "source": [
    "#fs.put_file(path+tfile, 'oci://tenen-raw-data@'+namespace+'/products/'+tfile)"
   ]
  }
 ],
 "metadata": {
  "kernelspec": {
   "display_name": "Python 3",
   "language": "python",
   "name": "python3"
  },
  "language_info": {
   "codemirror_mode": {
    "name": "ipython",
    "version": 3
   },
   "file_extension": ".py",
   "mimetype": "text/x-python",
   "name": "python",
   "nbconvert_exporter": "python",
   "pygments_lexer": "ipython3",
   "version": "3.8.6"
  }
 },
 "nbformat": 4,
 "nbformat_minor": 5
}
