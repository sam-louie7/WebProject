{
 "cells": [
  {
   "cell_type": "code",
   "execution_count": 1,
   "id": "87a55fc8",
   "metadata": {},
   "outputs": [],
   "source": [
    "import numpy as np\n",
    "import pandas as pd\n",
    "import json\n",
    "import codecs\n",
    "import os\n",
    "import sys\n",
    "import datetime as dt\n",
    "sys.path.append('../')"
   ]
  },
  {
   "cell_type": "code",
   "execution_count": 2,
   "id": "bdf214e8",
   "metadata": {},
   "outputs": [],
   "source": [
    "import oci\n",
    "from oci.config import validate_config\n",
    "import multiprocessing as mp\n",
    "import ocifs"
   ]
  },
  {
   "cell_type": "code",
   "execution_count": 3,
   "id": "6a99797d",
   "metadata": {},
   "outputs": [],
   "source": [
    "from dask.distributed import Client\n",
    "from pandas import json_normalize\n",
    "import dask.bag as db\n",
    "import dask.dataframe as dd"
   ]
  },
  {
   "cell_type": "code",
   "execution_count": 4,
   "id": "f91c890c",
   "metadata": {},
   "outputs": [
    {
     "data": {
      "text/plain": [
       "16"
      ]
     },
     "execution_count": 4,
     "metadata": {},
     "output_type": "execute_result"
    }
   ],
   "source": [
    "import multiprocessing as mp\n",
    "mp.cpu_count()"
   ]
  },
  {
   "cell_type": "code",
   "execution_count": 5,
   "id": "677ec333",
   "metadata": {},
   "outputs": [],
   "source": [
    "#namespace = \"lrhwvlagph9z\"\n",
    "bucket_name = \"tenen-raw-data\"\n",
    "config = oci.config.from_file(\n",
    "        \"~/.apikey/config\",\n",
    "        \"DEFAULT\")"
   ]
  },
  {
   "cell_type": "code",
   "execution_count": 6,
   "id": "88ebb8c4",
   "metadata": {},
   "outputs": [],
   "source": [
    "validate_config(config)"
   ]
  },
  {
   "cell_type": "code",
   "execution_count": 7,
   "id": "949e73af",
   "metadata": {},
   "outputs": [
    {
     "data": {
      "text/plain": [
       "'lrhwvlagph9z'"
      ]
     },
     "execution_count": 7,
     "metadata": {},
     "output_type": "execute_result"
    }
   ],
   "source": [
    "object_storage_client = oci.object_storage.ObjectStorageClient(config)\n",
    "namespace = object_storage_client.get_namespace().data\n",
    "next_starts_with = None\n",
    "object_list = object_storage_client.list_objects(namespace, bucket_name , fields='name, timeCreated, size', start=next_starts_with)\n",
    "f = object_list.data.objects\n",
    "namespace"
   ]
  },
  {
   "cell_type": "code",
   "execution_count": 8,
   "id": "c10a1a54",
   "metadata": {},
   "outputs": [],
   "source": [
    "fs = ocifs.OCIFileSystem(config=\"~/.apikey/config\", profile=\"DEFAULT\")"
   ]
  },
  {
   "cell_type": "code",
   "execution_count": 9,
   "id": "fceb3f16",
   "metadata": {},
   "outputs": [],
   "source": [
    "bucket_dir = {'oct' : \"/oct/\", 'nov': \"/nov/\", 'dec': \"/dec/\" }\n",
    "target_file = {'oct' : 'tenen_high_lvl_oct.csv', 'nov': 'tenen_high_lvl_nov.csv', 'dec': 'tenen_high_lvl_dec.csv' }\n",
    "products_file = {'oct' : 'tenen_products_oct.csv', 'nov': 'tenen_products_nov.csv', 'dec': 'tenen_products_dec.csv'}\n",
    "hits_file = {'oct' : 'tenen_hits_oct.csv', 'nov': 'tenen_hits_nov.csv', 'dec': 'tenen_hits_dec.csv'}"
   ]
  },
  {
   "cell_type": "code",
   "execution_count": 31,
   "id": "0bf1dfda",
   "metadata": {},
   "outputs": [
    {
     "data": {
      "text/plain": [
       "['tenen-raw-data@lrhwvlagph9z/dec/IE-Dec-1-9-2021.txt',\n",
       " 'tenen-raw-data@lrhwvlagph9z/dec/IE-Dec-10-19-2021.txt',\n",
       " 'tenen-raw-data@lrhwvlagph9z/dec/IE-Dec-20-31-2021.txt']"
      ]
     },
     "execution_count": 31,
     "metadata": {},
     "output_type": "execute_result"
    }
   ],
   "source": [
    "#obj_list = bucket_txt_file_list(object_storage_client, namespace, bucket_name, None, '.txt')\n",
    "path2 = 'tenen-raw-data@' + namespace + bucket_dir['dec']\n",
    "objlist = fs.glob(path2)\n",
    "objlist"
   ]
  },
  {
   "cell_type": "code",
   "execution_count": 11,
   "id": "f8350d15",
   "metadata": {},
   "outputs": [],
   "source": [
    "client = Client(n_workers=mp.cpu_count(), memory_limit='8GB')"
   ]
  },
  {
   "cell_type": "code",
   "execution_count": 12,
   "id": "b6a72a97",
   "metadata": {},
   "outputs": [],
   "source": [
    "def read_json_objects(path):\n",
    "    jsonlines = []\n",
    "    with fs.open(path , 'r') as f:\n",
    "        jsonlines = f.readlines()\n",
    "    return jsonlines"
   ]
  },
  {
   "cell_type": "code",
   "execution_count": 13,
   "id": "9ff677a7",
   "metadata": {},
   "outputs": [],
   "source": [
    "def dask_bug_json_list(json_list, num_p):\n",
    "    return db.from_sequence(json_list, npartitions=num_p).map(json.loads)"
   ]
  },
  {
   "cell_type": "code",
   "execution_count": 14,
   "id": "2fbbf25a",
   "metadata": {},
   "outputs": [],
   "source": [
    "def dask_bug_read_json_text(obj, nspace):\n",
    "    path = 'tenen-raw-data@' + nspace + \"/\"\n",
    "    storage_opt = {\"config\": \"~/.apikey/config\"}\n",
    "    return db.read_text(path+obj, storage_options=storage_opt).map(json.loads)"
   ]
  },
  {
   "cell_type": "code",
   "execution_count": 15,
   "id": "c96a011a",
   "metadata": {},
   "outputs": [],
   "source": [
    "def general_json_to_df__1(dbug, **kwargs):\n",
    "    ddf = dbug.to_dataframe()\n",
    "    return ddf.compute()"
   ]
  },
  {
   "cell_type": "code",
   "execution_count": 16,
   "id": "450c912c",
   "metadata": {},
   "outputs": [],
   "source": [
    "def general_json_to_df__2(dbug, **kwargs):\n",
    "    extract_col = kwargs['col']\n",
    "    ddf = (dbug.pluck(extract_col)).to_dataframe()\n",
    "    df0 = ddf.compute()\n",
    "    df0.reset_index(inplace=True)\n",
    "    return df0.add_prefix(extract_col+'.')"
   ]
  },
  {
   "cell_type": "code",
   "execution_count": 17,
   "id": "2264f72b",
   "metadata": {},
   "outputs": [],
   "source": [
    "def parse_hits_column(x):\n",
    "    df = pd.DataFrame()\n",
    "    if(len(x['hits']) > 0):\n",
    "        df = pd.json_normalize(x,\n",
    "                               record_path='hits',\n",
    "                               record_prefix='hits.',\n",
    "                               meta=['fullVisitorId', 'visitStartTime']\n",
    "                               )\n",
    "    return df"
   ]
  },
  {
   "cell_type": "code",
   "execution_count": 18,
   "id": "5f6fb98f",
   "metadata": {},
   "outputs": [],
   "source": [
    "def parse_products_column(x):\n",
    "    df = pd.DataFrame()\n",
    "    if(len(x['hits']) > 0):\n",
    "        df = pd.json_normalize(x,\n",
    "                               record_path=['hits', 'product'],\n",
    "                               record_prefix='hits.product.',\n",
    "                               meta=['fullVisitorId', 'visitStartTime', ['hits', 'hitNumber']]\n",
    "                               )\n",
    "    return df"
   ]
  },
  {
   "cell_type": "code",
   "execution_count": 19,
   "id": "a5054861",
   "metadata": {},
   "outputs": [],
   "source": [
    "def put_file(src, namespace, target):\n",
    "    fs.put_file(src, 'oci://tenen-raw-data@'+namespace+target)"
   ]
  },
  {
   "cell_type": "code",
   "execution_count": 20,
   "id": "1d6899e7",
   "metadata": {},
   "outputs": [],
   "source": [
    "def check_col_types(df):\n",
    "    x = df.isna().any()\n",
    "    x.to_csv(\"/home/datascience/files/isna.csv\")\n",
    "    return dict(df.dtypes)"
   ]
  },
  {
   "cell_type": "code",
   "execution_count": 32,
   "id": "06d34ee7",
   "metadata": {},
   "outputs": [
    {
     "data": {
      "text/plain": [
       "93641"
      ]
     },
     "execution_count": 32,
     "metadata": {},
     "output_type": "execute_result"
    }
   ],
   "source": [
    "jsonobjs = []\n",
    "for obj in objlist:\n",
    "    jsonobjs = jsonobjs + read_json_objects(obj)\n",
    "len(jsonobjs)"
   ]
  },
  {
   "cell_type": "code",
   "execution_count": 33,
   "id": "f3f1abe9",
   "metadata": {},
   "outputs": [],
   "source": [
    "dbug = dask_bug_json_list(jsonobjs, mp.cpu_count())"
   ]
  },
  {
   "cell_type": "raw",
   "id": "905b6dfd",
   "metadata": {},
   "source": [
    "###########################\n",
    "# HIGH LEVEL DATA EXTRUCT #\n",
    "###########################"
   ]
  },
  {
   "cell_type": "code",
   "execution_count": null,
   "id": "99915302",
   "metadata": {},
   "outputs": [],
   "source": [
    "cols =  ['totals', 'trafficSource', 'device', 'geoNetwork', 'privacyInfo']\n",
    "df = general_json_to_df__1(dbug)\n",
    "df.reset_index(inplace=True)\n",
    "for c in cols:\n",
    "    df_tmp =  general_json_to_df__2(dbug, col=c)\n",
    "    df = pd.concat([df.drop(columns=[c]), df_tmp], axis=1)\n",
    "col='trafficSource.adwordsClickInfo'\n",
    "df0 = pd.json_normalize(df[col]).add_prefix(col+'.')\n",
    "df = pd.concat([df.drop(columns=[col]), df0], axis=1)\n",
    "df = df.drop(columns=['index', 'date', 'hits', 'customDimensions', 'totals.index', 'geoNetwork.index', 'trafficSource.index', 'device.index', 'privacyInfo.index'])\n",
    "df['visitStartTime'] = pd.to_datetime(df['visitStartTime'], unit='s')\n",
    "df.shape"
   ]
  },
  {
   "cell_type": "raw",
   "id": "743c73bc",
   "metadata": {},
   "source": [
    "# cast data types in columns #"
   ]
  },
  {
   "cell_type": "code",
   "execution_count": null,
   "id": "6ef32968",
   "metadata": {},
   "outputs": [],
   "source": [
    "df = df.replace([\"\", \"/\", \":\", \"(not set)\", \"UNKNOWN\"], \"0\").fillna(\"0\").astype(str)"
   ]
  },
  {
   "cell_type": "code",
   "execution_count": null,
   "id": "0a87c4d5",
   "metadata": {},
   "outputs": [],
   "source": [
    "df = df.dropna(how='all')\n",
    "df.shape"
   ]
  },
  {
   "cell_type": "code",
   "execution_count": null,
   "id": "02af0900",
   "metadata": {},
   "outputs": [],
   "source": [
    "df.head(2)"
   ]
  },
  {
   "cell_type": "raw",
   "id": "ad2c4a9d",
   "metadata": {},
   "source": [
    "# check for is NaN and columns types #"
   ]
  },
  {
   "cell_type": "code",
   "execution_count": null,
   "id": "071c22e9",
   "metadata": {},
   "outputs": [],
   "source": [
    "y = check_col_types(df)"
   ]
  },
  {
   "cell_type": "raw",
   "id": "2e8d5d71",
   "metadata": {},
   "source": [
    "# write to csv file #"
   ]
  },
  {
   "cell_type": "code",
   "execution_count": null,
   "id": "fcaebffb",
   "metadata": {},
   "outputs": [],
   "source": [
    "tfile = target_file['nov']\n",
    "path = f\"/home/datascience/files/{tfile}\" \n",
    "#target = 'oci://tenen-raw-data@'+namespace+'/products/'+ target_file['nov']\n",
    "#configf = {\"config\": \"~/.apikey/config\"}\n",
    "df.to_csv(path, index=False, encoding='utf-8')"
   ]
  },
  {
   "cell_type": "raw",
   "id": "874fd42c",
   "metadata": {},
   "source": [
    "##################\n",
    "# HITS DATAFRAME #\n",
    "##################"
   ]
  },
  {
   "cell_type": "code",
   "execution_count": 34,
   "id": "7ab76e35",
   "metadata": {},
   "outputs": [
    {
     "data": {
      "text/plain": [
       "(1831008, 74)"
      ]
     },
     "execution_count": 34,
     "metadata": {},
     "output_type": "execute_result"
    }
   ],
   "source": [
    "dbl = db.map(lambda x: parse_hits_column(x), dbug).compute()\n",
    "df0 = pd.concat(dbl)\n",
    "df0.shape"
   ]
  },
  {
   "cell_type": "code",
   "execution_count": 35,
   "id": "11276936",
   "metadata": {},
   "outputs": [],
   "source": [
    "df0['numOfProducts'] = df0.apply(lambda x : len(x['hits.product']), axis=1)\n",
    "df0['visitStartTime'] = pd.to_datetime(df0['visitStartTime'], unit='s')"
   ]
  },
  {
   "cell_type": "code",
   "execution_count": null,
   "id": "82fc453a",
   "metadata": {},
   "outputs": [],
   "source": [
    "#df0['startTime'] = pd.to_datetime(df0['hits.hour'].astype(str) + ':' + df0['hits.minute'].astype(str), format='%H:%M').dt.time"
   ]
  },
  {
   "cell_type": "code",
   "execution_count": 36,
   "id": "c5fac5d7",
   "metadata": {},
   "outputs": [],
   "source": [
    "df0 = df0.drop(columns=['hits.product', 'hits.promotion', 'hits.experiment', 'hits.publisher_infos',\n",
    "                        'hits.customVariables', 'hits.customDimensions', 'hits.customMetrics',\n",
    "                        'hits.hour', 'hits.minute'])"
   ]
  },
  {
   "cell_type": "code",
   "execution_count": 37,
   "id": "25a60bec",
   "metadata": {},
   "outputs": [],
   "source": [
    "df0 = df0.replace([\"\", \"/\", \":\", \"(not set)\", \"UNKNOWN\"], \"0\").fillna(\"0\").astype(str)"
   ]
  },
  {
   "cell_type": "code",
   "execution_count": 38,
   "id": "7e56a976",
   "metadata": {},
   "outputs": [
    {
     "data": {
      "text/plain": [
       "(1831008, 66)"
      ]
     },
     "execution_count": 38,
     "metadata": {},
     "output_type": "execute_result"
    }
   ],
   "source": [
    "df0.shape"
   ]
  },
  {
   "cell_type": "code",
   "execution_count": 39,
   "id": "0e404f83",
   "metadata": {},
   "outputs": [
    {
     "data": {
      "text/plain": [
       "Index(['hits.hitNumber', 'hits.time', 'hits.isInteraction', 'hits.isEntrance',\n",
       "       'hits.type', 'hits.dataSource', 'hits.uses_transient_token',\n",
       "       'hits.page.pagePath', 'hits.page.hostname', 'hits.page.pageTitle',\n",
       "       'hits.page.pagePathLevel1', 'hits.page.pagePathLevel2',\n",
       "       'hits.page.pagePathLevel3', 'hits.page.pagePathLevel4',\n",
       "       'hits.transaction.currencyCode', 'hits.item.currencyCode',\n",
       "       'hits.appInfo.screenName', 'hits.appInfo.landingScreenName',\n",
       "       'hits.appInfo.exitScreenName', 'hits.appInfo.screenDepth',\n",
       "       'hits.exceptionInfo.isFatal', 'hits.eCommerceAction.action_type',\n",
       "       'hits.eCommerceAction.step', 'hits.social.socialNetwork',\n",
       "       'hits.social.hasSocialSourceReferral',\n",
       "       'hits.social.socialInteractionNetworkAction',\n",
       "       'hits.contentGroup.contentGroup1', 'hits.contentGroup.contentGroup2',\n",
       "       'hits.contentGroup.contentGroup3', 'hits.contentGroup.contentGroup4',\n",
       "       'hits.contentGroup.contentGroup5',\n",
       "       'hits.contentGroup.previousContentGroup1',\n",
       "       'hits.contentGroup.previousContentGroup2',\n",
       "       'hits.contentGroup.previousContentGroup3',\n",
       "       'hits.contentGroup.previousContentGroup4',\n",
       "       'hits.contentGroup.previousContentGroup5',\n",
       "       'hits.contentGroup.contentGroupUniqueViews1',\n",
       "       'hits.eventInfo.eventCategory', 'hits.eventInfo.eventAction',\n",
       "       'hits.eventInfo.eventLabel', 'hits.latencyTracking.pageLoadSample',\n",
       "       'hits.latencyTracking.pageLoadTime',\n",
       "       'hits.latencyTracking.pageDownloadTime',\n",
       "       'hits.latencyTracking.redirectionTime',\n",
       "       'hits.latencyTracking.speedMetricsSample',\n",
       "       'hits.latencyTracking.domainLookupTime',\n",
       "       'hits.latencyTracking.serverConnectionTime',\n",
       "       'hits.latencyTracking.serverResponseTime',\n",
       "       'hits.latencyTracking.domLatencyMetricsSample',\n",
       "       'hits.latencyTracking.domInteractiveTime',\n",
       "       'hits.latencyTracking.domContentLoadedTime', 'hits.isExit',\n",
       "       'fullVisitorId', 'visitStartTime', 'hits.page.searchKeyword',\n",
       "       'hits.page.searchCategory', 'hits.referer',\n",
       "       'hits.transaction.transactionId', 'hits.transaction.transactionRevenue',\n",
       "       'hits.transaction.transactionShipping', 'hits.transaction.affiliation',\n",
       "       'hits.transaction.localTransactionRevenue',\n",
       "       'hits.transaction.localTransactionShipping',\n",
       "       'hits.transaction.transactionCoupon', 'hits.item.transactionId',\n",
       "       'numOfProducts'],\n",
       "      dtype='object')"
      ]
     },
     "execution_count": 39,
     "metadata": {},
     "output_type": "execute_result"
    }
   ],
   "source": [
    "df0.columns"
   ]
  },
  {
   "cell_type": "code",
   "execution_count": 29,
   "id": "68888ef2",
   "metadata": {},
   "outputs": [
    {
     "data": {
      "text/html": [
       "<div>\n",
       "<style scoped>\n",
       "    .dataframe tbody tr th:only-of-type {\n",
       "        vertical-align: middle;\n",
       "    }\n",
       "\n",
       "    .dataframe tbody tr th {\n",
       "        vertical-align: top;\n",
       "    }\n",
       "\n",
       "    .dataframe thead th {\n",
       "        text-align: right;\n",
       "    }\n",
       "</style>\n",
       "<table border=\"1\" class=\"dataframe\">\n",
       "  <thead>\n",
       "    <tr style=\"text-align: right;\">\n",
       "      <th></th>\n",
       "      <th>hits.hitNumber</th>\n",
       "      <th>hits.time</th>\n",
       "      <th>hits.isInteraction</th>\n",
       "      <th>hits.isEntrance</th>\n",
       "      <th>hits.type</th>\n",
       "      <th>hits.dataSource</th>\n",
       "      <th>hits.uses_transient_token</th>\n",
       "      <th>hits.page.pagePath</th>\n",
       "      <th>hits.page.hostname</th>\n",
       "      <th>hits.page.pageTitle</th>\n",
       "      <th>...</th>\n",
       "      <th>hits.referer</th>\n",
       "      <th>hits.transaction.transactionId</th>\n",
       "      <th>hits.transaction.transactionRevenue</th>\n",
       "      <th>hits.transaction.affiliation</th>\n",
       "      <th>hits.transaction.localTransactionRevenue</th>\n",
       "      <th>hits.transaction.transactionCoupon</th>\n",
       "      <th>hits.item.transactionId</th>\n",
       "      <th>hits.transaction.transactionShipping</th>\n",
       "      <th>hits.transaction.localTransactionShipping</th>\n",
       "      <th>numOfProducts</th>\n",
       "    </tr>\n",
       "  </thead>\n",
       "  <tbody>\n",
       "    <tr>\n",
       "      <th>495</th>\n",
       "      <td>496</td>\n",
       "      <td>5314381</td>\n",
       "      <td>True</td>\n",
       "      <td>0</td>\n",
       "      <td>EVENT</td>\n",
       "      <td>web</td>\n",
       "      <td>0</td>\n",
       "      <td>/ie/Product.aspx?p=1082</td>\n",
       "      <td>www.myka.com</td>\n",
       "      <td>Personalised Classic Name Necklace in Silver |...</td>\n",
       "      <td>...</td>\n",
       "      <td>0</td>\n",
       "      <td>0</td>\n",
       "      <td>0</td>\n",
       "      <td>0</td>\n",
       "      <td>0</td>\n",
       "      <td>0</td>\n",
       "      <td>0</td>\n",
       "      <td>0</td>\n",
       "      <td>0</td>\n",
       "      <td>0</td>\n",
       "    </tr>\n",
       "    <tr>\n",
       "      <th>496</th>\n",
       "      <td>497</td>\n",
       "      <td>5315253</td>\n",
       "      <td>True</td>\n",
       "      <td>0</td>\n",
       "      <td>EVENT</td>\n",
       "      <td>web</td>\n",
       "      <td>0</td>\n",
       "      <td>/ie/Product.aspx?p=1082</td>\n",
       "      <td>www.myka.com</td>\n",
       "      <td>Personalised Classic Name Necklace in Silver |...</td>\n",
       "      <td>...</td>\n",
       "      <td>0</td>\n",
       "      <td>0</td>\n",
       "      <td>0</td>\n",
       "      <td>0</td>\n",
       "      <td>0</td>\n",
       "      <td>0</td>\n",
       "      <td>0</td>\n",
       "      <td>0</td>\n",
       "      <td>0</td>\n",
       "      <td>0</td>\n",
       "    </tr>\n",
       "    <tr>\n",
       "      <th>497</th>\n",
       "      <td>498</td>\n",
       "      <td>5316106</td>\n",
       "      <td>True</td>\n",
       "      <td>0</td>\n",
       "      <td>EVENT</td>\n",
       "      <td>web</td>\n",
       "      <td>0</td>\n",
       "      <td>/ie/Product.aspx?p=1082</td>\n",
       "      <td>www.myka.com</td>\n",
       "      <td>Personalised Classic Name Necklace in Silver |...</td>\n",
       "      <td>...</td>\n",
       "      <td>0</td>\n",
       "      <td>0</td>\n",
       "      <td>0</td>\n",
       "      <td>0</td>\n",
       "      <td>0</td>\n",
       "      <td>0</td>\n",
       "      <td>0</td>\n",
       "      <td>0</td>\n",
       "      <td>0</td>\n",
       "      <td>0</td>\n",
       "    </tr>\n",
       "    <tr>\n",
       "      <th>498</th>\n",
       "      <td>499</td>\n",
       "      <td>5316883</td>\n",
       "      <td>True</td>\n",
       "      <td>0</td>\n",
       "      <td>EVENT</td>\n",
       "      <td>web</td>\n",
       "      <td>0</td>\n",
       "      <td>/ie/Product.aspx?p=1082</td>\n",
       "      <td>www.myka.com</td>\n",
       "      <td>Personalised Classic Name Necklace in Silver |...</td>\n",
       "      <td>...</td>\n",
       "      <td>0</td>\n",
       "      <td>0</td>\n",
       "      <td>0</td>\n",
       "      <td>0</td>\n",
       "      <td>0</td>\n",
       "      <td>0</td>\n",
       "      <td>0</td>\n",
       "      <td>0</td>\n",
       "      <td>0</td>\n",
       "      <td>0</td>\n",
       "    </tr>\n",
       "    <tr>\n",
       "      <th>499</th>\n",
       "      <td>500</td>\n",
       "      <td>5321062</td>\n",
       "      <td>True</td>\n",
       "      <td>0</td>\n",
       "      <td>EVENT</td>\n",
       "      <td>web</td>\n",
       "      <td>0</td>\n",
       "      <td>/ie/Product.aspx?p=1082</td>\n",
       "      <td>www.myka.com</td>\n",
       "      <td>Personalised Classic Name Necklace in Silver |...</td>\n",
       "      <td>...</td>\n",
       "      <td>0</td>\n",
       "      <td>0</td>\n",
       "      <td>0</td>\n",
       "      <td>0</td>\n",
       "      <td>0</td>\n",
       "      <td>0</td>\n",
       "      <td>0</td>\n",
       "      <td>0</td>\n",
       "      <td>0</td>\n",
       "      <td>0</td>\n",
       "    </tr>\n",
       "  </tbody>\n",
       "</table>\n",
       "<p>5 rows × 66 columns</p>\n",
       "</div>"
      ],
      "text/plain": [
       "    hits.hitNumber hits.time hits.isInteraction hits.isEntrance hits.type  \\\n",
       "495            496   5314381               True               0     EVENT   \n",
       "496            497   5315253               True               0     EVENT   \n",
       "497            498   5316106               True               0     EVENT   \n",
       "498            499   5316883               True               0     EVENT   \n",
       "499            500   5321062               True               0     EVENT   \n",
       "\n",
       "    hits.dataSource hits.uses_transient_token       hits.page.pagePath  \\\n",
       "495             web                         0  /ie/Product.aspx?p=1082   \n",
       "496             web                         0  /ie/Product.aspx?p=1082   \n",
       "497             web                         0  /ie/Product.aspx?p=1082   \n",
       "498             web                         0  /ie/Product.aspx?p=1082   \n",
       "499             web                         0  /ie/Product.aspx?p=1082   \n",
       "\n",
       "    hits.page.hostname                                hits.page.pageTitle  \\\n",
       "495       www.myka.com  Personalised Classic Name Necklace in Silver |...   \n",
       "496       www.myka.com  Personalised Classic Name Necklace in Silver |...   \n",
       "497       www.myka.com  Personalised Classic Name Necklace in Silver |...   \n",
       "498       www.myka.com  Personalised Classic Name Necklace in Silver |...   \n",
       "499       www.myka.com  Personalised Classic Name Necklace in Silver |...   \n",
       "\n",
       "     ... hits.referer hits.transaction.transactionId  \\\n",
       "495  ...            0                              0   \n",
       "496  ...            0                              0   \n",
       "497  ...            0                              0   \n",
       "498  ...            0                              0   \n",
       "499  ...            0                              0   \n",
       "\n",
       "    hits.transaction.transactionRevenue hits.transaction.affiliation  \\\n",
       "495                                   0                            0   \n",
       "496                                   0                            0   \n",
       "497                                   0                            0   \n",
       "498                                   0                            0   \n",
       "499                                   0                            0   \n",
       "\n",
       "    hits.transaction.localTransactionRevenue  \\\n",
       "495                                        0   \n",
       "496                                        0   \n",
       "497                                        0   \n",
       "498                                        0   \n",
       "499                                        0   \n",
       "\n",
       "    hits.transaction.transactionCoupon hits.item.transactionId  \\\n",
       "495                                  0                       0   \n",
       "496                                  0                       0   \n",
       "497                                  0                       0   \n",
       "498                                  0                       0   \n",
       "499                                  0                       0   \n",
       "\n",
       "    hits.transaction.transactionShipping  \\\n",
       "495                                    0   \n",
       "496                                    0   \n",
       "497                                    0   \n",
       "498                                    0   \n",
       "499                                    0   \n",
       "\n",
       "    hits.transaction.localTransactionShipping numOfProducts  \n",
       "495                                         0             0  \n",
       "496                                         0             0  \n",
       "497                                         0             0  \n",
       "498                                         0             0  \n",
       "499                                         0             0  \n",
       "\n",
       "[5 rows x 66 columns]"
      ]
     },
     "execution_count": 29,
     "metadata": {},
     "output_type": "execute_result"
    }
   ],
   "source": [
    "df0.tail(5)"
   ]
  },
  {
   "cell_type": "code",
   "execution_count": null,
   "id": "a4ec3e1b",
   "metadata": {},
   "outputs": [],
   "source": [
    "check_col_types(df0)"
   ]
  },
  {
   "cell_type": "code",
   "execution_count": 40,
   "id": "0776552e",
   "metadata": {},
   "outputs": [],
   "source": [
    "tfile = hits_file['dec']\n",
    "path = f\"/home/datascience/files/{tfile}\"\n",
    "df0.to_csv(path, index=False, encoding='utf-8')"
   ]
  },
  {
   "cell_type": "raw",
   "id": "2050f401",
   "metadata": {},
   "source": [
    "######################\n",
    "# PRODUCTS DATAFRAME #\n",
    "######################"
   ]
  },
  {
   "cell_type": "code",
   "execution_count": null,
   "id": "8edd6878",
   "metadata": {},
   "outputs": [],
   "source": [
    "dbp = db.map(lambda x: parse_products_column(x), dbug).compute()"
   ]
  },
  {
   "cell_type": "code",
   "execution_count": null,
   "id": "ed50566e",
   "metadata": {},
   "outputs": [],
   "source": [
    "df1 = pd.concat(dbp)\n",
    "df1['visitStartTime'] = pd.to_datetime(df1['visitStartTime'], unit='s')\n",
    "df1 = df1.drop(columns=['hits.product.customMetrics'])\n",
    "df1.shape"
   ]
  },
  {
   "cell_type": "code",
   "execution_count": null,
   "id": "5e44be70",
   "metadata": {},
   "outputs": [],
   "source": [
    "df1.columns"
   ]
  },
  {
   "cell_type": "code",
   "execution_count": null,
   "id": "0d04f737",
   "metadata": {},
   "outputs": [],
   "source": [
    "df1['hits.product.customDimensions'] = df1['hits.product.customDimensions'].apply(lambda y: [{'index':'0','value':'None'}] if len(y)==0 else y)"
   ]
  },
  {
   "cell_type": "code",
   "execution_count": null,
   "id": "3b7297c1",
   "metadata": {},
   "outputs": [],
   "source": [
    "df1 = df1.replace([\"\", \"/\", \":\", \"(not set)\", \"UNKNOWN\"], \"0\").fillna(\"0\").astype(str)\n",
    "df1.head(3)"
   ]
  },
  {
   "cell_type": "code",
   "execution_count": null,
   "id": "19db939f",
   "metadata": {},
   "outputs": [],
   "source": [
    "tfile = products_file['dec']\n",
    "path = f\"/home/datascience/files/{tfile}\"\n",
    "df1.to_csv(path, index=False, encoding='utf-8')"
   ]
  },
  {
   "cell_type": "code",
   "execution_count": null,
   "id": "2fee53ad",
   "metadata": {},
   "outputs": [],
   "source": [
    "#fs.put_file(path+tfile, 'oci://tenen-raw-data@'+namespace+'/products/'+tfile)"
   ]
  }
 ],
 "metadata": {
  "kernelspec": {
   "display_name": "Python [conda env:generalmachinelearningforcpusvyes]",
   "language": "python",
   "name": "conda-env-generalmachinelearningforcpusvyes-py"
  },
  "language_info": {
   "codemirror_mode": {
    "name": "ipython",
    "version": 3
   },
   "file_extension": ".py",
   "mimetype": "text/x-python",
   "name": "python",
   "nbconvert_exporter": "python",
   "pygments_lexer": "ipython3",
   "version": "3.6.11"
  }
 },
 "nbformat": 4,
 "nbformat_minor": 5
}
