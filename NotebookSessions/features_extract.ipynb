{
 "cells": [
  {
   "cell_type": "code",
   "execution_count": null,
   "metadata": {},
   "outputs": [],
   "source": [
    "import numpy as np\n",
    "import pandas as pd\n",
    "import json\n",
    "import codecs\n",
    "import os\n",
    "import sys\n",
    "import multiprocessing as mp\n",
    "import datetime as dt\n",
    "import oci\n",
    "import ads"
   ]
  },
  {
   "cell_type": "markdown",
   "metadata": {},
   "source": [
    "### read and concat 3 pdf files into one dataframe "
   ]
  },
  {
   "cell_type": "code",
   "execution_count": null,
   "metadata": {},
   "outputs": [],
   "source": [
    "bucket_name = \"tenen-raw-data\"\n",
    "folder_name = \"products\"\n",
    "namespace = \"lrhwvlagph9z\"\n",
    "months = ['oct', 'nov', 'dec']"
   ]
  },
  {
   "cell_type": "code",
   "execution_count": null,
   "metadata": {},
   "outputs": [],
   "source": [
    "target = 'tenen_high_lvl_oct.csv'\n",
    "path = f'/Users/smuel/Documents/Louie7e/TenenGroup/Products/{target}'\n",
    "df = pd.read_csv(path,low_memory=False)"
   ]
  },
  {
   "cell_type": "code",
   "execution_count": null,
   "metadata": {},
   "outputs": [],
   "source": [
    "prefix = 'high_lvl'\n",
    "dfs = []\n",
    "for month in months:\n",
    "    tfile = f\"tenen_{prefix}_{month}.csv\"\n",
    "    dfs.append(pd.read_csv(f\"oci://{bucket_name}@{namespace}/{folder_name}/{tfile}\", storage_options={\"config\": \"~/.apikey/config\"},low_memory=False))\n",
    "df = pd.concat(dfs, ignore_index=True).fillna(\"0\")"
   ]
  },
  {
   "cell_type": "code",
   "execution_count": null,
   "metadata": {},
   "outputs": [],
   "source": [
    "df = df.replace([\"\", \"/\", \":\", \"(not set)\", \"UNKNOWN\"], \"0\").fillna(\"0\").astype(str)"
   ]
  },
  {
   "cell_type": "markdown",
   "metadata": {},
   "source": [
    "### run top_level feature list on dataframe"
   ]
  },
  {
   "cell_type": "code",
   "execution_count": null,
   "metadata": {},
   "outputs": [],
   "source": [
    "sys.path.append('../')\n",
    "from generate_data_extraction.features_functions import *"
   ]
  },
  {
   "cell_type": "code",
   "execution_count": null,
   "metadata": {},
   "outputs": [],
   "source": []
  }
 ],
 "metadata": {
  "kernelspec": {
   "display_name": "Python 3",
   "language": "python",
   "name": "python3"
  },
  "language_info": {
   "codemirror_mode": {
    "name": "ipython",
    "version": 3
   },
   "file_extension": ".py",
   "mimetype": "text/x-python",
   "name": "python",
   "nbconvert_exporter": "python",
   "pygments_lexer": "ipython3",
   "version": "3.8.6"
  }
 },
 "nbformat": 4,
 "nbformat_minor": 4
}
